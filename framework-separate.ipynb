{
 "cells": [
  {
   "cell_type": "markdown",
   "metadata": {},
   "source": [
    "# \\<Title\\>"
   ]
  },
  {
   "cell_type": "markdown",
   "metadata": {},
   "source": [
    "Imports"
   ]
  },
  {
   "cell_type": "code",
   "execution_count": 1,
   "metadata": {},
   "outputs": [],
   "source": [
    "import os\n",
    "import sys\n",
    "import datetime\n",
    "import dill as pickle\n",
    "import matplotlib.pyplot as plt"
   ]
  },
  {
   "cell_type": "markdown",
   "metadata": {},
   "source": [
    "Import custom libraries"
   ]
  },
  {
   "cell_type": "code",
   "execution_count": 2,
   "metadata": {},
   "outputs": [],
   "source": [
    "# original py files\n",
    "sys.path.insert(1, r'W:\\OneDrive - TU Eindhoven\\DS&AI\\2024-2025\\2024-2025 q1\\2AMM20 - Research Topics in Data Mining\\Research Project Phase\\new_code\\methods')\n",
    "\n",
    "from data_methods import getData, standardize\n",
    "from dimensionality_reduction import reduce_dimensionality,reduce_with\n",
    "from beamSearch import EMM, as_string\n",
    "from adjPysubgroup import adjustedBestFirstSearch, adjustedDFS, adjustedApriori\n",
    "from qualityMeasures import calc_result_bs, calc_result_ps"
   ]
  },
  {
   "cell_type": "markdown",
   "metadata": {},
   "source": [
    "set variables"
   ]
  },
  {
   "cell_type": "code",
   "execution_count": 3,
   "metadata": {},
   "outputs": [],
   "source": [
    "dataset_name = 'Soybean'\n",
    "reduction_method = 'PCA' # choose from 'PCA' or 'auto_encoder' (others were not implemented yet)\n",
    "sd_results_path = r'sd_results'"
   ]
  },
  {
   "cell_type": "markdown",
   "metadata": {},
   "source": [
    "## 1. Data"
   ]
  },
  {
   "cell_type": "markdown",
   "metadata": {},
   "source": [
    "Open the dataset with name ```dataset_name```."
   ]
  },
  {
   "cell_type": "code",
   "execution_count": 4,
   "metadata": {},
   "outputs": [],
   "source": [
    "df, cat, num, features = getData(dataset_name)\n",
    "df_original = df.copy()"
   ]
  },
  {
   "cell_type": "markdown",
   "metadata": {},
   "source": [
    "Standardize the DataFrame <font color='red'>move to reduce_dimensionality method??</font>"
   ]
  },
  {
   "cell_type": "code",
   "execution_count": 5,
   "metadata": {},
   "outputs": [],
   "source": [
    "# standardize\n",
    "# df_std = standardize(df,num) # ? MOVE TO reduce_dimensionality FUNCTION??"
   ]
  },
  {
   "cell_type": "markdown",
   "metadata": {},
   "source": [
    "## 2. Reduce Dimensionality"
   ]
  },
  {
   "cell_type": "markdown",
   "metadata": {},
   "source": [
    "### 2.1 Find Optimal Number of Reduced Features"
   ]
  },
  {
   "cell_type": "markdown",
   "metadata": {},
   "source": [
    "Set lower and upper bound estimates for the number of features "
   ]
  },
  {
   "cell_type": "code",
   "execution_count": 6,
   "metadata": {},
   "outputs": [],
   "source": [
    "l_est, r_est = 2, 12"
   ]
  },
  {
   "cell_type": "markdown",
   "metadata": {},
   "source": [
    "Compare the <font color='red'>MSE</font> of performing dimensionality reduction to different numbers of features."
   ]
  },
  {
   "cell_type": "code",
   "execution_count": 7,
   "metadata": {},
   "outputs": [
    {
     "data": {
      "image/png": "[encoded data removed]",
      "text/plain": [
       "<Figure size 640x480 with 1 Axes>"
      ]
     },
     "metadata": {},
     "output_type": "display_data"
    },
    {
     "data": {
      "text/plain": [
       "1.083409"
      ]
     },
     "execution_count": 7,
     "metadata": {},
     "output_type": "execute_result"
    }
   ],
   "source": [
    "t1 = datetime.datetime.now()\n",
    "mseList = []\n",
    "\n",
    "for i in range(l_est, r_est+1):\n",
    "\n",
    "    df_en,mse = reduce_dimensionality(\n",
    "                    data=df,\n",
    "                    reduction_method=reduction_method,\n",
    "                    catColumns=cat,\n",
    "                    numColumns=num, \n",
    "                    nFeatures=i,\n",
    "                    nEpochs=100\n",
    "                )\n",
    "\n",
    "    mseList.append(mse)\n",
    "t2 = datetime.datetime.now()\n",
    "\n",
    "plt.plot([i for i in range(l_est, r_est+1)], mseList)\n",
    "plt.xlabel(\"Nr of Features\") # ! new\n",
    "plt.ylabel(\"MSE\") # ! new\n",
    "plt.show()\n",
    "\n",
    "running_time = t2-t1\n",
    "running_time.total_seconds()"
   ]
  },
  {
   "cell_type": "markdown",
   "metadata": {},
   "source": [
    "From the results we can conclude that the optimal number of reduced features is ... "
   ]
  },
  {
   "cell_type": "code",
   "execution_count": 8,
   "metadata": {},
   "outputs": [],
   "source": [
    "optimal_nr_features = 6"
   ]
  },
  {
   "cell_type": "markdown",
   "metadata": {},
   "source": [
    "### 2.2 reduce"
   ]
  },
  {
   "cell_type": "code",
   "execution_count": 9,
   "metadata": {},
   "outputs": [
    {
     "data": {
      "text/html": [
       "<div>\n",
       "<style scoped>\n",
       "    .dataframe tbody tr th:only-of-type {\n",
       "        vertical-align: middle;\n",
       "    }\n",
       "\n",
       "    .dataframe tbody tr th {\n",
       "        vertical-align: top;\n",
       "    }\n",
       "\n",
       "    .dataframe thead th {\n",
       "        text-align: right;\n",
       "    }\n",
       "</style>\n",
       "<table border=\"1\" class=\"dataframe\">\n",
       "  <thead>\n",
       "    <tr style=\"text-align: right;\">\n",
       "      <th></th>\n",
       "      <th>target</th>\n",
       "      <th>PC1</th>\n",
       "      <th>PC2</th>\n",
       "      <th>PC3</th>\n",
       "      <th>PC4</th>\n",
       "      <th>PC5</th>\n",
       "      <th>PC6</th>\n",
       "    </tr>\n",
       "  </thead>\n",
       "  <tbody>\n",
       "    <tr>\n",
       "      <th>154</th>\n",
       "      <td>0</td>\n",
       "      <td>0.051935</td>\n",
       "      <td>3.174248</td>\n",
       "      <td>0.469897</td>\n",
       "      <td>-1.655552</td>\n",
       "      <td>4.533277</td>\n",
       "      <td>-1.673531</td>\n",
       "    </tr>\n",
       "    <tr>\n",
       "      <th>192</th>\n",
       "      <td>1</td>\n",
       "      <td>-3.605897</td>\n",
       "      <td>-0.279056</td>\n",
       "      <td>-0.511507</td>\n",
       "      <td>-0.818084</td>\n",
       "      <td>0.229346</td>\n",
       "      <td>-0.973856</td>\n",
       "    </tr>\n",
       "    <tr>\n",
       "      <th>183</th>\n",
       "      <td>1</td>\n",
       "      <td>-3.964346</td>\n",
       "      <td>-0.461368</td>\n",
       "      <td>0.394628</td>\n",
       "      <td>1.153412</td>\n",
       "      <td>-1.226723</td>\n",
       "      <td>-1.227993</td>\n",
       "    </tr>\n",
       "    <tr>\n",
       "      <th>128</th>\n",
       "      <td>0</td>\n",
       "      <td>-3.563044</td>\n",
       "      <td>-0.486297</td>\n",
       "      <td>1.320642</td>\n",
       "      <td>1.383487</td>\n",
       "      <td>2.262401</td>\n",
       "      <td>1.602725</td>\n",
       "    </tr>\n",
       "    <tr>\n",
       "      <th>219</th>\n",
       "      <td>1</td>\n",
       "      <td>-3.992446</td>\n",
       "      <td>-0.081877</td>\n",
       "      <td>-1.414476</td>\n",
       "      <td>0.575523</td>\n",
       "      <td>-0.740429</td>\n",
       "      <td>0.434276</td>\n",
       "    </tr>\n",
       "  </tbody>\n",
       "</table>\n",
       "</div>"
      ],
      "text/plain": [
       "     target       PC1       PC2       PC3       PC4       PC5       PC6\n",
       "154       0  0.051935  3.174248  0.469897 -1.655552  4.533277 -1.673531\n",
       "192       1 -3.605897 -0.279056 -0.511507 -0.818084  0.229346 -0.973856\n",
       "183       1 -3.964346 -0.461368  0.394628  1.153412 -1.226723 -1.227993\n",
       "128       0 -3.563044 -0.486297  1.320642  1.383487  2.262401  1.602725\n",
       "219       1 -3.992446 -0.081877 -1.414476  0.575523 -0.740429  0.434276"
      ]
     },
     "execution_count": 9,
     "metadata": {},
     "output_type": "execute_result"
    }
   ],
   "source": [
    "df_en,_ = reduce_dimensionality(\n",
    "            data=df,\n",
    "            reduction_method=reduction_method,\n",
    "            catColumns=cat,\n",
    "            numColumns=num, \n",
    "            nFeatures=optimal_nr_features,\n",
    "            nEpochs=100\n",
    "        )\n",
    "\n",
    "df_en.sample(5)"
   ]
  },
  {
   "cell_type": "markdown",
   "metadata": {},
   "source": [
    "## 3. Subgroup Discovery\n",
    "Run the subgroup discovery algorithms on the dataset."
   ]
  },
  {
   "cell_type": "markdown",
   "metadata": {},
   "source": [
    "### 3.1 Best First Search"
   ]
  },
  {
   "cell_type": "code",
   "execution_count": 10,
   "metadata": {},
   "outputs": [],
   "source": [
    "bfs_results = {}"
   ]
  },
  {
   "cell_type": "markdown",
   "metadata": {},
   "source": [
    "Find Subgroups"
   ]
  },
  {
   "cell_type": "code",
   "execution_count": 11,
   "metadata": {},
   "outputs": [],
   "source": [
    "t1 = datetime.datetime.now()\n",
    "results_df_n = adjustedBestFirstSearch(df)\n",
    "results_df_n['subgroup'] = results_df_n['subgroup'].apply(lambda x: str(x))[0]\n",
    "t2 = datetime.datetime.now()\n",
    "running_time = t2-t1\n",
    "\n",
    "bfs_results['df']=df\n",
    "bfs_results['df_results']=results_df_n\n",
    "bfs_results['df_running_time']=running_time"
   ]
  },
  {
   "cell_type": "code",
   "execution_count": 12,
   "metadata": {},
   "outputs": [],
   "source": [
    "t1 = datetime.datetime.now()\n",
    "results_df_en = adjustedBestFirstSearch(df_en)\n",
    "results_df_en['subgroup'] = results_df_en['subgroup'].apply(lambda x: str(x))[0]\n",
    "t2 = datetime.datetime.now()\n",
    "running_time = t2-t1\n",
    "\n",
    "bfs_results['df_en']=df_en\n",
    "bfs_results['df_en_results']=results_df_en\n",
    "bfs_results['df_en_running_time']=running_time"
   ]
  },
  {
   "cell_type": "markdown",
   "metadata": {},
   "source": [
    "Save subgroups"
   ]
  },
  {
   "cell_type": "code",
   "execution_count": 13,
   "metadata": {},
   "outputs": [],
   "source": [
    "now = datetime.datetime.now().strftime(\"%d-%m-%Y-%H-%M\")\n",
    "bfs_file_name = f'bfs-results-{now}.pkl'\n",
    "with open(os.path.join(sd_results_path,bfs_file_name),'wb') as f:\n",
    "    pickle.dump(bfs_results,f)"
   ]
  },
  {
   "cell_type": "markdown",
   "metadata": {},
   "source": [
    "Analyze found subgroups"
   ]
  },
  {
   "cell_type": "code",
   "execution_count": 14,
   "metadata": {},
   "outputs": [
    {
     "name": "stdout",
     "output_type": "stream",
     "text": [
      "coverage auto-encoding: 52, (0.19548872180451127)\n",
      "coverage no auto-encoding: 135, (0.5075187969924813)\n",
      "# rows added in subgroups: 8 (0.03007518796992481)\n",
      "# rows no longer in subgroups: 91, (0.34210526315789475)\n",
      "average subgroup size auto encoded: 52.0\n",
      "average subgroup size no auto encoding: 135.0\n",
      "WRACC auto-encoding: Max: 0.07179603143196338, Mean: 0.022610944654870263\n",
      "WRACC no auto-encoding: Max: 0.24068630222171972, Mean: 0.16175730680083666\n"
     ]
    },
    {
     "data": {
      "image/png": "[encoded data removed]",
      "text/plain": [
       "<Figure size 640x480 with 1 Axes>"
      ]
     },
     "metadata": {},
     "output_type": "display_data"
    },
    {
     "data": {
      "image/png": "[encoded data removed]",
      "text/plain": [
       "<Figure size 640x480 with 1 Axes>"
      ]
     },
     "metadata": {},
     "output_type": "display_data"
    }
   ],
   "source": [
    "# Loading the object using dill\n",
    "# with open(os.path.join(sd_results_path,bfs_file_name), 'rb') as f:\n",
    "#     loaded_dict = pickle.load(f)\n",
    "\n",
    "calc_result_ps(df_en, df, results_df_en, results_df_n,reduction_method)"
   ]
  },
  {
   "cell_type": "markdown",
   "metadata": {},
   "source": [
    "### 3.2 Beam Search"
   ]
  },
  {
   "cell_type": "code",
   "execution_count": 15,
   "metadata": {},
   "outputs": [],
   "source": [
    "# bs_results = {}"
   ]
  },
  {
   "cell_type": "markdown",
   "metadata": {},
   "source": [
    "Find subgroups"
   ]
  },
  {
   "cell_type": "code",
   "execution_count": 16,
   "metadata": {},
   "outputs": [],
   "source": [
    "# t1 = datetime.datetime.now()\n",
    "# results_df_bs = EMM(100, 3, 100, [], df_original, features, 'target', ensure_diversity=True)\n",
    "# t2 = datetime.datetime.now()\n",
    "# bs_running_time = t2-t1\n",
    "# bs_running_time\n",
    "\n",
    "# bs_results['df']=df\n",
    "# bs_results['df_results']=results_df_bs\n",
    "# bs_results['df_running_time']=bs_running_time"
   ]
  },
  {
   "cell_type": "code",
   "execution_count": 17,
   "metadata": {},
   "outputs": [],
   "source": [
    "# t1 = datetime.datetime.now()\n",
    "# features_en = [col for col in df_en.columns if col != 'target']\n",
    "# results_bs_df_en = EMM(100, 3, 100, [], df_en, features_en, 'target', ensure_diversity=True,prnt=False)\n",
    "# t2 = datetime.datetime.now()\n",
    "# bs_en_running_time = t2-t1\n",
    "# bs_en_running_time\n",
    "\n",
    "# bs_results['df_en']=df_en\n",
    "# bs_results['df_en_results']=results_bs_df_en\n",
    "# bs_results['df_en_running_time']=bs_en_running_time"
   ]
  },
  {
   "cell_type": "markdown",
   "metadata": {},
   "source": [
    "Save Subgroups"
   ]
  },
  {
   "cell_type": "code",
   "execution_count": 18,
   "metadata": {},
   "outputs": [],
   "source": [
    "# now = datetime.datetime.now().strftime(\"%d-%m-%Y-%H-%M\")\n",
    "# bs_file_name = f'bs-results-{now}.pkl'\n",
    "# with open(os.path.join(sd_results_path,bs_file_name),'wb') as f:\n",
    "#     pickle.dump(bs_results,f)"
   ]
  },
  {
   "cell_type": "markdown",
   "metadata": {},
   "source": [
    "Analyze Subgroups"
   ]
  },
  {
   "cell_type": "code",
   "execution_count": 19,
   "metadata": {},
   "outputs": [],
   "source": [
    "# # Loading the object using dill\n",
    "# # with open(os.path.join(sd_results_path,bs_file_name), 'rb') as f:\n",
    "# #     loaded_dict = pickle.load(f)\n",
    "\n",
    "# subgroups_n = [i for i in results_df_bs.get_values()]\n",
    "# subgroups_en = [i for i in results_bs_df_en.get_values()]\n",
    "\n",
    "# calc_result_bs(df_en, df, subgroups_en, subgroups_n,reduction_method)"
   ]
  },
  {
   "cell_type": "markdown",
   "metadata": {},
   "source": [
    "### 3.3 Depth-First Search"
   ]
  },
  {
   "cell_type": "code",
   "execution_count": 20,
   "metadata": {},
   "outputs": [],
   "source": [
    "dfs_results = {}"
   ]
  },
  {
   "cell_type": "markdown",
   "metadata": {},
   "source": [
    "Find Subgroups"
   ]
  },
  {
   "cell_type": "code",
   "execution_count": 21,
   "metadata": {},
   "outputs": [],
   "source": [
    "t1 = datetime.datetime.now()\n",
    "results_dfs_df = adjustedDFS(df)\n",
    "results_dfs_df['subgroup'] = results_dfs_df['subgroup'].apply(lambda x: str(x))[0]\n",
    "t2 = datetime.datetime.now()\n",
    "dfs_df_running_time = t2-t1\n",
    "\n",
    "dfs_results['df']=df\n",
    "dfs_results['df_results']=results_dfs_df\n",
    "dfs_results['df_running_time']=dfs_df_running_time"
   ]
  },
  {
   "cell_type": "code",
   "execution_count": 22,
   "metadata": {},
   "outputs": [],
   "source": [
    "t1 = datetime.datetime.now()\n",
    "results_dfs_df_en = adjustedBestFirstSearch(df_en)\n",
    "results_dfs_df_en['subgroup'] = results_dfs_df_en['subgroup'].apply(lambda x: str(x))[0]\n",
    "t2 = datetime.datetime.now()\n",
    "dfs_df_en_running_time = t2-t1\n",
    "\n",
    "dfs_results['df_en']=df_en\n",
    "dfs_results['df_en_results']=results_dfs_df_en\n",
    "dfs_results['df_en_running_time']=dfs_df_en_running_time"
   ]
  },
  {
   "cell_type": "markdown",
   "metadata": {},
   "source": [
    "Save Subgroups"
   ]
  },
  {
   "cell_type": "code",
   "execution_count": 23,
   "metadata": {},
   "outputs": [],
   "source": [
    "now = datetime.datetime.now().strftime(\"%d-%m-%Y-%H-%M\")\n",
    "dfs_file_name = f'dfs-results-{now}.pkl'\n",
    "with open(os.path.join(sd_results_path,dfs_file_name),'wb') as f:\n",
    "    pickle.dump(dfs_results,f)"
   ]
  },
  {
   "cell_type": "markdown",
   "metadata": {},
   "source": [
    "Analyze Subgroups"
   ]
  },
  {
   "cell_type": "code",
   "execution_count": 24,
   "metadata": {},
   "outputs": [
    {
     "name": "stdout",
     "output_type": "stream",
     "text": [
      "coverage auto-encoding: 52, (0.19548872180451127)\n",
      "coverage no auto-encoding: 0, (0.0)\n",
      "# rows added in subgroups: 52 (0.19548872180451127)\n",
      "# rows no longer in subgroups: 0, (0.0)\n",
      "average subgroup size auto encoded: 52.0\n",
      "average subgroup size no auto encoding: 0.0\n",
      "WRACC auto-encoding: Max: 0.07179603143196338, Mean: 0.025103454124031886\n",
      "WRACC no auto-encoding: Max: 0.24987280230651815, Mean: 0.18162530386115666\n"
     ]
    },
    {
     "data": {
      "image/png": "[encoded data removed]",
      "text/plain": [
       "<Figure size 640x480 with 1 Axes>"
      ]
     },
     "metadata": {},
     "output_type": "display_data"
    },
    {
     "data": {
      "image/png": "[encoded data removed]",
      "text/plain": [
       "<Figure size 640x480 with 1 Axes>"
      ]
     },
     "metadata": {},
     "output_type": "display_data"
    }
   ],
   "source": [
    "# Loading the object using dill\n",
    "# with open(os.path.join(sd_results_path,dfs_file_name), 'rb') as f:\n",
    "#     loaded_dict = pickle.load(f)\n",
    "\n",
    "calc_result_ps(df_en, df, results_dfs_df_en, results_dfs_df,reduction_method)"
   ]
  },
  {
   "cell_type": "markdown",
   "metadata": {},
   "source": [
    "### 3.4 Apriori"
   ]
  },
  {
   "cell_type": "code",
   "execution_count": 25,
   "metadata": {},
   "outputs": [],
   "source": [
    "apri_results = {}"
   ]
  },
  {
   "cell_type": "markdown",
   "metadata": {},
   "source": [
    "Find Subgroups"
   ]
  },
  {
   "cell_type": "code",
   "execution_count": 26,
   "metadata": {},
   "outputs": [
    {
     "name": "stdout",
     "output_type": "stream",
     "text": [
      "Apriori: Using numba for speedup\n",
      "76\n",
      "76 int32 int64\n"
     ]
    },
    {
     "name": "stderr",
     "output_type": "stream",
     "text": [
      "w:\\Users\\wfeij\\anaconda3\\Lib\\site-packages\\pysubgroup\\binary_target.py:356: RuntimeWarning: invalid value encountered in divide\n",
      "  p_subgroup = np.divide(positives_subgroup, instances_subgroup)\n"
     ]
    }
   ],
   "source": [
    "t1 = datetime.datetime.now()\n",
    "results_df_apri = adjustedApriori(df)\n",
    "results_df_apri['subgroup'] = results_df_apri['subgroup'].apply(lambda x: str(x))[0]\n",
    "t2 = datetime.datetime.now()\n",
    "running_time_df_apri = t2-t1\n",
    "\n",
    "apri_results['df']=df\n",
    "apri_results['df_results']=results_df_apri\n",
    "apri_results['df_running_time']=running_time_df_apri"
   ]
  },
  {
   "cell_type": "code",
   "execution_count": 27,
   "metadata": {},
   "outputs": [
    {
     "name": "stdout",
     "output_type": "stream",
     "text": [
      "Apriori: Using numba for speedup\n",
      "31\n",
      "31 int32 int64\n"
     ]
    },
    {
     "name": "stderr",
     "output_type": "stream",
     "text": [
      "w:\\Users\\wfeij\\anaconda3\\Lib\\site-packages\\pysubgroup\\binary_target.py:356: RuntimeWarning: invalid value encountered in divide\n",
      "  p_subgroup = np.divide(positives_subgroup, instances_subgroup)\n"
     ]
    }
   ],
   "source": [
    "t1 = datetime.datetime.now()\n",
    "results_df_apri_en = adjustedApriori(df_en)\n",
    "results_df_apri_en['subgroup'] = results_df_apri_en['subgroup'].apply(lambda x: str(x))[0]\n",
    "t2 = datetime.datetime.now()\n",
    "running_time_df_en_apri = t2-t1\n",
    "\n",
    "apri_results['df_en']=df_en\n",
    "apri_results['df_en_results']=results_df_apri_en\n",
    "apri_results['df_en_running_time']=running_time_df_en_apri"
   ]
  },
  {
   "cell_type": "markdown",
   "metadata": {},
   "source": [
    "Save Subgroups"
   ]
  },
  {
   "cell_type": "code",
   "execution_count": 28,
   "metadata": {},
   "outputs": [],
   "source": [
    "now = datetime.datetime.now().strftime(\"%d-%m-%Y-%H-%M\")\n",
    "apri_file_name = f'apri-results-{now}.pkl'\n",
    "with open(os.path.join(sd_results_path,apri_file_name),'wb') as f:\n",
    "    pickle.dump(apri_results,f)"
   ]
  },
  {
   "cell_type": "markdown",
   "metadata": {},
   "source": [
    "Analyze Subgroups"
   ]
  },
  {
   "cell_type": "code",
   "execution_count": 29,
   "metadata": {},
   "outputs": [
    {
     "name": "stdout",
     "output_type": "stream",
     "text": [
      "coverage auto-encoding: 52, (0.19548872180451127)\n",
      "coverage no auto-encoding: 145, (0.5451127819548872)\n",
      "# rows added in subgroups: 6 (0.022556390977443608)\n",
      "# rows no longer in subgroups: 99, (0.37218045112781956)\n",
      "average subgroup size auto encoded: 52.0\n",
      "average subgroup size no auto encoding: 145.0\n",
      "WRACC auto-encoding: Max: 0.07179603143196338, Mean: 5.204170427930421e-18\n",
      "WRACC no auto-encoding: Max: 0.2223133020521228, Mean: 9.063045098980869e-18\n"
     ]
    },
    {
     "data": {
      "image/png": "[encoded data removed]",
      "text/plain": [
       "<Figure size 640x480 with 1 Axes>"
      ]
     },
     "metadata": {},
     "output_type": "display_data"
    },
    {
     "data": {
      "image/png": "[encoded data removed]",
      "text/plain": [
       "<Figure size 640x480 with 1 Axes>"
      ]
     },
     "metadata": {},
     "output_type": "display_data"
    }
   ],
   "source": [
    "# Loading the object using dill\n",
    "# with open(os.path.join(sd_results_path,dfs_file_name), 'rb') as f:\n",
    "#     loaded_dict = pickle.load(f)\n",
    "\n",
    "calc_result_ps(df_en, df, results_df_apri_en, results_df_apri,reduction_method)"
   ]
  },
  {
   "cell_type": "markdown",
   "metadata": {},
   "source": [
    "### 4. Interpretability Measures"
   ]
  },
  {
   "cell_type": "code",
   "execution_count": 30,
   "metadata": {},
   "outputs": [
    {
     "data": {
      "text/plain": [
       "Ellipsis"
      ]
     },
     "execution_count": 30,
     "metadata": {},
     "output_type": "execute_result"
    }
   ],
   "source": [
    "..."
   ]
  }
 ],
 "metadata": {
  "kernelspec": {
   "display_name": "base",
   "language": "python",
   "name": "python3"
  },
  "language_info": {
   "codemirror_mode": {
    "name": "ipython",
    "version": 3
   },
   "file_extension": ".py",
   "mimetype": "text/x-python",
   "name": "python",
   "nbconvert_exporter": "python",
   "pygments_lexer": "ipython3",
   "version": "3.12.4"
  }
 },
 "nbformat": 4,
 "nbformat_minor": 2
}
