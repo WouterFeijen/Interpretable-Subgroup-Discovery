{
 "cells": [
  {
   "cell_type": "markdown",
   "metadata": {},
   "source": [
    "# \\<Title\\>"
   ]
  },
  {
   "cell_type": "markdown",
   "metadata": {},
   "source": [
    "Imports"
   ]
  },
  {
   "cell_type": "code",
   "execution_count": 94,
   "metadata": {},
   "outputs": [],
   "source": [
    "# imports\n",
    "import sys\n",
    "import datetime\n",
    "import dill as pickle\n",
    "import matplotlib.pyplot as plt"
   ]
  },
  {
   "cell_type": "markdown",
   "metadata": {},
   "source": [
    "Import custom libraries"
   ]
  },
  {
   "cell_type": "code",
   "execution_count": 95,
   "metadata": {},
   "outputs": [],
   "source": [
    "# original py files\n",
    "sys.path.insert(1, r'W:\\OneDrive - TU Eindhoven\\DS&AI\\2024-2025\\2024-2025 q1\\2AMM20 - Research Topics in Data Mining\\Research Project Phase\\new_code\\methods')\n",
    "\n",
    "from data_methods import getData, standardize\n",
    "from dimensionality_reduction import reduce_dimensionality,reduce_with\n",
    "from beamSearch import EMM, as_string\n",
    "from adjPysubgroup import adjustedBestFirstSearch, adjustedDFS, adjustedApriori\n",
    "from qualityMeasures import calc_result_bs, calc_result_ps"
   ]
  },
  {
   "cell_type": "markdown",
   "metadata": {},
   "source": [
    "set variables"
   ]
  },
  {
   "cell_type": "code",
   "execution_count": 96,
   "metadata": {},
   "outputs": [],
   "source": [
    "dataset_name = 'Soybean'\n",
    "reduction_method = 'PCA' # choose from 'PCA' or 'auto_encoder' (others were not implemented yet)"
   ]
  },
  {
   "cell_type": "markdown",
   "metadata": {},
   "source": [
    "## 1. Data"
   ]
  },
  {
   "cell_type": "markdown",
   "metadata": {},
   "source": [
    "Open the dataset with name ```dataset_name```."
   ]
  },
  {
   "cell_type": "code",
   "execution_count": 97,
   "metadata": {},
   "outputs": [],
   "source": [
    "df, cat, num, features = getData(dataset_name)\n",
    "df_original = df.copy()"
   ]
  },
  {
   "cell_type": "markdown",
   "metadata": {},
   "source": [
    "Standardize the DataFrame <font color='red'>move to reduce_dimensionality method??</font>"
   ]
  },
  {
   "cell_type": "code",
   "execution_count": 39,
   "metadata": {},
   "outputs": [],
   "source": [
    "# standardize\n",
    "# df_std = standardize(df,num) # ? MOVE TO reduce_dimensionality FUNCTION??"
   ]
  },
  {
   "cell_type": "markdown",
   "metadata": {},
   "source": [
    "## 2. Reduce Dimensionality"
   ]
  },
  {
   "cell_type": "markdown",
   "metadata": {},
   "source": [
    "### 2.1 Find Optimal Number of Reduced Features"
   ]
  },
  {
   "cell_type": "markdown",
   "metadata": {},
   "source": [
    "Set lower and upper bound estimates for the number of features "
   ]
  },
  {
   "cell_type": "code",
   "execution_count": 98,
   "metadata": {},
   "outputs": [],
   "source": [
    "l_est, r_est = 2, 12"
   ]
  },
  {
   "cell_type": "markdown",
   "metadata": {},
   "source": [
    "Compare the <font color='red'>MSE</font> of performing dimensionality reduction to different numbers of features."
   ]
  },
  {
   "cell_type": "code",
   "execution_count": 99,
   "metadata": {},
   "outputs": [
    {
     "data": {
      "image/png": "[encoded data removed]",
      "text/plain": [
       "<Figure size 640x480 with 1 Axes>"
      ]
     },
     "metadata": {},
     "output_type": "display_data"
    },
    {
     "data": {
      "text/plain": [
       "1.820756"
      ]
     },
     "execution_count": 99,
     "metadata": {},
     "output_type": "execute_result"
    }
   ],
   "source": [
    "t1 = datetime.datetime.now()\n",
    "mseList = []\n",
    "\n",
    "for i in range(l_est, r_est+1):\n",
    "\n",
    "    df_en,mse = reduce_dimensionality(\n",
    "                    data=df,\n",
    "                    reduction_method=reduction_method,\n",
    "                    catColumns=cat,\n",
    "                    numColumns=num, \n",
    "                    nFeatures=i,\n",
    "                    nEpochs=100\n",
    "                )\n",
    "\n",
    "    mseList.append(mse)\n",
    "t2 = datetime.datetime.now()\n",
    "\n",
    "plt.plot([i for i in range(l_est, r_est+1)], mseList)\n",
    "plt.xlabel(\"Nr of Features\") # ! new\n",
    "plt.ylabel(\"MSE\") # ! new\n",
    "plt.show()\n",
    "\n",
    "running_time = t2-t1\n",
    "running_time.total_seconds()"
   ]
  },
  {
   "cell_type": "markdown",
   "metadata": {},
   "source": [
    "From the results we can conclude that the optimal number of reduced features is ... "
   ]
  },
  {
   "cell_type": "code",
   "execution_count": 100,
   "metadata": {},
   "outputs": [],
   "source": [
    "optimal_nr_features = 6"
   ]
  },
  {
   "cell_type": "markdown",
   "metadata": {},
   "source": [
    "### 2.2 reduce"
   ]
  },
  {
   "cell_type": "code",
   "execution_count": 101,
   "metadata": {},
   "outputs": [
    {
     "data": {
      "text/html": [
       "<div>\n",
       "<style scoped>\n",
       "    .dataframe tbody tr th:only-of-type {\n",
       "        vertical-align: middle;\n",
       "    }\n",
       "\n",
       "    .dataframe tbody tr th {\n",
       "        vertical-align: top;\n",
       "    }\n",
       "\n",
       "    .dataframe thead th {\n",
       "        text-align: right;\n",
       "    }\n",
       "</style>\n",
       "<table border=\"1\" class=\"dataframe\">\n",
       "  <thead>\n",
       "    <tr style=\"text-align: right;\">\n",
       "      <th></th>\n",
       "      <th>target</th>\n",
       "      <th>PC1</th>\n",
       "      <th>PC2</th>\n",
       "      <th>PC3</th>\n",
       "      <th>PC4</th>\n",
       "      <th>PC5</th>\n",
       "      <th>PC6</th>\n",
       "    </tr>\n",
       "  </thead>\n",
       "  <tbody>\n",
       "    <tr>\n",
       "      <th>226</th>\n",
       "      <td>1</td>\n",
       "      <td>1.687198</td>\n",
       "      <td>4.803085</td>\n",
       "      <td>-2.461455</td>\n",
       "      <td>-3.079412</td>\n",
       "      <td>1.744951</td>\n",
       "      <td>-0.704939</td>\n",
       "    </tr>\n",
       "    <tr>\n",
       "      <th>4</th>\n",
       "      <td>0</td>\n",
       "      <td>4.643951</td>\n",
       "      <td>-0.089932</td>\n",
       "      <td>-1.571048</td>\n",
       "      <td>-0.930338</td>\n",
       "      <td>0.105791</td>\n",
       "      <td>2.892326</td>\n",
       "    </tr>\n",
       "    <tr>\n",
       "      <th>91</th>\n",
       "      <td>1</td>\n",
       "      <td>-3.731258</td>\n",
       "      <td>-0.425030</td>\n",
       "      <td>-1.080893</td>\n",
       "      <td>1.347936</td>\n",
       "      <td>-1.525630</td>\n",
       "      <td>1.276793</td>\n",
       "    </tr>\n",
       "    <tr>\n",
       "      <th>32</th>\n",
       "      <td>0</td>\n",
       "      <td>5.171208</td>\n",
       "      <td>-2.422535</td>\n",
       "      <td>-0.768408</td>\n",
       "      <td>3.474198</td>\n",
       "      <td>-1.112129</td>\n",
       "      <td>1.128996</td>\n",
       "    </tr>\n",
       "    <tr>\n",
       "      <th>141</th>\n",
       "      <td>0</td>\n",
       "      <td>-3.360719</td>\n",
       "      <td>-0.243692</td>\n",
       "      <td>2.924525</td>\n",
       "      <td>4.344070</td>\n",
       "      <td>5.431516</td>\n",
       "      <td>5.080180</td>\n",
       "    </tr>\n",
       "  </tbody>\n",
       "</table>\n",
       "</div>"
      ],
      "text/plain": [
       "     target       PC1       PC2       PC3       PC4       PC5       PC6\n",
       "226       1  1.687198  4.803085 -2.461455 -3.079412  1.744951 -0.704939\n",
       "4         0  4.643951 -0.089932 -1.571048 -0.930338  0.105791  2.892326\n",
       "91        1 -3.731258 -0.425030 -1.080893  1.347936 -1.525630  1.276793\n",
       "32        0  5.171208 -2.422535 -0.768408  3.474198 -1.112129  1.128996\n",
       "141       0 -3.360719 -0.243692  2.924525  4.344070  5.431516  5.080180"
      ]
     },
     "execution_count": 101,
     "metadata": {},
     "output_type": "execute_result"
    }
   ],
   "source": [
    "df_en,_ = reduce_dimensionality(\n",
    "            data=df,\n",
    "            reduction_method=reduction_method,\n",
    "            catColumns=cat,\n",
    "            numColumns=num, \n",
    "            nFeatures=optimal_nr_features,\n",
    "            nEpochs=100\n",
    "        )\n",
    "\n",
    "df_en.sample(5)"
   ]
  },
  {
   "cell_type": "markdown",
   "metadata": {},
   "source": [
    "## 3. Subgroup Discovery\n",
    "Run the subgroup discovery algorithms on the dataset."
   ]
  },
  {
   "cell_type": "markdown",
   "metadata": {},
   "source": [
    "### 3.1 Best First Search"
   ]
  },
  {
   "cell_type": "code",
   "execution_count": 102,
   "metadata": {},
   "outputs": [],
   "source": [
    "bfs_results = {}"
   ]
  },
  {
   "cell_type": "markdown",
   "metadata": {},
   "source": [
    "Find Subgroups"
   ]
  },
  {
   "cell_type": "code",
   "execution_count": 109,
   "metadata": {},
   "outputs": [],
   "source": [
    "t1 = datetime.datetime.now()\n",
    "results_df_n = adjustedBestFirstSearch(df)\n",
    "results_df_n['subgroup'] = results_df_n['subgroup'].apply(lambda x: str(x))[0]\n",
    "t2 = datetime.datetime.now()\n",
    "running_time = t2-t1\n",
    "\n",
    "bfs_results['df']=df\n",
    "bfs_results['df_results']=results_df_n\n",
    "bfs_results['df_running_time']=running_time"
   ]
  },
  {
   "cell_type": "code",
   "execution_count": 110,
   "metadata": {},
   "outputs": [],
   "source": [
    "t1 = datetime.datetime.now()\n",
    "results_df_en = adjustedBestFirstSearch(df_en)\n",
    "results_df_en['subgroup'] = results_df_en['subgroup'].apply(lambda x: str(x))[0]\n",
    "t2 = datetime.datetime.now()\n",
    "running_time = t2-t1\n",
    "\n",
    "bfs_results['df_en']=df_en\n",
    "bfs_results['df_en_results']=results_df_en\n",
    "bfs_results['df_en_running_time']=running_time"
   ]
  },
  {
   "cell_type": "markdown",
   "metadata": {},
   "source": [
    "Save subgroups"
   ]
  },
  {
   "cell_type": "code",
   "execution_count": 112,
   "metadata": {},
   "outputs": [],
   "source": [
    "now = datetime.datetime.now().strftime(\"%d-%m-%Y-%H-%M\")\n",
    "bfs_file_name = f'bfs-results-{now}.pkl'\n",
    "with open(bfs_file_name,'wb') as f:\n",
    "    pickle.dump(bfs_results,f)\n"
   ]
  },
  {
   "cell_type": "markdown",
   "metadata": {},
   "source": [
    "Analyze found subgroups"
   ]
  },
  {
   "cell_type": "code",
   "execution_count": 28,
   "metadata": {},
   "outputs": [
    {
     "name": "stdout",
     "output_type": "stream",
     "text": [
      "coverage auto-encoding: 256, (0.9624060150375939)\n",
      "coverage no auto-encoding: 251, (0.943609022556391)\n",
      "# rows added in subgroups: 14 (0.05263157894736842)\n",
      "# rows no longer in subgroups: 9, (0.03383458646616541)\n",
      "average subgroup size auto encoded: 20.44\n",
      "average subgroup size no auto encoding: 134.99\n",
      "WRACC auto-encoding: Max: 0.07179603143196338, Mean: 0.022610944654870263\n",
      "WRACC no auto-encoding: Max: 0.24068630222171972, Mean: 0.16175730680083666\n"
     ]
    },
    {
     "data": {
      "image/png": "[encoded data removed]",
      "text/plain": [
       "<Figure size 640x480 with 1 Axes>"
      ]
     },
     "metadata": {},
     "output_type": "display_data"
    },
    {
     "data": {
      "image/png": "[encoded data removed]",
      "text/plain": [
       "<Figure size 640x480 with 1 Axes>"
      ]
     },
     "metadata": {},
     "output_type": "display_data"
    }
   ],
   "source": [
    "# Loading the object using dill\n",
    "# with open(bfs_file_name, 'rb') as f:\n",
    "#     loaded_dict = pickle.load(f)\n",
    "\n",
    "calc_result_ps(df_en, df, results_df_en, results_df_n)"
   ]
  },
  {
   "cell_type": "markdown",
   "metadata": {},
   "source": [
    "### 3.2 Beam Search"
   ]
  },
  {
   "cell_type": "code",
   "execution_count": 115,
   "metadata": {},
   "outputs": [],
   "source": [
    "bs_results = {}"
   ]
  },
  {
   "cell_type": "markdown",
   "metadata": {},
   "source": [
    "#### 3.2.1 Find Subgroups"
   ]
  },
  {
   "cell_type": "code",
   "execution_count": 116,
   "metadata": {},
   "outputs": [
    {
     "name": "stdout",
     "output_type": "stream",
     "text": [
      "level :  0\n",
      "    seed :  []\n",
      "eta  []\n",
      "level :  1\n",
      "    seed :  [\"attribute17 == '1'\"]\n",
      "eta  [\"attribute17 == '1'\"]\n",
      "    seed :  [\"attribute1 == '4'\"]\n",
      "eta  [\"attribute1 == '4'\"]\n",
      "    seed :  [\"attribute1 != '1'\"]\n",
      "eta  [\"attribute1 != '1'\"]\n",
      "    seed :  [\"attribute1 == '1'\"]\n",
      "eta  [\"attribute1 == '1'\"]\n",
      "    seed :  [\"attribute1 != '4'\"]\n",
      "eta  [\"attribute1 != '4'\"]\n",
      "    seed :  [\"attribute17 == '0'\"]\n",
      "eta  [\"attribute17 == '0'\"]\n",
      "    seed :  [\"attribute17 != '1'\"]\n",
      "eta  [\"attribute17 != '1'\"]\n",
      "    seed :  [\"attribute3 == '1'\"]\n",
      "eta  [\"attribute3 == '1'\"]\n",
      "    seed :  [\"attribute10 == '2'\"]\n",
      "eta  [\"attribute10 == '2'\"]\n",
      "    seed :  [\"attribute35 != '2'\"]\n",
      "eta  [\"attribute35 != '2'\"]\n",
      "    seed :  [\"attribute9 != '1'\"]\n",
      "eta  [\"attribute9 != '1'\"]\n",
      "    seed :  [\"attribute25 == '0'\"]\n",
      "eta  [\"attribute25 == '0'\"]\n",
      "    seed :  [\"attribute25 != '1'\"]\n",
      "eta  [\"attribute25 != '1'\"]\n",
      "    seed :  [\"attribute6 != '2'\"]\n",
      "eta  [\"attribute6 != '2'\"]\n",
      "    seed :  [\"attribute1 == '2'\"]\n",
      "eta  [\"attribute1 == '2'\"]\n"
     ]
    },
    {
     "ename": "KeyboardInterrupt",
     "evalue": "",
     "output_type": "error",
     "traceback": [
      "\u001b[1;31m---------------------------------------------------------------------------\u001b[0m",
      "\u001b[1;31mKeyboardInterrupt\u001b[0m                         Traceback (most recent call last)",
      "Cell \u001b[1;32mIn[116], line 2\u001b[0m\n\u001b[0;32m      1\u001b[0m t1 \u001b[38;5;241m=\u001b[39m datetime\u001b[38;5;241m.\u001b[39mdatetime\u001b[38;5;241m.\u001b[39mnow()\n\u001b[1;32m----> 2\u001b[0m results_df_bs \u001b[38;5;241m=\u001b[39m EMM(\u001b[38;5;241m100\u001b[39m, \u001b[38;5;241m3\u001b[39m, \u001b[38;5;241m100\u001b[39m, [], df_original, features, \u001b[38;5;124m'\u001b[39m\u001b[38;5;124mtarget\u001b[39m\u001b[38;5;124m'\u001b[39m, ensure_diversity\u001b[38;5;241m=\u001b[39m\u001b[38;5;28;01mTrue\u001b[39;00m)\n\u001b[0;32m      3\u001b[0m t2 \u001b[38;5;241m=\u001b[39m datetime\u001b[38;5;241m.\u001b[39mdatetime\u001b[38;5;241m.\u001b[39mnow()\n\u001b[0;32m      4\u001b[0m bs_running_time \u001b[38;5;241m=\u001b[39m t2\u001b[38;5;241m-\u001b[39mt1\n",
      "File \u001b[1;32mW:\\OneDrive - TU Eindhoven\\DS&AI\\2024-2025\\2024-2025 q1\\2AMM20 - Research Topics in Data Mining\\Research Project Phase\\new_code\\methods\\beamSearch.py:206\u001b[0m, in \u001b[0;36mEMM\u001b[1;34m(w, d, q, catch_all_description, df, features, target, n_chunks, ensure_diversity)\u001b[0m\n\u001b[0;32m    201\u001b[0m \u001b[38;5;66;03m# For all refinements created by eta function on descriptions (i.e features), which can be different types of columns\u001b[39;00m\n\u001b[0;32m    202\u001b[0m \u001b[38;5;66;03m# eta(seed) reads the dataset given certain seed (i.e. already created rules) and looks at new descriptions\u001b[39;00m\n\u001b[0;32m    203\u001b[0m \u001b[38;5;28;01mfor\u001b[39;00m desc \u001b[38;5;129;01min\u001b[39;00m eta(seed, df, features, n_chunks):\n\u001b[0;32m    204\u001b[0m \n\u001b[0;32m    205\u001b[0m     \u001b[38;5;66;03m# Check if the subgroup contains at least x% of data, proceed if yes\u001b[39;00m\n\u001b[1;32m--> 206\u001b[0m     \u001b[38;5;28;01mif\u001b[39;00m satisfies_all(desc, df):\n\u001b[0;32m    207\u001b[0m \n\u001b[0;32m    208\u001b[0m         \u001b[38;5;66;03m# Calculate the new solution's quality\u001b[39;00m\n\u001b[0;32m    209\u001b[0m         quality \u001b[38;5;241m=\u001b[39m eval_quality(desc, df, target)\n\u001b[0;32m    211\u001b[0m         \u001b[38;5;66;03m# Ensure diversity by forcing difference in quality when compared to its seed\u001b[39;00m\n\u001b[0;32m    212\u001b[0m         \u001b[38;5;66;03m# if <ensure_diversity> is set to True. Principle is based on:\u001b[39;00m\n\u001b[0;32m    213\u001b[0m         \u001b[38;5;66;03m# Van Leeuwen, M., & Knobbe, A. (2012), Diverse subgroup set discovery.\u001b[39;00m\n\u001b[0;32m    214\u001b[0m         \u001b[38;5;66;03m# Data Mining and Knowledge Discovery, 25(2), 208-242.\u001b[39;00m\n",
      "File \u001b[1;32mW:\\OneDrive - TU Eindhoven\\DS&AI\\2024-2025\\2024-2025 q1\\2AMM20 - Research Topics in Data Mining\\Research Project Phase\\new_code\\methods\\beamSearch.py:153\u001b[0m, in \u001b[0;36msatisfies_all\u001b[1;34m(desc, df, threshold)\u001b[0m\n\u001b[0;32m    149\u001b[0m \u001b[38;5;28;01mdef\u001b[39;00m \u001b[38;5;21msatisfies_all\u001b[39m(desc, df, threshold\u001b[38;5;241m=\u001b[39m\u001b[38;5;241m0.02\u001b[39m):\n\u001b[0;32m    150\u001b[0m     \u001b[38;5;66;03m# Function used to check if subgroup with pattern <desc> is sufficiently big relative to its dataset <df>\u001b[39;00m\n\u001b[0;32m    151\u001b[0m     \u001b[38;5;66;03m# A subgroup is sufficiently big if the proportion of data included in it exceeds <threshold>   \u001b[39;00m\n\u001b[0;32m    152\u001b[0m     d_str \u001b[38;5;241m=\u001b[39m as_string(desc)\n\u001b[1;32m--> 153\u001b[0m     ind \u001b[38;5;241m=\u001b[39m df\u001b[38;5;241m.\u001b[39meval(d_str)\n\u001b[0;32m    154\u001b[0m     \u001b[38;5;28;01mreturn\u001b[39;00m \u001b[38;5;28msum\u001b[39m(ind) \u001b[38;5;241m>\u001b[39m\u001b[38;5;241m=\u001b[39m \u001b[38;5;28mlen\u001b[39m(df) \u001b[38;5;241m*\u001b[39m \u001b[38;5;241m0.02\u001b[39m\n",
      "File \u001b[1;32mw:\\Users\\wfeij\\anaconda3\\Lib\\site-packages\\pandas\\core\\frame.py:4943\u001b[0m, in \u001b[0;36mDataFrame.eval\u001b[1;34m(self, expr, inplace, **kwargs)\u001b[0m\n\u001b[0;32m   4941\u001b[0m kwargs[\u001b[38;5;124m\"\u001b[39m\u001b[38;5;124mlevel\u001b[39m\u001b[38;5;124m\"\u001b[39m] \u001b[38;5;241m=\u001b[39m kwargs\u001b[38;5;241m.\u001b[39mpop(\u001b[38;5;124m\"\u001b[39m\u001b[38;5;124mlevel\u001b[39m\u001b[38;5;124m\"\u001b[39m, \u001b[38;5;241m0\u001b[39m) \u001b[38;5;241m+\u001b[39m \u001b[38;5;241m1\u001b[39m\n\u001b[0;32m   4942\u001b[0m index_resolvers \u001b[38;5;241m=\u001b[39m \u001b[38;5;28mself\u001b[39m\u001b[38;5;241m.\u001b[39m_get_index_resolvers()\n\u001b[1;32m-> 4943\u001b[0m column_resolvers \u001b[38;5;241m=\u001b[39m \u001b[38;5;28mself\u001b[39m\u001b[38;5;241m.\u001b[39m_get_cleaned_column_resolvers()\n\u001b[0;32m   4944\u001b[0m resolvers \u001b[38;5;241m=\u001b[39m column_resolvers, index_resolvers\n\u001b[0;32m   4945\u001b[0m \u001b[38;5;28;01mif\u001b[39;00m \u001b[38;5;124m\"\u001b[39m\u001b[38;5;124mtarget\u001b[39m\u001b[38;5;124m\"\u001b[39m \u001b[38;5;129;01mnot\u001b[39;00m \u001b[38;5;129;01min\u001b[39;00m kwargs:\n",
      "File \u001b[1;32mw:\\Users\\wfeij\\anaconda3\\Lib\\site-packages\\pandas\\core\\generic.py:661\u001b[0m, in \u001b[0;36mNDFrame._get_cleaned_column_resolvers\u001b[1;34m(self)\u001b[0m\n\u001b[0;32m    656\u001b[0m \u001b[38;5;28;01mif\u001b[39;00m \u001b[38;5;28misinstance\u001b[39m(\u001b[38;5;28mself\u001b[39m, ABCSeries):\n\u001b[0;32m    657\u001b[0m     \u001b[38;5;28;01mreturn\u001b[39;00m {clean_column_name(\u001b[38;5;28mself\u001b[39m\u001b[38;5;241m.\u001b[39mname): \u001b[38;5;28mself\u001b[39m}\n\u001b[0;32m    659\u001b[0m \u001b[38;5;28;01mreturn\u001b[39;00m {\n\u001b[0;32m    660\u001b[0m     clean_column_name(k): Series(\n\u001b[1;32m--> 661\u001b[0m         v, copy\u001b[38;5;241m=\u001b[39m\u001b[38;5;28;01mFalse\u001b[39;00m, index\u001b[38;5;241m=\u001b[39m\u001b[38;5;28mself\u001b[39m\u001b[38;5;241m.\u001b[39mindex, name\u001b[38;5;241m=\u001b[39mk, dtype\u001b[38;5;241m=\u001b[39m\u001b[38;5;28mself\u001b[39m\u001b[38;5;241m.\u001b[39mdtypes[k]\n\u001b[0;32m    662\u001b[0m     )\u001b[38;5;241m.\u001b[39m__finalize__(\u001b[38;5;28mself\u001b[39m)\n\u001b[0;32m    663\u001b[0m     \u001b[38;5;28;01mfor\u001b[39;00m k, v \u001b[38;5;129;01min\u001b[39;00m \u001b[38;5;28mzip\u001b[39m(\u001b[38;5;28mself\u001b[39m\u001b[38;5;241m.\u001b[39mcolumns, \u001b[38;5;28mself\u001b[39m\u001b[38;5;241m.\u001b[39m_iter_column_arrays())\n\u001b[0;32m    664\u001b[0m     \u001b[38;5;28;01mif\u001b[39;00m \u001b[38;5;129;01mnot\u001b[39;00m \u001b[38;5;28misinstance\u001b[39m(k, \u001b[38;5;28mint\u001b[39m)\n\u001b[0;32m    665\u001b[0m }\n",
      "File \u001b[1;32mw:\\Users\\wfeij\\anaconda3\\Lib\\site-packages\\pandas\\core\\generic.py:6461\u001b[0m, in \u001b[0;36mNDFrame.dtypes\u001b[1;34m(self)\u001b[0m\n\u001b[0;32m   6434\u001b[0m \u001b[38;5;250m\u001b[39m\u001b[38;5;124;03m\"\"\"\u001b[39;00m\n\u001b[0;32m   6435\u001b[0m \u001b[38;5;124;03mReturn the dtypes in the DataFrame.\u001b[39;00m\n\u001b[0;32m   6436\u001b[0m \n\u001b[1;32m   (...)\u001b[0m\n\u001b[0;32m   6458\u001b[0m \u001b[38;5;124;03mdtype: object\u001b[39;00m\n\u001b[0;32m   6459\u001b[0m \u001b[38;5;124;03m\"\"\"\u001b[39;00m\n\u001b[0;32m   6460\u001b[0m data \u001b[38;5;241m=\u001b[39m \u001b[38;5;28mself\u001b[39m\u001b[38;5;241m.\u001b[39m_mgr\u001b[38;5;241m.\u001b[39mget_dtypes()\n\u001b[1;32m-> 6461\u001b[0m \u001b[38;5;28;01mreturn\u001b[39;00m \u001b[38;5;28mself\u001b[39m\u001b[38;5;241m.\u001b[39m_constructor_sliced(data, index\u001b[38;5;241m=\u001b[39m\u001b[38;5;28mself\u001b[39m\u001b[38;5;241m.\u001b[39m_info_axis, dtype\u001b[38;5;241m=\u001b[39mnp\u001b[38;5;241m.\u001b[39mobject_)\n",
      "File \u001b[1;32mw:\\Users\\wfeij\\anaconda3\\Lib\\site-packages\\pandas\\core\\series.py:586\u001b[0m, in \u001b[0;36mSeries.__init__\u001b[1;34m(self, data, index, dtype, name, copy, fastpath)\u001b[0m\n\u001b[0;32m    583\u001b[0m \u001b[38;5;28;01melse\u001b[39;00m:\n\u001b[0;32m    584\u001b[0m     data \u001b[38;5;241m=\u001b[39m sanitize_array(data, index, dtype, copy)\n\u001b[1;32m--> 586\u001b[0m     manager \u001b[38;5;241m=\u001b[39m _get_option(\u001b[38;5;124m\"\u001b[39m\u001b[38;5;124mmode.data_manager\u001b[39m\u001b[38;5;124m\"\u001b[39m, silent\u001b[38;5;241m=\u001b[39m\u001b[38;5;28;01mTrue\u001b[39;00m)\n\u001b[0;32m    587\u001b[0m     \u001b[38;5;28;01mif\u001b[39;00m manager \u001b[38;5;241m==\u001b[39m \u001b[38;5;124m\"\u001b[39m\u001b[38;5;124mblock\u001b[39m\u001b[38;5;124m\"\u001b[39m:\n\u001b[0;32m    588\u001b[0m         data \u001b[38;5;241m=\u001b[39m SingleBlockManager\u001b[38;5;241m.\u001b[39mfrom_array(data, index, refs\u001b[38;5;241m=\u001b[39mrefs)\n",
      "File \u001b[1;32mw:\\Users\\wfeij\\anaconda3\\Lib\\site-packages\\pandas\\_config\\config.py:149\u001b[0m, in \u001b[0;36m_get_option\u001b[1;34m(pat, silent)\u001b[0m\n\u001b[0;32m    146\u001b[0m key \u001b[38;5;241m=\u001b[39m _get_single_key(pat, silent)\n\u001b[0;32m    148\u001b[0m \u001b[38;5;66;03m# walk the nested dict\u001b[39;00m\n\u001b[1;32m--> 149\u001b[0m root, k \u001b[38;5;241m=\u001b[39m _get_root(key)\n\u001b[0;32m    150\u001b[0m \u001b[38;5;28;01mreturn\u001b[39;00m root[k]\n",
      "File \u001b[1;32mw:\\Users\\wfeij\\anaconda3\\Lib\\site-packages\\pandas\\_config\\config.py:636\u001b[0m, in \u001b[0;36m_get_root\u001b[1;34m(key)\u001b[0m\n\u001b[0;32m    635\u001b[0m \u001b[38;5;28;01mdef\u001b[39;00m \u001b[38;5;21m_get_root\u001b[39m(key: \u001b[38;5;28mstr\u001b[39m) \u001b[38;5;241m-\u001b[39m\u001b[38;5;241m>\u001b[39m \u001b[38;5;28mtuple\u001b[39m[\u001b[38;5;28mdict\u001b[39m[\u001b[38;5;28mstr\u001b[39m, Any], \u001b[38;5;28mstr\u001b[39m]:\n\u001b[1;32m--> 636\u001b[0m     path \u001b[38;5;241m=\u001b[39m key\u001b[38;5;241m.\u001b[39msplit(\u001b[38;5;124m\"\u001b[39m\u001b[38;5;124m.\u001b[39m\u001b[38;5;124m\"\u001b[39m)\n\u001b[0;32m    637\u001b[0m     cursor \u001b[38;5;241m=\u001b[39m _global_config\n\u001b[0;32m    638\u001b[0m     \u001b[38;5;28;01mfor\u001b[39;00m p \u001b[38;5;129;01min\u001b[39;00m path[:\u001b[38;5;241m-\u001b[39m\u001b[38;5;241m1\u001b[39m]:\n",
      "\u001b[1;31mKeyboardInterrupt\u001b[0m: "
     ]
    }
   ],
   "source": [
    "t1 = datetime.datetime.now()\n",
    "results_df_bs = EMM(100, 3, 100, [], df_original, features, 'target', ensure_diversity=True)\n",
    "t2 = datetime.datetime.now()\n",
    "bs_running_time = t2-t1\n",
    "bs_running_time\n",
    "\n",
    "bs_results['df']=df\n",
    "bs_results['df_results']=results_df_bs\n",
    "bs_results['df_running_time']=bs_running_time"
   ]
  },
  {
   "cell_type": "code",
   "execution_count": 117,
   "metadata": {},
   "outputs": [
    {
     "name": "stdout",
     "output_type": "stream",
     "text": [
      "level :  0\n",
      "    seed :  []\n",
      "eta  []\n",
      "level :  1\n",
      "    seed :  ['PC2 <= -1.5988893278804068']\n",
      "eta  ['PC2 <= -1.5988893278804068']\n",
      "    seed :  ['PC3 > -0.8519585137372201']\n",
      "eta  ['PC3 > -0.8519585137372201']\n",
      "    seed :  ['PC1 > -0.4633999079719904']\n",
      "eta  ['PC1 > -0.4633999079719904']\n",
      "    seed :  ['PC1 > -3.1159816995973513']\n",
      "eta  ['PC1 > -3.1159816995973513']\n",
      "    seed :  ['PC2 <= -0.639784656317392']\n",
      "eta  ['PC2 <= -0.639784656317392']\n",
      "    seed :  ['PC2 <= -2.007346885426288']\n",
      "eta  ['PC2 <= -2.007346885426288']\n",
      "    seed :  ['PC3 > -1.3903013915034128']\n",
      "eta  ['PC3 > -1.3903013915034128']\n",
      "    seed :  ['PC3 > -1.2220225879859798']\n",
      "eta  ['PC3 > -1.2220225879859798']\n",
      "    seed :  ['PC1 > -3.328549700736145']\n",
      "eta  ['PC1 > -3.328549700736145']\n",
      "    seed :  ['PC3 > -1.5685306866808073']\n",
      "eta  ['PC3 > -1.5685306866808073']\n",
      "    seed :  ['PC2 <= -0.2842258105502988']\n",
      "eta  ['PC2 <= -0.2842258105502988']\n",
      "    seed :  ['PC1 > -3.41564740365285']\n",
      "eta  ['PC1 > -3.41564740365285']\n",
      "    seed :  ['PC5 <= -1.5024799266921451']\n",
      "eta  ['PC5 <= -1.5024799266921451']\n",
      "    seed :  ['PC5 <= -1.1706780373116044']\n",
      "eta  ['PC5 <= -1.1706780373116044']\n",
      "    seed :  ['PC4 <= -1.9178440637622953']\n",
      "eta  ['PC4 <= -1.9178440637622953']\n",
      "    seed :  ['PC4 <= -1.5739049249882986']\n",
      "eta  ['PC4 <= -1.5739049249882986']\n",
      "    seed :  ['PC4 > -0.18379455866905098']\n",
      "eta  ['PC4 > -0.18379455866905098']\n",
      "    seed :  ['PC5 > -0.04891929620922879']\n",
      "eta  ['PC5 > -0.04891929620922879']\n",
      "    seed :  ['PC4 <= -0.9533234725427662']\n",
      "eta  ['PC4 <= -0.9533234725427662']\n",
      "    seed :  ['PC6 > -0.6651307821964924']\n",
      "eta  ['PC6 > -0.6651307821964924']\n",
      "    seed :  ['PC6 <= -1.3472898590008138']\n",
      "eta  ['PC6 <= -1.3472898590008138']\n",
      "    seed :  ['PC6 > -0.13318406854375275']\n",
      "eta  ['PC6 > -0.13318406854375275']\n",
      "    seed :  ['PC5 > -0.8858365114191878']\n",
      "eta  ['PC5 > -0.8858365114191878']\n",
      "    seed :  ['PC6 > -1.10021749215371']\n",
      "eta  ['PC6 > -1.10021749215371']\n",
      "    seed :  ['PC1 <= 9.036532812383179']\n",
      "eta  ['PC1 <= 9.036532812383179']\n",
      "    seed :  ['PC2 <= 9.63655790344434']\n",
      "eta  ['PC2 <= 9.63655790344434']\n",
      "    seed :  ['PC3 <= 9.61657111527724']\n",
      "eta  ['PC3 <= 9.61657111527724']\n",
      "    seed :  ['PC4 <= 8.299098166889426']\n",
      "eta  ['PC4 <= 8.299098166889426']\n",
      "    seed :  ['PC5 <= 6.1799117825457985']\n",
      "eta  ['PC5 <= 6.1799117825457985']\n",
      "    seed :  ['PC6 <= 9.108009235532332']\n",
      "eta  ['PC6 <= 9.108009235532332']\n",
      "    seed :  ['PC6 <= -1.10021749215371']\n",
      "eta  ['PC6 <= -1.10021749215371']\n",
      "    seed :  ['PC5 <= -0.8858365114191878']\n",
      "eta  ['PC5 <= -0.8858365114191878']\n",
      "    seed :  ['PC6 <= -0.13318406854375275']\n",
      "eta  ['PC6 <= -0.13318406854375275']\n",
      "    seed :  ['PC6 > -1.3472898590008138']\n",
      "eta  ['PC6 > -1.3472898590008138']\n",
      "    seed :  ['PC6 <= -0.6651307821964924']\n",
      "eta  ['PC6 <= -0.6651307821964924']\n",
      "    seed :  ['PC4 > -0.9533234725427662']\n",
      "eta  ['PC4 > -0.9533234725427662']\n",
      "    seed :  ['PC4 <= -0.18379455866905098']\n",
      "eta  ['PC4 <= -0.18379455866905098']\n",
      "    seed :  ['PC5 <= -0.04891929620922879']\n",
      "eta  ['PC5 <= -0.04891929620922879']\n",
      "    seed :  ['PC4 > -1.5739049249882986']\n",
      "eta  ['PC4 > -1.5739049249882986']\n",
      "    seed :  ['PC4 > -1.9178440637622953']\n",
      "eta  ['PC4 > -1.9178440637622953']\n",
      "    seed :  ['PC5 > -1.1706780373116044']\n",
      "eta  ['PC5 > -1.1706780373116044']\n",
      "    seed :  ['PC5 > -1.5024799266921451']\n",
      "eta  ['PC5 > -1.5024799266921451']\n",
      "    seed :  ['PC1 <= -3.41564740365285']\n",
      "eta  ['PC1 <= -3.41564740365285']\n",
      "    seed :  ['PC2 > -0.2842258105502988']\n",
      "eta  ['PC2 > -0.2842258105502988']\n",
      "    seed :  ['PC3 <= -1.5685306866808073']\n",
      "eta  ['PC3 <= -1.5685306866808073']\n",
      "    seed :  ['PC1 <= -3.328549700736145']\n",
      "eta  ['PC1 <= -3.328549700736145']\n",
      "    seed :  ['PC3 <= -1.2220225879859798']\n",
      "eta  ['PC3 <= -1.2220225879859798']\n",
      "    seed :  ['PC3 <= -1.3903013915034128']\n",
      "eta  ['PC3 <= -1.3903013915034128']\n",
      "    seed :  ['PC2 > -2.007346885426288']\n",
      "eta  ['PC2 > -2.007346885426288']\n",
      "    seed :  ['PC2 > -0.639784656317392']\n",
      "eta  ['PC2 > -0.639784656317392']\n",
      "    seed :  ['PC1 <= -3.1159816995973513']\n",
      "eta  ['PC1 <= -3.1159816995973513']\n",
      "    seed :  ['PC1 <= -0.4633999079719904']\n",
      "eta  ['PC1 <= -0.4633999079719904']\n",
      "    seed :  ['PC3 <= -0.8519585137372201']\n",
      "eta  ['PC3 <= -0.8519585137372201']\n",
      "    seed :  ['PC2 > -1.5988893278804068']\n",
      "eta  ['PC2 > -1.5988893278804068']\n",
      "level :  2\n",
      "    seed :  ['PC1 <= -0.4633999079719904', 'PC3 <= -1.021466373645634']\n",
      "eta  ['PC1 <= -0.4633999079719904', 'PC3 <= -1.021466373645634']\n",
      "    seed :  ['PC3 <= -0.8519585137372201', 'PC1 <= -3.0305412434121806']\n",
      "eta  ['PC3 <= -0.8519585137372201', 'PC1 <= -3.0305412434121806']\n",
      "    seed :  ['PC2 > -1.5988893278804068', 'PC6 <= -0.025424696156345444']\n",
      "eta  ['PC2 > -1.5988893278804068', 'PC6 <= -0.025424696156345444']\n",
      "    seed :  ['PC3 <= -1.2220225879859798', 'PC2 > -0.2366728018034362']\n",
      "eta  ['PC3 <= -1.2220225879859798', 'PC2 > -0.2366728018034362']\n",
      "    seed :  ['PC6 > -1.10021749215371', 'PC2 > -1.9194706637573895']\n",
      "eta  ['PC6 > -1.10021749215371', 'PC2 > -1.9194706637573895']\n",
      "    seed :  ['PC3 > -1.5685306866808073', 'PC3 <= -0.2388344072525984']\n",
      "eta  ['PC3 > -1.5685306866808073', 'PC3 <= -0.2388344072525984']\n",
      "    seed :  ['PC4 <= -0.18379455866905098', 'PC3 <= -0.8821561452939461']\n",
      "eta  ['PC4 <= -0.18379455866905098', 'PC3 <= -0.8821561452939461']\n",
      "    seed :  ['PC3 <= -0.8519585137372201', 'PC4 <= -0.1861319811444448']\n",
      "eta  ['PC3 <= -0.8519585137372201', 'PC4 <= -0.1861319811444448']\n",
      "    seed :  ['PC2 > -2.007346885426288', 'PC6 > -1.2528448438003705']\n",
      "eta  ['PC2 > -2.007346885426288', 'PC6 > -1.2528448438003705']\n",
      "    seed :  ['PC2 > -2.007346885426288', 'PC2 > -0.5678303139871899']\n",
      "eta  ['PC2 > -2.007346885426288', 'PC2 > -0.5678303139871899']\n",
      "    seed :  ['PC2 > -1.5988893278804068', 'PC4 > -1.2724389723217366']\n",
      "eta  ['PC2 > -1.5988893278804068', 'PC4 > -1.2724389723217366']\n",
      "    seed :  ['PC1 <= -0.4633999079719904', 'PC2 > -0.6394075780612901']\n",
      "eta  ['PC1 <= -0.4633999079719904', 'PC2 > -0.6394075780612901']\n",
      "    seed :  ['PC5 <= -0.04891929620922879', 'PC1 <= -2.7534536579617686']\n",
      "eta  ['PC5 <= -0.04891929620922879', 'PC1 <= -2.7534536579617686']\n",
      "    seed :  ['PC4 > -1.5739049249882986', 'PC2 > -1.4853457570965387']\n",
      "eta  ['PC4 > -1.5739049249882986', 'PC2 > -1.4853457570965387']\n",
      "    seed :  ['PC6 > -1.10021749215371', 'PC2 > -0.6706236318725678']\n",
      "eta  ['PC6 > -1.10021749215371', 'PC2 > -0.6706236318725678']\n",
      "    seed :  ['PC2 > -0.639784656317392', 'PC1 <= -2.909192893261967']\n",
      "eta  ['PC2 > -0.639784656317392', 'PC1 <= -2.909192893261967']\n",
      "    seed :  ['PC3 <= -1.2220225879859798', 'PC2 > -0.49646720705268027']\n",
      "eta  ['PC3 <= -1.2220225879859798', 'PC2 > -0.49646720705268027']\n",
      "    seed :  ['PC3 > -1.3903013915034128', 'PC1 <= -2.774798302122543']\n",
      "eta  ['PC3 > -1.3903013915034128', 'PC1 <= -2.774798302122543']\n",
      "    seed :  ['PC6 > -1.10021749215371', 'PC1 <= -0.33139103588134766']\n",
      "eta  ['PC6 > -1.10021749215371', 'PC1 <= -0.33139103588134766']\n",
      "    seed :  ['PC5 > -1.1706780373116044', 'PC2 > -1.279218880996367']\n",
      "eta  ['PC5 > -1.1706780373116044', 'PC2 > -1.279218880996367']\n",
      "    seed :  ['PC2 > -1.5988893278804068', 'PC5 > -1.044555694476763']\n",
      "eta  ['PC2 > -1.5988893278804068', 'PC5 > -1.044555694476763']\n",
      "    seed :  ['PC2 > -1.5988893278804068', 'PC4 > -1.560816016766422']\n",
      "eta  ['PC2 > -1.5988893278804068', 'PC4 > -1.560816016766422']\n",
      "    seed :  ['PC3 <= -1.2220225879859798', 'PC2 > -0.7664955301742176']\n",
      "eta  ['PC3 <= -1.2220225879859798', 'PC2 > -0.7664955301742176']\n",
      "    seed :  ['PC1 <= 9.036532812383179', 'PC2 > -2.007346885426288']\n",
      "eta  ['PC1 <= 9.036532812383179', 'PC2 > -2.007346885426288']\n",
      "    seed :  ['PC2 <= 9.63655790344434', 'PC2 > -2.007346885426288']\n",
      "eta  ['PC2 <= 9.63655790344434', 'PC2 > -2.007346885426288']\n",
      "    seed :  ['PC3 <= 9.61657111527724', 'PC2 > -2.007346885426288']\n",
      "eta  ['PC3 <= 9.61657111527724', 'PC2 > -2.007346885426288']\n",
      "    seed :  ['PC4 <= 8.299098166889426', 'PC2 > -2.007346885426288']\n",
      "eta  ['PC4 <= 8.299098166889426', 'PC2 > -2.007346885426288']\n",
      "    seed :  ['PC5 <= 6.1799117825457985', 'PC2 > -2.007346885426288']\n",
      "eta  ['PC5 <= 6.1799117825457985', 'PC2 > -2.007346885426288']\n",
      "    seed :  ['PC6 <= 9.108009235532332', 'PC2 > -2.007346885426288']\n",
      "eta  ['PC6 <= 9.108009235532332', 'PC2 > -2.007346885426288']\n",
      "    seed :  ['PC4 > -1.9178440637622953', 'PC2 > -1.4391750614144905']\n",
      "eta  ['PC4 > -1.9178440637622953', 'PC2 > -1.4391750614144905']\n",
      "    seed :  ['PC2 > -2.007346885426288', 'PC5 > -1.2279116364391292']\n",
      "eta  ['PC2 > -2.007346885426288', 'PC5 > -1.2279116364391292']\n",
      "    seed :  ['PC1 <= -0.4633999079719904', 'PC5 > -1.2272424518355134']\n",
      "eta  ['PC1 <= -0.4633999079719904', 'PC5 > -1.2272424518355134']\n",
      "    seed :  ['PC2 > -0.639784656317392', 'PC5 > -1.2860578119505135']\n",
      "eta  ['PC2 > -0.639784656317392', 'PC5 > -1.2860578119505135']\n",
      "    seed :  ['PC5 > -1.1706780373116044', 'PC1 <= -0.3209638128456292']\n",
      "eta  ['PC5 > -1.1706780373116044', 'PC1 <= -0.3209638128456292']\n",
      "    seed :  ['PC5 > -1.1706780373116044', 'PC2 > -1.7929437502297327']\n",
      "eta  ['PC5 > -1.1706780373116044', 'PC2 > -1.7929437502297327']\n",
      "    seed :  ['PC2 > -0.639784656317392', 'PC6 > -1.24184212837463']\n",
      "eta  ['PC2 > -0.639784656317392', 'PC6 > -1.24184212837463']\n",
      "    seed :  ['PC1 <= 9.036532812383179', 'PC2 > -0.639784656317392']\n",
      "eta  ['PC1 <= 9.036532812383179', 'PC2 > -0.639784656317392']\n",
      "    seed :  ['PC2 <= 9.63655790344434', 'PC2 > -0.639784656317392']\n",
      "eta  ['PC2 <= 9.63655790344434', 'PC2 > -0.639784656317392']\n",
      "    seed :  ['PC3 <= 9.61657111527724', 'PC2 > -0.639784656317392']\n",
      "eta  ['PC3 <= 9.61657111527724', 'PC2 > -0.639784656317392']\n",
      "    seed :  ['PC4 <= 8.299098166889426', 'PC2 > -0.639784656317392']\n",
      "eta  ['PC4 <= 8.299098166889426', 'PC2 > -0.639784656317392']\n",
      "    seed :  ['PC5 <= 6.1799117825457985', 'PC2 > -0.639784656317392']\n",
      "eta  ['PC5 <= 6.1799117825457985', 'PC2 > -0.639784656317392']\n",
      "    seed :  ['PC6 <= 9.108009235532332', 'PC2 > -0.639784656317392']\n",
      "eta  ['PC6 <= 9.108009235532332', 'PC2 > -0.639784656317392']\n",
      "    seed :  ['PC1 <= 9.036532812383179', 'PC1 <= -3.1159816995973513']\n",
      "eta  ['PC1 <= 9.036532812383179', 'PC1 <= -3.1159816995973513']\n",
      "    seed :  ['PC2 <= 9.63655790344434', 'PC1 <= -3.1159816995973513']\n",
      "eta  ['PC2 <= 9.63655790344434', 'PC1 <= -3.1159816995973513']\n",
      "    seed :  ['PC3 <= 9.61657111527724', 'PC1 <= -3.1159816995973513']\n",
      "eta  ['PC3 <= 9.61657111527724', 'PC1 <= -3.1159816995973513']\n",
      "    seed :  ['PC4 <= 8.299098166889426', 'PC1 <= -3.1159816995973513']\n",
      "eta  ['PC4 <= 8.299098166889426', 'PC1 <= -3.1159816995973513']\n",
      "    seed :  ['PC5 <= 6.1799117825457985', 'PC1 <= -3.1159816995973513']\n",
      "eta  ['PC5 <= 6.1799117825457985', 'PC1 <= -3.1159816995973513']\n",
      "    seed :  ['PC6 <= 9.108009235532332', 'PC1 <= -3.1159816995973513']\n",
      "eta  ['PC6 <= 9.108009235532332', 'PC1 <= -3.1159816995973513']\n",
      "    seed :  ['PC2 > -0.639784656317392', 'PC2 <= 0.2515438075993977']\n",
      "eta  ['PC2 > -0.639784656317392', 'PC2 <= 0.2515438075993977']\n",
      "    seed :  ['PC1 <= -0.4633999079719904', 'PC6 > -1.2730110231211442']\n",
      "eta  ['PC1 <= -0.4633999079719904', 'PC6 > -1.2730110231211442']\n",
      "    seed :  ['PC6 > -1.3472898590008138', 'PC2 > -0.6649019850641597']\n",
      "eta  ['PC6 > -1.3472898590008138', 'PC2 > -0.6649019850641597']\n",
      "    seed :  ['PC5 > -1.5024799266921451', 'PC2 > -0.5529790844142422']\n",
      "eta  ['PC5 > -1.5024799266921451', 'PC2 > -0.5529790844142422']\n",
      "    seed :  ['PC2 > -1.5988893278804068', 'PC5 <= 0.07219204150580665']\n",
      "eta  ['PC2 > -1.5988893278804068', 'PC5 <= 0.07219204150580665']\n",
      "    seed :  ['PC2 > -0.2842258105502988', 'PC3 <= -1.1412304940303797']\n",
      "eta  ['PC2 > -0.2842258105502988', 'PC3 <= -1.1412304940303797']\n",
      "    seed :  ['PC1 <= -0.4633999079719904', 'PC4 <= 0.5077858487442739']\n",
      "eta  ['PC1 <= -0.4633999079719904', 'PC4 <= 0.5077858487442739']\n",
      "    seed :  ['PC6 > -1.3472898590008138', 'PC2 > -1.8887629166078916']\n",
      "eta  ['PC6 > -1.3472898590008138', 'PC2 > -1.8887629166078916']\n",
      "    seed :  ['PC2 > -2.007346885426288', 'PC6 > -1.577693148483559']\n",
      "eta  ['PC2 > -2.007346885426288', 'PC6 > -1.577693148483559']\n",
      "    seed :  ['PC2 > -1.5988893278804068', 'PC2 <= 0.042083984228275785']\n",
      "eta  ['PC2 > -1.5988893278804068', 'PC2 <= 0.042083984228275785']\n",
      "    seed :  ['PC3 <= -0.8519585137372201', 'PC2 > -0.14993741678604666']\n",
      "eta  ['PC3 <= -0.8519585137372201', 'PC2 > -0.14993741678604666']\n",
      "    seed :  ['PC1 <= 9.036532812383179', 'PC1 <= -0.4633999079719904']\n",
      "eta  ['PC1 <= 9.036532812383179', 'PC1 <= -0.4633999079719904']\n",
      "    seed :  ['PC2 <= 9.63655790344434', 'PC1 <= -0.4633999079719904']\n",
      "eta  ['PC2 <= 9.63655790344434', 'PC1 <= -0.4633999079719904']\n",
      "    seed :  ['PC3 <= 9.61657111527724', 'PC1 <= -0.4633999079719904']\n",
      "eta  ['PC3 <= 9.61657111527724', 'PC1 <= -0.4633999079719904']\n",
      "    seed :  ['PC4 <= 8.299098166889426', 'PC1 <= -0.4633999079719904']\n",
      "eta  ['PC4 <= 8.299098166889426', 'PC1 <= -0.4633999079719904']\n",
      "    seed :  ['PC5 <= 6.1799117825457985', 'PC1 <= -0.4633999079719904']\n",
      "eta  ['PC5 <= 6.1799117825457985', 'PC1 <= -0.4633999079719904']\n",
      "    seed :  ['PC6 <= 9.108009235532332', 'PC1 <= -0.4633999079719904']\n",
      "eta  ['PC6 <= 9.108009235532332', 'PC1 <= -0.4633999079719904']\n",
      "    seed :  ['PC4 > -1.5739049249882986', 'PC1 <= -2.942688881678514']\n",
      "eta  ['PC4 > -1.5739049249882986', 'PC1 <= -2.942688881678514']\n",
      "    seed :  ['PC2 > -1.5988893278804068', 'PC1 <= -2.9287863975219537']\n",
      "eta  ['PC2 > -1.5988893278804068', 'PC1 <= -2.9287863975219537']\n",
      "    seed :  ['PC2 > -1.5988893278804068', 'PC6 > -1.2595669035739618']\n",
      "eta  ['PC2 > -1.5988893278804068', 'PC6 > -1.2595669035739618']\n",
      "    seed :  ['PC6 > -1.3472898590008138', 'PC1 <= -0.41622185179333565']\n",
      "eta  ['PC6 > -1.3472898590008138', 'PC1 <= -0.41622185179333565']\n",
      "    seed :  ['PC5 > -1.5024799266921451', 'PC1 <= -0.5866531583542317']\n",
      "eta  ['PC5 > -1.5024799266921451', 'PC1 <= -0.5866531583542317']\n",
      "    seed :  ['PC1 <= -0.4633999079719904', 'PC5 > -1.4952934729153988']\n",
      "eta  ['PC1 <= -0.4633999079719904', 'PC5 > -1.4952934729153988']\n",
      "    seed :  ['PC2 > -0.639784656317392', 'PC6 > -1.5938743296515636']\n",
      "eta  ['PC2 > -0.639784656317392', 'PC6 > -1.5938743296515636']\n",
      "    seed :  ['PC3 > -1.5685306866808073', 'PC1 <= -2.8224283613333983']\n",
      "eta  ['PC3 > -1.5685306866808073', 'PC1 <= -2.8224283613333983']\n",
      "    seed :  ['PC4 > -1.9178440637622953', 'PC1 <= -2.8525958314052633']\n",
      "eta  ['PC4 > -1.9178440637622953', 'PC1 <= -2.8525958314052633']\n",
      "    seed :  ['PC2 > -2.007346885426288', 'PC1 <= -2.8521830753941195']\n",
      "eta  ['PC2 > -2.007346885426288', 'PC1 <= -2.8521830753941195']\n",
      "    seed :  ['PC2 > -1.5988893278804068', 'PC5 > -1.2269305533190653']\n",
      "eta  ['PC2 > -1.5988893278804068', 'PC5 > -1.2269305533190653']\n",
      "    seed :  ['PC2 > -2.007346885426288', 'PC3 <= -1.0063885026624277']\n",
      "eta  ['PC2 > -2.007346885426288', 'PC3 <= -1.0063885026624277']\n",
      "    seed :  ['PC1 <= -0.4633999079719904', 'PC6 > -1.6137042932783747']\n",
      "eta  ['PC1 <= -0.4633999079719904', 'PC6 > -1.6137042932783747']\n",
      "    seed :  ['PC5 > -1.5024799266921451', 'PC2 > -1.224473752415324']\n",
      "eta  ['PC5 > -1.5024799266921451', 'PC2 > -1.224473752415324']\n",
      "    seed :  ['PC1 <= 9.036532812383179', 'PC3 <= -0.8519585137372201']\n",
      "eta  ['PC1 <= 9.036532812383179', 'PC3 <= -0.8519585137372201']\n",
      "    seed :  ['PC2 <= 9.63655790344434', 'PC3 <= -0.8519585137372201']\n",
      "eta  ['PC2 <= 9.63655790344434', 'PC3 <= -0.8519585137372201']\n",
      "    seed :  ['PC3 <= 9.61657111527724', 'PC3 <= -0.8519585137372201']\n",
      "eta  ['PC3 <= 9.61657111527724', 'PC3 <= -0.8519585137372201']\n",
      "    seed :  ['PC4 <= 8.299098166889426', 'PC3 <= -0.8519585137372201']\n",
      "eta  ['PC4 <= 8.299098166889426', 'PC3 <= -0.8519585137372201']\n",
      "    seed :  ['PC5 <= 6.1799117825457985', 'PC3 <= -0.8519585137372201']\n",
      "eta  ['PC5 <= 6.1799117825457985', 'PC3 <= -0.8519585137372201']\n",
      "    seed :  ['PC6 <= 9.108009235532332', 'PC3 <= -0.8519585137372201']\n",
      "eta  ['PC6 <= 9.108009235532332', 'PC3 <= -0.8519585137372201']\n",
      "    seed :  ['PC1 <= 9.036532812383179', 'PC2 > -1.5988893278804068']\n",
      "eta  ['PC1 <= 9.036532812383179', 'PC2 > -1.5988893278804068']\n",
      "    seed :  ['PC2 <= 9.63655790344434', 'PC2 > -1.5988893278804068']\n",
      "eta  ['PC2 <= 9.63655790344434', 'PC2 > -1.5988893278804068']\n",
      "    seed :  ['PC3 <= 9.61657111527724', 'PC2 > -1.5988893278804068']\n",
      "eta  ['PC3 <= 9.61657111527724', 'PC2 > -1.5988893278804068']\n",
      "    seed :  ['PC4 <= 8.299098166889426', 'PC2 > -1.5988893278804068']\n",
      "eta  ['PC4 <= 8.299098166889426', 'PC2 > -1.5988893278804068']\n",
      "    seed :  ['PC5 <= 6.1799117825457985', 'PC2 > -1.5988893278804068']\n",
      "eta  ['PC5 <= 6.1799117825457985', 'PC2 > -1.5988893278804068']\n",
      "    seed :  ['PC6 <= 9.108009235532332', 'PC2 > -1.5988893278804068']\n",
      "eta  ['PC6 <= 9.108009235532332', 'PC2 > -1.5988893278804068']\n",
      "    seed :  ['PC2 > -1.5988893278804068', 'PC6 > -1.552033659814625']\n",
      "eta  ['PC2 > -1.5988893278804068', 'PC6 > -1.552033659814625']\n",
      "    seed :  ['PC5 > -1.5024799266921451', 'PC2 > -1.7271681692010876']\n",
      "eta  ['PC5 > -1.5024799266921451', 'PC2 > -1.7271681692010876']\n",
      "    seed :  ['PC1 <= -0.4633999079719904', 'PC3 <= -0.7603934799647095']\n",
      "eta  ['PC1 <= -0.4633999079719904', 'PC3 <= -0.7603934799647095']\n",
      "    seed :  ['PC3 <= -0.8519585137372201', 'PC1 <= -0.3071280707564331']\n",
      "eta  ['PC3 <= -0.8519585137372201', 'PC1 <= -0.3071280707564331']\n",
      "    seed :  ['PC2 > -0.639784656317392', 'PC3 <= -1.066946080800198']\n",
      "eta  ['PC2 > -0.639784656317392', 'PC3 <= -1.066946080800198']\n",
      "    seed :  ['PC3 <= -0.8519585137372201', 'PC2 > -0.45699717887786084']\n",
      "eta  ['PC3 <= -0.8519585137372201', 'PC2 > -0.45699717887786084']\n",
      "    seed :  ['PC2 > -1.5988893278804068', 'PC3 <= -1.0005564950239887']\n",
      "eta  ['PC2 > -1.5988893278804068', 'PC3 <= -1.0005564950239887']\n",
      "    seed :  ['PC3 <= -0.8519585137372201', 'PC2 > -0.593157498473485']\n",
      "eta  ['PC3 <= -0.8519585137372201', 'PC2 > -0.593157498473485']\n",
      "    seed :  ['PC3 <= -0.8519585137372201', 'PC2 > -0.763013726371024']\n",
      "eta  ['PC3 <= -0.8519585137372201', 'PC2 > -0.763013726371024']\n"
     ]
    }
   ],
   "source": [
    "t1 = datetime.datetime.now()\n",
    "features_en = [col for col in df_en.columns if col != 'target']\n",
    "results_bs_df_en = EMM(100, 3, 100, [], df_en, features_en, 'target', ensure_diversity=True,prnt=False)\n",
    "t2 = datetime.datetime.now()\n",
    "bs_en_running_time = t2-t1\n",
    "bs_en_running_time\n",
    "\n",
    "bs_results['df_en']=df_en\n",
    "bs_results['df_en_results']=results_bs_df_en\n",
    "bs_results['df_en_running_time']=bs_en_running_time"
   ]
  },
  {
   "cell_type": "markdown",
   "metadata": {},
   "source": [
    "Save Subgroups"
   ]
  },
  {
   "cell_type": "code",
   "execution_count": 121,
   "metadata": {},
   "outputs": [],
   "source": [
    "now = datetime.datetime.now().strftime(\"%d-%m-%Y-%H-%M\")\n",
    "bs_file_name = f'bs-results-{now}.pkl'\n",
    "with open(bs_file_name,'wb') as f:\n",
    "    pickle.dump(bfs_results,f)"
   ]
  },
  {
   "cell_type": "markdown",
   "metadata": {},
   "source": [
    "Analyze Subgroups"
   ]
  },
  {
   "cell_type": "code",
   "execution_count": null,
   "metadata": {},
   "outputs": [],
   "source": [
    "# Loading the object using dill\n",
    "# with open(bs_file_name, 'rb') as f:\n",
    "#     loaded_dict = pickle.load(f)\n",
    "\n",
    "subgroups_n = [i for i in results_df_bs.get_values()]\n",
    "subgroups_en = [i for i in results_bs_df_en.get_values()]\n",
    "\n",
    "calc_result_bs(df_en, df, subgroups_en, subgroups_n)"
   ]
  },
  {
   "cell_type": "markdown",
   "metadata": {},
   "source": [
    "### 4. Interpretability Measures"
   ]
  },
  {
   "cell_type": "code",
   "execution_count": 122,
   "metadata": {},
   "outputs": [
    {
     "data": {
      "text/plain": [
       "Ellipsis"
      ]
     },
     "execution_count": 122,
     "metadata": {},
     "output_type": "execute_result"
    }
   ],
   "source": [
    "..."
   ]
  }
 ],
 "metadata": {
  "kernelspec": {
   "display_name": "base",
   "language": "python",
   "name": "python3"
  },
  "language_info": {
   "codemirror_mode": {
    "name": "ipython",
    "version": 3
   },
   "file_extension": ".py",
   "mimetype": "text/x-python",
   "name": "python",
   "nbconvert_exporter": "python",
   "pygments_lexer": "ipython3",
   "version": "3.12.4"
  }
 },
 "nbformat": 4,
 "nbformat_minor": 2
}
