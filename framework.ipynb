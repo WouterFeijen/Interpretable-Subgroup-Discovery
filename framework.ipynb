{
 "cells": [
  {
   "cell_type": "markdown",
   "metadata": {},
   "source": [
    "# \\<Title\\>"
   ]
  },
  {
   "cell_type": "markdown",
   "metadata": {},
   "source": [
    "Imports"
   ]
  },
  {
   "cell_type": "code",
   "execution_count": 35,
   "metadata": {},
   "outputs": [],
   "source": [
    "# imports\n",
    "import sys\n",
    "import datetime\n",
    "import matplotlib.pyplot as plt"
   ]
  },
  {
   "cell_type": "markdown",
   "metadata": {},
   "source": [
    "Import custom libraries"
   ]
  },
  {
   "cell_type": "code",
   "execution_count": 60,
   "metadata": {},
   "outputs": [],
   "source": [
    "# original py files\n",
    "sys.path.insert(1, r'W:\\OneDrive - TU Eindhoven\\DS&AI\\2024-2025\\2024-2025 q1\\2AMM20 - Research Topics in Data Mining\\Research Project Phase\\auto-encoder paper\\new_code\\methods')\n",
    "\n",
    "from data_methods import getData, standardize\n",
    "from dimensionality_reduction import reduce_dimensionality,reduce_with\n",
    "from beamSearch import EMM, as_string\n",
    "from adjPysubgroup import adjustedBestFirstSearch, adjustedDFS, adjustedApriori\n",
    "from qualityMeasures import calc_result_bs, calc_result_ps"
   ]
  },
  {
   "cell_type": "markdown",
   "metadata": {},
   "source": [
    "set variables"
   ]
  },
  {
   "cell_type": "code",
   "execution_count": 61,
   "metadata": {},
   "outputs": [],
   "source": [
    "dataset_name = 'Ionosphere'\n",
    "reduction_method = 'PCA' # choose from 'PCA' or 'auto_encoder' (others were not implemented yet)\n",
    "# ..."
   ]
  },
  {
   "cell_type": "markdown",
   "metadata": {},
   "source": [
    "## 1. Data"
   ]
  },
  {
   "cell_type": "markdown",
   "metadata": {},
   "source": [
    "Open the dataset with name ```dataset_name```."
   ]
  },
  {
   "cell_type": "code",
   "execution_count": 38,
   "metadata": {},
   "outputs": [],
   "source": [
    "df, cat, num, features = getData(dataset_name)\n",
    "df_original = df.copy()"
   ]
  },
  {
   "cell_type": "markdown",
   "metadata": {},
   "source": [
    "Standardize the DataFrame <font color='red'>move to reduce_dimensionality method??</font>"
   ]
  },
  {
   "cell_type": "code",
   "execution_count": 39,
   "metadata": {},
   "outputs": [],
   "source": [
    "# standardize\n",
    "# df_std = standardize(df,num) # ? MOVE TO reduce_dimensionality FUNCTION??"
   ]
  },
  {
   "cell_type": "markdown",
   "metadata": {},
   "source": [
    "## 2. Reduce Dimensionality"
   ]
  },
  {
   "cell_type": "markdown",
   "metadata": {},
   "source": [
    "### 2.1 Find Optimal Number of Reduced Features"
   ]
  },
  {
   "cell_type": "markdown",
   "metadata": {},
   "source": [
    "Set lower and upper bound estimates for the number of features "
   ]
  },
  {
   "cell_type": "code",
   "execution_count": 40,
   "metadata": {},
   "outputs": [],
   "source": [
    "l_est, r_est = 2, 12"
   ]
  },
  {
   "cell_type": "markdown",
   "metadata": {},
   "source": [
    "Compare the <font color='red'>MSE</font> of performing dimensionality reduction to different numbers of features."
   ]
  },
  {
   "cell_type": "code",
   "execution_count": 47,
   "metadata": {},
   "outputs": [
    {
     "data": {
      "image/png": "[encoded data removed]",
      "text/plain": [
       "<Figure size 640x480 with 1 Axes>"
      ]
     },
     "metadata": {},
     "output_type": "display_data"
    },
    {
     "data": {
      "text/plain": [
       "0.132551"
      ]
     },
     "execution_count": 47,
     "metadata": {},
     "output_type": "execute_result"
    }
   ],
   "source": [
    "t1 = datetime.datetime.now()\n",
    "mseList = []\n",
    "\n",
    "for i in range(l_est, r_est+1):\n",
    "\n",
    "    df_en,mse = reduce_dimensionality(\n",
    "                    data=df,\n",
    "                    reduction_method=reduction_method,\n",
    "                    catColumns=cat,\n",
    "                    numColumns=num, \n",
    "                    nFeatures=i,\n",
    "                    nEpochs=100\n",
    "                )\n",
    "    \n",
    "    mseList.append(mse)\n",
    "t2 = datetime.datetime.now()\n",
    "\n",
    "plt.plot([i for i in range(l_est, r_est+1)], mseList)\n",
    "plt.xlabel(\"Nr of Features\") # ! new\n",
    "plt.ylabel(\"MSE\") # ! new\n",
    "plt.show()\n",
    "\n",
    "running_time = t2-t1\n",
    "running_time.total_seconds()"
   ]
  },
  {
   "cell_type": "markdown",
   "metadata": {},
   "source": [
    "From the results we can conclude that the optimal number of reduced features is ... "
   ]
  },
  {
   "cell_type": "code",
   "execution_count": 51,
   "metadata": {},
   "outputs": [],
   "source": [
    "optimal_nr_features = 5"
   ]
  },
  {
   "cell_type": "markdown",
   "metadata": {},
   "source": [
    "### 2.2 reduce"
   ]
  },
  {
   "cell_type": "code",
   "execution_count": 55,
   "metadata": {},
   "outputs": [
    {
     "data": {
      "text/html": [
       "<div>\n",
       "<style scoped>\n",
       "    .dataframe tbody tr th:only-of-type {\n",
       "        vertical-align: middle;\n",
       "    }\n",
       "\n",
       "    .dataframe tbody tr th {\n",
       "        vertical-align: top;\n",
       "    }\n",
       "\n",
       "    .dataframe thead th {\n",
       "        text-align: right;\n",
       "    }\n",
       "</style>\n",
       "<table border=\"1\" class=\"dataframe\">\n",
       "  <thead>\n",
       "    <tr style=\"text-align: right;\">\n",
       "      <th></th>\n",
       "      <th>target</th>\n",
       "      <th>PC1</th>\n",
       "      <th>PC2</th>\n",
       "      <th>PC3</th>\n",
       "      <th>PC4</th>\n",
       "      <th>PC5</th>\n",
       "    </tr>\n",
       "  </thead>\n",
       "  <tbody>\n",
       "    <tr>\n",
       "      <th>158</th>\n",
       "      <td>0</td>\n",
       "      <td>1.538411</td>\n",
       "      <td>-0.456752</td>\n",
       "      <td>-1.493062</td>\n",
       "      <td>-0.504907</td>\n",
       "      <td>-0.196616</td>\n",
       "    </tr>\n",
       "    <tr>\n",
       "      <th>334</th>\n",
       "      <td>1</td>\n",
       "      <td>-3.833350</td>\n",
       "      <td>0.139706</td>\n",
       "      <td>0.847891</td>\n",
       "      <td>0.326811</td>\n",
       "      <td>0.152140</td>\n",
       "    </tr>\n",
       "    <tr>\n",
       "      <th>258</th>\n",
       "      <td>1</td>\n",
       "      <td>-1.663069</td>\n",
       "      <td>0.549608</td>\n",
       "      <td>-0.059016</td>\n",
       "      <td>0.126336</td>\n",
       "      <td>0.440339</td>\n",
       "    </tr>\n",
       "    <tr>\n",
       "      <th>124</th>\n",
       "      <td>0</td>\n",
       "      <td>2.128837</td>\n",
       "      <td>-0.171527</td>\n",
       "      <td>-0.597128</td>\n",
       "      <td>0.269459</td>\n",
       "      <td>1.495696</td>\n",
       "    </tr>\n",
       "    <tr>\n",
       "      <th>147</th>\n",
       "      <td>1</td>\n",
       "      <td>-3.911710</td>\n",
       "      <td>0.150842</td>\n",
       "      <td>0.741003</td>\n",
       "      <td>0.164370</td>\n",
       "      <td>0.058516</td>\n",
       "    </tr>\n",
       "  </tbody>\n",
       "</table>\n",
       "</div>"
      ],
      "text/plain": [
       "    target       PC1       PC2       PC3       PC4       PC5\n",
       "158      0  1.538411 -0.456752 -1.493062 -0.504907 -0.196616\n",
       "334      1 -3.833350  0.139706  0.847891  0.326811  0.152140\n",
       "258      1 -1.663069  0.549608 -0.059016  0.126336  0.440339\n",
       "124      0  2.128837 -0.171527 -0.597128  0.269459  1.495696\n",
       "147      1 -3.911710  0.150842  0.741003  0.164370  0.058516"
      ]
     },
     "execution_count": 55,
     "metadata": {},
     "output_type": "execute_result"
    }
   ],
   "source": [
    "df_en,_ = reduce_dimensionality(\n",
    "            data=df,\n",
    "            reduction_method=reduction_method,\n",
    "            catColumns=cat,\n",
    "            numColumns=num, \n",
    "            nFeatures=optimal_nr_features,\n",
    "            nEpochs=100\n",
    "        )\n",
    "\n",
    "df_en.sample(5)"
   ]
  },
  {
   "cell_type": "markdown",
   "metadata": {},
   "source": [
    "## 3. Subgroup Discovery\n",
    "Run the subgroup discovery algorithms on the dataset."
   ]
  },
  {
   "cell_type": "markdown",
   "metadata": {},
   "source": [
    "### 3.1 Beam Search"
   ]
  },
  {
   "cell_type": "markdown",
   "metadata": {},
   "source": [
    "#### 3.1.1 Find Subgroups"
   ]
  },
  {
   "cell_type": "code",
   "execution_count": 57,
   "metadata": {},
   "outputs": [
    {
     "name": "stdout",
     "output_type": "stream",
     "text": [
      "level :  0\n",
      "    seed :  []\n",
      "eta  []\n",
      "level :  1\n",
      "    seed :  ['attribute21 > 0.0']\n",
      "eta  ['attribute21 > 0.0']\n",
      "    seed :  ['attribute22 > -0.14815']\n",
      "eta  ['attribute22 > -0.14815']\n",
      "    seed :  ['attribute25 > -0.47137']\n",
      "eta  ['attribute25 > -0.47137']\n",
      "    seed :  ['attribute29 > -0.38059']\n",
      "eta  ['attribute29 > -0.38059']\n",
      "    seed :  ['attribute11 > -0.002969999999999957']\n",
      "eta  ['attribute11 > -0.002969999999999957']\n",
      "    seed :  ['attribute23 > 0.0']\n",
      "eta  ['attribute23 > 0.0']\n",
      "    seed :  ['attribute23 > -0.366885']\n",
      "eta  ['attribute23 > -0.366885']\n",
      "    seed :  ['attribute25 > -0.33239']\n",
      "eta  ['attribute25 > -0.33239']\n",
      "    seed :  ['attribute16 <= -0.09483']\n",
      "eta  ['attribute16 <= -0.09483']\n",
      "    seed :  ['attribute33 <= -0.16535']\n",
      "eta  ['attribute33 <= -0.16535']\n",
      "    seed :  ['attribute15 > -0.081705']\n",
      "eta  ['attribute15 > -0.081705']\n",
      "    seed :  ['attribute5 > -0.06151']\n",
      "eta  ['attribute5 > -0.06151']\n",
      "    seed :  ['attribute15 > -0.15616']\n",
      "eta  ['attribute15 > -0.15616']\n",
      "    seed :  ['attribute7 > -0.006166666666666636']\n",
      "eta  ['attribute7 > -0.006166666666666636']\n",
      "    seed :  ['attribute11 > -0.06526499999999999']\n",
      "eta  ['attribute11 > -0.06526499999999999']\n",
      "    seed :  ['attribute29 > 0.0']\n",
      "eta  ['attribute29 > 0.0']\n",
      "    seed :  ['attribute19 > -0.23467']\n",
      "eta  ['attribute19 > -0.23467']\n",
      "    seed :  ['attribute11 > -0.11111']\n",
      "eta  ['attribute11 > -0.11111']\n",
      "    seed :  ['attribute23 > -0.50333']\n",
      "eta  ['attribute23 > -0.50333']\n",
      "    seed :  ['attribute33 > 0.0']\n",
      "eta  ['attribute33 > 0.0']\n",
      "    seed :  ['attribute21 <= -0.08855666666666662']\n",
      "eta  ['attribute21 <= -0.08855666666666662']\n",
      "    seed :  ['attribute7 > -0.05484']\n",
      "eta  ['attribute7 > -0.05484']\n",
      "    seed :  ['attribute13 > -0.073725']\n",
      "eta  ['attribute13 > -0.073725']\n",
      "    seed :  ['attribute17 > -0.22569']\n",
      "eta  ['attribute17 > -0.22569']\n",
      "    seed :  ['attribute10 > 0.66798']\n",
      "eta  ['attribute10 > 0.66798']\n",
      "    seed :  ['attribute3 > -0.013499999999999995']\n",
      "eta  ['attribute3 > -0.013499999999999995']\n",
      "    seed :  ['attribute33 <= -0.06394999999999995']\n",
      "eta  ['attribute33 <= -0.06394999999999995']\n",
      "    seed :  ['attribute25 <= -0.01505']\n",
      "eta  ['attribute25 <= -0.01505']\n",
      "    seed :  ['attribute17 > -0.32268']\n",
      "eta  ['attribute17 > -0.32268']\n",
      "    seed :  ['attribute9 > 0.01829']\n",
      "eta  ['attribute9 > 0.01829']\n",
      "    seed :  ['attribute13 > -0.12738']\n",
      "eta  ['attribute13 > -0.12738']\n",
      "    seed :  ['attribute19 > -0.42052']\n",
      "eta  ['attribute19 > -0.42052']\n",
      "    seed :  ['attribute16 > 0.59091']\n",
      "eta  ['attribute16 > 0.59091']\n",
      "    seed :  ['attribute18 > 0.0']\n",
      "eta  ['attribute18 > 0.0']\n",
      "    seed :  ['attribute17 > 0.0']\n",
      "eta  ['attribute17 > 0.0']\n",
      "    seed :  ['attribute7 > -0.10401']\n",
      "eta  ['attribute7 > -0.10401']\n",
      "    seed :  ['attribute16 > 0.0']\n",
      "eta  ['attribute16 > 0.0']\n",
      "    seed :  ['attribute5 > 0.0228']\n",
      "eta  ['attribute5 > 0.0228']\n",
      "    seed :  ['attribute18 > 0.57619']\n",
      "eta  ['attribute18 > 0.57619']\n",
      "    seed :  ['attribute24 > 0.55389']\n",
      "eta  ['attribute24 > 0.55389']\n",
      "    seed :  ['attribute27 > -0.1764733333333333']\n",
      "eta  ['attribute27 > -0.1764733333333333']\n",
      "    seed :  ['attribute4 > 0.8092']\n",
      "eta  ['attribute4 > 0.8092']\n",
      "    seed :  ['attribute22 > 0.53176']\n",
      "eta  ['attribute22 > 0.53176']\n",
      "    seed :  ['attribute16 > 0.16147666666666682']\n",
      "eta  ['attribute16 > 0.16147666666666682']\n",
      "    seed :  ['attribute3 > -0.064735']\n",
      "eta  ['attribute3 > -0.064735']\n",
      "    seed :  ['attribute27 > -0.44316500000000003']\n",
      "eta  ['attribute27 > -0.44316500000000003']\n",
      "    seed :  ['attribute9 > 0.0']\n",
      "eta  ['attribute9 > 0.0']\n",
      "    seed :  ['attribute13 > 0.03027']\n",
      "eta  ['attribute13 > 0.03027']\n",
      "    seed :  ['attribute28 > 0.49664']\n",
      "eta  ['attribute28 > 0.49664']\n",
      "    seed :  ['attribute10 > 0.0']\n",
      "eta  ['attribute10 > 0.0']\n",
      "    seed :  ['attribute18 > 0.1220366666666667']\n",
      "eta  ['attribute18 > 0.1220366666666667']\n",
      "    seed :  ['attribute12 > 0.64407']\n",
      "eta  ['attribute12 > 0.64407']\n",
      "    seed :  ['attribute10 > 0.02112']\n",
      "eta  ['attribute10 > 0.02112']\n",
      "    seed :  ['attribute3 > -0.10526']\n",
      "eta  ['attribute3 > -0.10526']\n",
      "    seed :  ['attribute11 > 0.02825']\n",
      "eta  ['attribute11 > 0.02825']\n",
      "    seed :  ['attribute26 <= 0.70824']\n",
      "eta  ['attribute26 <= 0.70824']\n",
      "    seed :  ['attribute27 > -0.57092']\n",
      "eta  ['attribute27 > -0.57092']\n",
      "    seed :  ['attribute8 > 0.68421']\n",
      "eta  ['attribute8 > 0.68421']\n",
      "    seed :  ['attribute10 > 0.3607400000000001']\n",
      "eta  ['attribute10 > 0.3607400000000001']\n",
      "    seed :  ['attribute3 > 0.01631']\n",
      "eta  ['attribute3 > 0.01631']\n",
      "    seed :  ['attribute20 > 0.49909']\n",
      "eta  ['attribute20 > 0.49909']\n",
      "    seed :  ['attribute24 > 0.0']\n",
      "eta  ['attribute24 > 0.0']\n",
      "    seed :  ['attribute15 > 0.0']\n",
      "eta  ['attribute15 > 0.0']\n",
      "    seed :  ['attribute6 > 0.72873']\n",
      "eta  ['attribute6 > 0.72873']\n",
      "    seed :  ['attribute12 > 0.0']\n",
      "eta  ['attribute12 > 0.0']\n",
      "    seed :  ['attribute5 > 0.0']\n",
      "eta  ['attribute5 > 0.0']\n",
      "    seed :  ['attribute8 > 0.0']\n",
      "eta  ['attribute8 > 0.0']\n",
      "    seed :  ['attribute7 > 0.01471']\n",
      "eta  ['attribute7 > 0.01471']\n",
      "    seed :  ['attribute2 > 0.87111']\n",
      "eta  ['attribute2 > 0.87111']\n",
      "    seed :  ['attribute30 > 0.44277']\n",
      "eta  ['attribute30 > 0.44277']\n",
      "    seed :  ['attribute12 > 0.12343000000000001']\n",
      "eta  ['attribute12 > 0.12343000000000001']\n",
      "    seed :  ['attribute22 > 0.027513333333333355']\n",
      "eta  ['attribute22 > 0.027513333333333355']\n",
      "    seed :  ['attribute24 > 0.21849000000000007']\n",
      "eta  ['attribute24 > 0.21849000000000007']\n",
      "    seed :  ['attribute22 > 0.0']\n",
      "eta  ['attribute22 > 0.0']\n",
      "    seed :  ['attribute8 > 0.08710999999999999']\n",
      "eta  ['attribute8 > 0.08710999999999999']\n",
      "    seed :  ['attribute14 > 0.60194']\n",
      "eta  ['attribute14 > 0.60194']\n",
      "    seed :  ['attribute8 > 0.34614333333333336']\n",
      "eta  ['attribute8 > 0.34614333333333336']\n",
      "    seed :  ['attribute14 > 0.0']\n",
      "eta  ['attribute14 > 0.0']\n"
     ]
    },
    {
     "ename": "KeyboardInterrupt",
     "evalue": "",
     "output_type": "error",
     "traceback": [
      "\u001b[1;31m---------------------------------------------------------------------------\u001b[0m",
      "\u001b[1;31mKeyboardInterrupt\u001b[0m                         Traceback (most recent call last)",
      "Cell \u001b[1;32mIn[57], line 2\u001b[0m\n\u001b[0;32m      1\u001b[0m t1 \u001b[38;5;241m=\u001b[39m datetime\u001b[38;5;241m.\u001b[39mdatetime\u001b[38;5;241m.\u001b[39mnow()\n\u001b[1;32m----> 2\u001b[0m output \u001b[38;5;241m=\u001b[39m EMM(\u001b[38;5;241m100\u001b[39m, \u001b[38;5;241m3\u001b[39m, \u001b[38;5;241m100\u001b[39m, [], df, features, \u001b[38;5;124m'\u001b[39m\u001b[38;5;124mtarget\u001b[39m\u001b[38;5;124m'\u001b[39m, ensure_diversity\u001b[38;5;241m=\u001b[39m\u001b[38;5;28;01mTrue\u001b[39;00m)\n\u001b[0;32m      3\u001b[0m t2 \u001b[38;5;241m=\u001b[39m datetime\u001b[38;5;241m.\u001b[39mdatetime\u001b[38;5;241m.\u001b[39mnow()\n\u001b[0;32m      4\u001b[0m running_time \u001b[38;5;241m=\u001b[39m t2\u001b[38;5;241m-\u001b[39mt1\n",
      "File \u001b[1;32mW:\\OneDrive - TU Eindhoven\\DS&AI\\2024-2025\\2024-2025 q1\\2AMM20 - Research Topics in Data Mining\\Research Project Phase\\auto-encoder paper\\new_code\\methods\\beamSearch.py:209\u001b[0m, in \u001b[0;36mEMM\u001b[1;34m(w, d, q, catch_all_description, df, features, target, n_chunks, ensure_diversity)\u001b[0m\n\u001b[0;32m    203\u001b[0m \u001b[38;5;28;01mfor\u001b[39;00m desc \u001b[38;5;129;01min\u001b[39;00m eta(seed, df, features, n_chunks):\n\u001b[0;32m    204\u001b[0m \n\u001b[0;32m    205\u001b[0m     \u001b[38;5;66;03m# Check if the subgroup contains at least x% of data, proceed if yes\u001b[39;00m\n\u001b[0;32m    206\u001b[0m     \u001b[38;5;28;01mif\u001b[39;00m satisfies_all(desc, df):\n\u001b[0;32m    207\u001b[0m \n\u001b[0;32m    208\u001b[0m         \u001b[38;5;66;03m# Calculate the new solution's quality\u001b[39;00m\n\u001b[1;32m--> 209\u001b[0m         quality \u001b[38;5;241m=\u001b[39m eval_quality(desc, df, target)\n\u001b[0;32m    211\u001b[0m         \u001b[38;5;66;03m# Ensure diversity by forcing difference in quality when compared to its seed\u001b[39;00m\n\u001b[0;32m    212\u001b[0m         \u001b[38;5;66;03m# if <ensure_diversity> is set to True. Principle is based on:\u001b[39;00m\n\u001b[0;32m    213\u001b[0m         \u001b[38;5;66;03m# Van Leeuwen, M., & Knobbe, A. (2012), Diverse subgroup set discovery.\u001b[39;00m\n\u001b[0;32m    214\u001b[0m         \u001b[38;5;66;03m# Data Mining and Knowledge Discovery, 25(2), 208-242.\u001b[39;00m\n\u001b[0;32m    215\u001b[0m         \u001b[38;5;28;01mif\u001b[39;00m ensure_diversity:\n",
      "File \u001b[1;32mW:\\OneDrive - TU Eindhoven\\DS&AI\\2024-2025\\2024-2025 q1\\2AMM20 - Research Topics in Data Mining\\Research Project Phase\\auto-encoder paper\\new_code\\methods\\beamSearch.py:160\u001b[0m, in \u001b[0;36meval_quality\u001b[1;34m(desc, df, target)\u001b[0m\n\u001b[0;32m    158\u001b[0m sub_group \u001b[38;5;241m=\u001b[39m df[df\u001b[38;5;241m.\u001b[39meval(as_string(desc))] \n\u001b[0;32m    159\u001b[0m prop_p_sg \u001b[38;5;241m=\u001b[39m \u001b[38;5;28mlen\u001b[39m(sub_group[sub_group[target]\u001b[38;5;241m==\u001b[39m\u001b[38;5;241m1\u001b[39m])\u001b[38;5;241m/\u001b[39m\u001b[38;5;28mlen\u001b[39m(sub_group)\n\u001b[1;32m--> 160\u001b[0m prop_p_df \u001b[38;5;241m=\u001b[39m \u001b[38;5;28mlen\u001b[39m(df[df[target]\u001b[38;5;241m==\u001b[39m\u001b[38;5;241m1\u001b[39m])\u001b[38;5;241m/\u001b[39m\u001b[38;5;28mlen\u001b[39m(df)\n\u001b[0;32m    161\u001b[0m wracc \u001b[38;5;241m=\u001b[39m ((\u001b[38;5;28mlen\u001b[39m(sub_group)\u001b[38;5;241m/\u001b[39m\u001b[38;5;28mlen\u001b[39m(df))\u001b[38;5;241m*\u001b[39m\u001b[38;5;241m*\u001b[39m\u001b[38;5;241m1\u001b[39m) \u001b[38;5;241m*\u001b[39m (prop_p_sg \u001b[38;5;241m-\u001b[39m prop_p_df) \u001b[38;5;66;03m#for WRAcc a=1\u001b[39;00m\n\u001b[0;32m    162\u001b[0m \u001b[38;5;28;01mreturn\u001b[39;00m wracc\n",
      "File \u001b[1;32mw:\\Users\\wfeij\\anaconda3\\Lib\\site-packages\\pandas\\core\\frame.py:4093\u001b[0m, in \u001b[0;36mDataFrame.__getitem__\u001b[1;34m(self, key)\u001b[0m\n\u001b[0;32m   4091\u001b[0m \u001b[38;5;66;03m# Do we have a (boolean) 1d indexer?\u001b[39;00m\n\u001b[0;32m   4092\u001b[0m \u001b[38;5;28;01mif\u001b[39;00m com\u001b[38;5;241m.\u001b[39mis_bool_indexer(key):\n\u001b[1;32m-> 4093\u001b[0m     \u001b[38;5;28;01mreturn\u001b[39;00m \u001b[38;5;28mself\u001b[39m\u001b[38;5;241m.\u001b[39m_getitem_bool_array(key)\n\u001b[0;32m   4095\u001b[0m \u001b[38;5;66;03m# We are left with two options: a single key, and a collection of keys,\u001b[39;00m\n\u001b[0;32m   4096\u001b[0m \u001b[38;5;66;03m# We interpret tuples as collections only for non-MultiIndex\u001b[39;00m\n\u001b[0;32m   4097\u001b[0m is_single_key \u001b[38;5;241m=\u001b[39m \u001b[38;5;28misinstance\u001b[39m(key, \u001b[38;5;28mtuple\u001b[39m) \u001b[38;5;129;01mor\u001b[39;00m \u001b[38;5;129;01mnot\u001b[39;00m is_list_like(key)\n",
      "File \u001b[1;32mw:\\Users\\wfeij\\anaconda3\\Lib\\site-packages\\pandas\\core\\frame.py:4155\u001b[0m, in \u001b[0;36mDataFrame._getitem_bool_array\u001b[1;34m(self, key)\u001b[0m\n\u001b[0;32m   4152\u001b[0m     \u001b[38;5;28;01mreturn\u001b[39;00m \u001b[38;5;28mself\u001b[39m\u001b[38;5;241m.\u001b[39mcopy(deep\u001b[38;5;241m=\u001b[39m\u001b[38;5;28;01mNone\u001b[39;00m)\n\u001b[0;32m   4154\u001b[0m indexer \u001b[38;5;241m=\u001b[39m key\u001b[38;5;241m.\u001b[39mnonzero()[\u001b[38;5;241m0\u001b[39m]\n\u001b[1;32m-> 4155\u001b[0m \u001b[38;5;28;01mreturn\u001b[39;00m \u001b[38;5;28mself\u001b[39m\u001b[38;5;241m.\u001b[39m_take_with_is_copy(indexer, axis\u001b[38;5;241m=\u001b[39m\u001b[38;5;241m0\u001b[39m)\n",
      "File \u001b[1;32mw:\\Users\\wfeij\\anaconda3\\Lib\\site-packages\\pandas\\core\\generic.py:4153\u001b[0m, in \u001b[0;36mNDFrame._take_with_is_copy\u001b[1;34m(self, indices, axis)\u001b[0m\n\u001b[0;32m   4142\u001b[0m \u001b[38;5;129m@final\u001b[39m\n\u001b[0;32m   4143\u001b[0m \u001b[38;5;28;01mdef\u001b[39;00m \u001b[38;5;21m_take_with_is_copy\u001b[39m(\u001b[38;5;28mself\u001b[39m, indices, axis: Axis \u001b[38;5;241m=\u001b[39m \u001b[38;5;241m0\u001b[39m) \u001b[38;5;241m-\u001b[39m\u001b[38;5;241m>\u001b[39m Self:\n\u001b[0;32m   4144\u001b[0m \u001b[38;5;250m    \u001b[39m\u001b[38;5;124;03m\"\"\"\u001b[39;00m\n\u001b[0;32m   4145\u001b[0m \u001b[38;5;124;03m    Internal version of the `take` method that sets the `_is_copy`\u001b[39;00m\n\u001b[0;32m   4146\u001b[0m \u001b[38;5;124;03m    attribute to keep track of the parent dataframe (using in indexing\u001b[39;00m\n\u001b[1;32m   (...)\u001b[0m\n\u001b[0;32m   4151\u001b[0m \u001b[38;5;124;03m    See the docstring of `take` for full explanation of the parameters.\u001b[39;00m\n\u001b[0;32m   4152\u001b[0m \u001b[38;5;124;03m    \"\"\"\u001b[39;00m\n\u001b[1;32m-> 4153\u001b[0m     result \u001b[38;5;241m=\u001b[39m \u001b[38;5;28mself\u001b[39m\u001b[38;5;241m.\u001b[39mtake(indices\u001b[38;5;241m=\u001b[39mindices, axis\u001b[38;5;241m=\u001b[39maxis)\n\u001b[0;32m   4154\u001b[0m     \u001b[38;5;66;03m# Maybe set copy if we didn't actually change the index.\u001b[39;00m\n\u001b[0;32m   4155\u001b[0m     \u001b[38;5;28;01mif\u001b[39;00m \u001b[38;5;28mself\u001b[39m\u001b[38;5;241m.\u001b[39mndim \u001b[38;5;241m==\u001b[39m \u001b[38;5;241m2\u001b[39m \u001b[38;5;129;01mand\u001b[39;00m \u001b[38;5;129;01mnot\u001b[39;00m result\u001b[38;5;241m.\u001b[39m_get_axis(axis)\u001b[38;5;241m.\u001b[39mequals(\u001b[38;5;28mself\u001b[39m\u001b[38;5;241m.\u001b[39m_get_axis(axis)):\n",
      "File \u001b[1;32mw:\\Users\\wfeij\\anaconda3\\Lib\\site-packages\\pandas\\core\\generic.py:4133\u001b[0m, in \u001b[0;36mNDFrame.take\u001b[1;34m(self, indices, axis, **kwargs)\u001b[0m\n\u001b[0;32m   4128\u001b[0m     \u001b[38;5;66;03m# We can get here with a slice via DataFrame.__getitem__\u001b[39;00m\n\u001b[0;32m   4129\u001b[0m     indices \u001b[38;5;241m=\u001b[39m np\u001b[38;5;241m.\u001b[39marange(\n\u001b[0;32m   4130\u001b[0m         indices\u001b[38;5;241m.\u001b[39mstart, indices\u001b[38;5;241m.\u001b[39mstop, indices\u001b[38;5;241m.\u001b[39mstep, dtype\u001b[38;5;241m=\u001b[39mnp\u001b[38;5;241m.\u001b[39mintp\n\u001b[0;32m   4131\u001b[0m     )\n\u001b[1;32m-> 4133\u001b[0m new_data \u001b[38;5;241m=\u001b[39m \u001b[38;5;28mself\u001b[39m\u001b[38;5;241m.\u001b[39m_mgr\u001b[38;5;241m.\u001b[39mtake(\n\u001b[0;32m   4134\u001b[0m     indices,\n\u001b[0;32m   4135\u001b[0m     axis\u001b[38;5;241m=\u001b[39m\u001b[38;5;28mself\u001b[39m\u001b[38;5;241m.\u001b[39m_get_block_manager_axis(axis),\n\u001b[0;32m   4136\u001b[0m     verify\u001b[38;5;241m=\u001b[39m\u001b[38;5;28;01mTrue\u001b[39;00m,\n\u001b[0;32m   4137\u001b[0m )\n\u001b[0;32m   4138\u001b[0m \u001b[38;5;28;01mreturn\u001b[39;00m \u001b[38;5;28mself\u001b[39m\u001b[38;5;241m.\u001b[39m_constructor_from_mgr(new_data, axes\u001b[38;5;241m=\u001b[39mnew_data\u001b[38;5;241m.\u001b[39maxes)\u001b[38;5;241m.\u001b[39m__finalize__(\n\u001b[0;32m   4139\u001b[0m     \u001b[38;5;28mself\u001b[39m, method\u001b[38;5;241m=\u001b[39m\u001b[38;5;124m\"\u001b[39m\u001b[38;5;124mtake\u001b[39m\u001b[38;5;124m\"\u001b[39m\n\u001b[0;32m   4140\u001b[0m )\n",
      "File \u001b[1;32mw:\\Users\\wfeij\\anaconda3\\Lib\\site-packages\\pandas\\core\\internals\\managers.py:894\u001b[0m, in \u001b[0;36mBaseBlockManager.take\u001b[1;34m(self, indexer, axis, verify)\u001b[0m\n\u001b[0;32m    891\u001b[0m indexer \u001b[38;5;241m=\u001b[39m maybe_convert_indices(indexer, n, verify\u001b[38;5;241m=\u001b[39mverify)\n\u001b[0;32m    893\u001b[0m new_labels \u001b[38;5;241m=\u001b[39m \u001b[38;5;28mself\u001b[39m\u001b[38;5;241m.\u001b[39maxes[axis]\u001b[38;5;241m.\u001b[39mtake(indexer)\n\u001b[1;32m--> 894\u001b[0m \u001b[38;5;28;01mreturn\u001b[39;00m \u001b[38;5;28mself\u001b[39m\u001b[38;5;241m.\u001b[39mreindex_indexer(\n\u001b[0;32m    895\u001b[0m     new_axis\u001b[38;5;241m=\u001b[39mnew_labels,\n\u001b[0;32m    896\u001b[0m     indexer\u001b[38;5;241m=\u001b[39mindexer,\n\u001b[0;32m    897\u001b[0m     axis\u001b[38;5;241m=\u001b[39maxis,\n\u001b[0;32m    898\u001b[0m     allow_dups\u001b[38;5;241m=\u001b[39m\u001b[38;5;28;01mTrue\u001b[39;00m,\n\u001b[0;32m    899\u001b[0m     copy\u001b[38;5;241m=\u001b[39m\u001b[38;5;28;01mNone\u001b[39;00m,\n\u001b[0;32m    900\u001b[0m )\n",
      "File \u001b[1;32mw:\\Users\\wfeij\\anaconda3\\Lib\\site-packages\\pandas\\core\\internals\\managers.py:688\u001b[0m, in \u001b[0;36mBaseBlockManager.reindex_indexer\u001b[1;34m(self, new_axis, indexer, axis, fill_value, allow_dups, copy, only_slice, use_na_proxy)\u001b[0m\n\u001b[0;32m    680\u001b[0m     new_blocks \u001b[38;5;241m=\u001b[39m \u001b[38;5;28mself\u001b[39m\u001b[38;5;241m.\u001b[39m_slice_take_blocks_ax0(\n\u001b[0;32m    681\u001b[0m         indexer,\n\u001b[0;32m    682\u001b[0m         fill_value\u001b[38;5;241m=\u001b[39mfill_value,\n\u001b[0;32m    683\u001b[0m         only_slice\u001b[38;5;241m=\u001b[39monly_slice,\n\u001b[0;32m    684\u001b[0m         use_na_proxy\u001b[38;5;241m=\u001b[39muse_na_proxy,\n\u001b[0;32m    685\u001b[0m     )\n\u001b[0;32m    686\u001b[0m \u001b[38;5;28;01melse\u001b[39;00m:\n\u001b[0;32m    687\u001b[0m     new_blocks \u001b[38;5;241m=\u001b[39m [\n\u001b[1;32m--> 688\u001b[0m         blk\u001b[38;5;241m.\u001b[39mtake_nd(\n\u001b[0;32m    689\u001b[0m             indexer,\n\u001b[0;32m    690\u001b[0m             axis\u001b[38;5;241m=\u001b[39m\u001b[38;5;241m1\u001b[39m,\n\u001b[0;32m    691\u001b[0m             fill_value\u001b[38;5;241m=\u001b[39m(\n\u001b[0;32m    692\u001b[0m                 fill_value \u001b[38;5;28;01mif\u001b[39;00m fill_value \u001b[38;5;129;01mis\u001b[39;00m \u001b[38;5;129;01mnot\u001b[39;00m \u001b[38;5;28;01mNone\u001b[39;00m \u001b[38;5;28;01melse\u001b[39;00m blk\u001b[38;5;241m.\u001b[39mfill_value\n\u001b[0;32m    693\u001b[0m             ),\n\u001b[0;32m    694\u001b[0m         )\n\u001b[0;32m    695\u001b[0m         \u001b[38;5;28;01mfor\u001b[39;00m blk \u001b[38;5;129;01min\u001b[39;00m \u001b[38;5;28mself\u001b[39m\u001b[38;5;241m.\u001b[39mblocks\n\u001b[0;32m    696\u001b[0m     ]\n\u001b[0;32m    698\u001b[0m new_axes \u001b[38;5;241m=\u001b[39m \u001b[38;5;28mlist\u001b[39m(\u001b[38;5;28mself\u001b[39m\u001b[38;5;241m.\u001b[39maxes)\n\u001b[0;32m    699\u001b[0m new_axes[axis] \u001b[38;5;241m=\u001b[39m new_axis\n",
      "File \u001b[1;32mw:\\Users\\wfeij\\anaconda3\\Lib\\site-packages\\pandas\\core\\internals\\blocks.py:1307\u001b[0m, in \u001b[0;36mBlock.take_nd\u001b[1;34m(self, indexer, axis, new_mgr_locs, fill_value)\u001b[0m\n\u001b[0;32m   1304\u001b[0m     allow_fill \u001b[38;5;241m=\u001b[39m \u001b[38;5;28;01mTrue\u001b[39;00m\n\u001b[0;32m   1306\u001b[0m \u001b[38;5;66;03m# Note: algos.take_nd has upcast logic similar to coerce_to_target_dtype\u001b[39;00m\n\u001b[1;32m-> 1307\u001b[0m new_values \u001b[38;5;241m=\u001b[39m algos\u001b[38;5;241m.\u001b[39mtake_nd(\n\u001b[0;32m   1308\u001b[0m     values, indexer, axis\u001b[38;5;241m=\u001b[39maxis, allow_fill\u001b[38;5;241m=\u001b[39mallow_fill, fill_value\u001b[38;5;241m=\u001b[39mfill_value\n\u001b[0;32m   1309\u001b[0m )\n\u001b[0;32m   1311\u001b[0m \u001b[38;5;66;03m# Called from three places in managers, all of which satisfy\u001b[39;00m\n\u001b[0;32m   1312\u001b[0m \u001b[38;5;66;03m#  these assertions\u001b[39;00m\n\u001b[0;32m   1313\u001b[0m \u001b[38;5;28;01mif\u001b[39;00m \u001b[38;5;28misinstance\u001b[39m(\u001b[38;5;28mself\u001b[39m, ExtensionBlock):\n\u001b[0;32m   1314\u001b[0m     \u001b[38;5;66;03m# NB: in this case, the 'axis' kwarg will be ignored in the\u001b[39;00m\n\u001b[0;32m   1315\u001b[0m     \u001b[38;5;66;03m#  algos.take_nd call above.\u001b[39;00m\n",
      "File \u001b[1;32mw:\\Users\\wfeij\\anaconda3\\Lib\\site-packages\\pandas\\core\\array_algos\\take.py:117\u001b[0m, in \u001b[0;36mtake_nd\u001b[1;34m(arr, indexer, axis, fill_value, allow_fill)\u001b[0m\n\u001b[0;32m    114\u001b[0m     \u001b[38;5;28;01mreturn\u001b[39;00m arr\u001b[38;5;241m.\u001b[39mtake(indexer, fill_value\u001b[38;5;241m=\u001b[39mfill_value, allow_fill\u001b[38;5;241m=\u001b[39mallow_fill)\n\u001b[0;32m    116\u001b[0m arr \u001b[38;5;241m=\u001b[39m np\u001b[38;5;241m.\u001b[39masarray(arr)\n\u001b[1;32m--> 117\u001b[0m \u001b[38;5;28;01mreturn\u001b[39;00m _take_nd_ndarray(arr, indexer, axis, fill_value, allow_fill)\n",
      "File \u001b[1;32mw:\\Users\\wfeij\\anaconda3\\Lib\\site-packages\\pandas\\core\\array_algos\\take.py:162\u001b[0m, in \u001b[0;36m_take_nd_ndarray\u001b[1;34m(arr, indexer, axis, fill_value, allow_fill)\u001b[0m\n\u001b[0;32m    157\u001b[0m     out \u001b[38;5;241m=\u001b[39m np\u001b[38;5;241m.\u001b[39mempty(out_shape, dtype\u001b[38;5;241m=\u001b[39mdtype)\n\u001b[0;32m    159\u001b[0m func \u001b[38;5;241m=\u001b[39m _get_take_nd_function(\n\u001b[0;32m    160\u001b[0m     arr\u001b[38;5;241m.\u001b[39mndim, arr\u001b[38;5;241m.\u001b[39mdtype, out\u001b[38;5;241m.\u001b[39mdtype, axis\u001b[38;5;241m=\u001b[39maxis, mask_info\u001b[38;5;241m=\u001b[39mmask_info\n\u001b[0;32m    161\u001b[0m )\n\u001b[1;32m--> 162\u001b[0m func(arr, indexer, out, fill_value)\n\u001b[0;32m    164\u001b[0m \u001b[38;5;28;01mif\u001b[39;00m flip_order:\n\u001b[0;32m    165\u001b[0m     out \u001b[38;5;241m=\u001b[39m out\u001b[38;5;241m.\u001b[39mT\n",
      "\u001b[1;31mKeyboardInterrupt\u001b[0m: "
     ]
    }
   ],
   "source": [
    "t1 = datetime.datetime.now()\n",
    "output = EMM(100, 3, 100, [], df_original, features, 'target', ensure_diversity=True)\n",
    "t2 = datetime.datetime.now()\n",
    "running_time = t2-t1\n",
    "running_time"
   ]
  },
  {
   "cell_type": "code",
   "execution_count": null,
   "metadata": {},
   "outputs": [],
   "source": [
    "t1 = datetime.datetime.now()\n",
    "features_en = [i for i in df_en.columns if 'cat' in i]\n",
    "output_en = EMM(100, 3, 100, [], df_en, features_en, 'target', ensure_diversity=True)\n",
    "t2 = datetime.datetime.now()\n",
    "running_time = t2-t1\n",
    "running_time"
   ]
  },
  {
   "cell_type": "markdown",
   "metadata": {},
   "source": [
    "#### 3.1.2 Analyze Subgroups"
   ]
  },
  {
   "cell_type": "markdown",
   "metadata": {},
   "source": [
    "The results are summarized below"
   ]
  },
  {
   "cell_type": "code",
   "execution_count": null,
   "metadata": {},
   "outputs": [],
   "source": [
    "subgroups_n = [i for i in output.get_values()]\n",
    "subgroups_en = [i for i in output_en.get_values()]\n",
    "\n",
    "calc_result_bs(df_en, df, subgroups_en, subgroups_n)"
   ]
  },
  {
   "cell_type": "markdown",
   "metadata": {},
   "source": [
    "### 3.2 Best First Search"
   ]
  },
  {
   "cell_type": "markdown",
   "metadata": {},
   "source": [
    "Find Subgroups"
   ]
  },
  {
   "cell_type": "code",
   "execution_count": null,
   "metadata": {},
   "outputs": [],
   "source": [
    "t1 = datetime.datetime.now()\n",
    "results_df_n = adjustedBestFirstSearch(df)\n",
    "t2 = datetime.datetime.now()\n",
    "running_time = t2-t1\n",
    "running_time"
   ]
  },
  {
   "cell_type": "code",
   "execution_count": null,
   "metadata": {},
   "outputs": [],
   "source": [
    "t1 = datetime.datetime.now()\n",
    "results_df_en = adjustedBestFirstSearch(df_en)\n",
    "t2 = datetime.datetime.now()\n",
    "running_time = t2-t1\n",
    "running_time"
   ]
  },
  {
   "cell_type": "markdown",
   "metadata": {},
   "source": [
    "Analyze found subgroups"
   ]
  },
  {
   "cell_type": "code",
   "execution_count": null,
   "metadata": {},
   "outputs": [],
   "source": [
    "calc_result_ps(df_en, df, results_df_en, results_df_n)"
   ]
  },
  {
   "cell_type": "markdown",
   "metadata": {},
   "source": [
    "### 4. Interpretability Measures"
   ]
  },
  {
   "cell_type": "code",
   "execution_count": null,
   "metadata": {},
   "outputs": [],
   "source": []
  }
 ],
 "metadata": {
  "kernelspec": {
   "display_name": "base",
   "language": "python",
   "name": "python3"
  },
  "language_info": {
   "codemirror_mode": {
    "name": "ipython",
    "version": 3
   },
   "file_extension": ".py",
   "mimetype": "text/x-python",
   "name": "python",
   "nbconvert_exporter": "python",
   "pygments_lexer": "ipython3",
   "version": "3.12.4"
  }
 },
 "nbformat": 4,
 "nbformat_minor": 2
}
