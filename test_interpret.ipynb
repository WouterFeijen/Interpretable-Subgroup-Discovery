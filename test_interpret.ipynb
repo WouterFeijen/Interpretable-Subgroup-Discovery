{
 "cells": [
  {
   "cell_type": "code",
   "execution_count": 1,
   "metadata": {},
   "outputs": [],
   "source": [
    "import os\n",
    "import sys\n",
    "import logging\n",
    "import datetime\n",
    "import dill as pickle\n",
    "import matplotlib.pyplot as plt\n",
    "import pandas as pd"
   ]
  },
  {
   "cell_type": "code",
   "execution_count": 2,
   "metadata": {},
   "outputs": [],
   "source": [
    "sys.path.insert(1, r'methods')\n",
    "\n",
    "from data_methods import getData, standardize\n",
    "# from dimensionality_reduction import reduce_dimensionality,reduce_with\n",
    "# from beamSearch import EMM, as_string\n",
    "# from adjPysubgroup import adjustedBestFirstSearch, adjustedDFS, adjustedApriori\n",
    "from qualityMeasures import calc_result_bs, calc_result_ps\n",
    "from interpretabilityMeasures import Feature_Correlation_Scores, DBI_beam, DBI_ps"
   ]
  },
  {
   "cell_type": "code",
   "execution_count": 3,
   "metadata": {},
   "outputs": [],
   "source": [
    "# Loading the object using dill\n",
    "sd_results_path = r'C:\\Users\\20193723\\OneDrive - TU Eindhoven\\Documents\\Research Topics in Data Mining\\Interpretable-Subgroup-Discovery\\sd_results'\n",
    "file_name = 'Ionosphere-data-reductions.pkl'\n",
    "with open(os.path.join(sd_results_path,file_name), 'rb') as f:\n",
    "    dfs_dict =pickle.load(f)"
   ]
  },
  {
   "cell_type": "code",
   "execution_count": 4,
   "metadata": {},
   "outputs": [],
   "source": [
    "# datasets = []\n",
    "# for dataset in dataset:\n",
    "#     file_name = '-data-reductions.pkl'\n",
    "#     en_methods = ['vanilla', 'auto_encoder', 'PCA', 'SPCA']\n",
    "#     for en_method in en_methods:\n",
    "#         fcs, fcss = Feature_Correlation_Scores(loaded_dict['vanilla'], loaded_dict[en_method])\n",
    "#         print(en_method, \"    \", \"\\n FCS: \", round(fcs, 2), \"    FCSS\", round(fcss, 2))"
   ]
  },
  {
   "cell_type": "code",
   "execution_count": 15,
   "metadata": {},
   "outputs": [
    {
     "name": "stdout",
     "output_type": "stream",
     "text": [
      "auto_encoder      \n",
      " FCS:  0.59     FCSS 0.12\n",
      "PCA      \n",
      " FCS:  0.65     FCSS 0.14\n",
      "SPCA      \n",
      " FCS:  0.72     FCSS 0.19\n"
     ]
    }
   ],
   "source": [
    "en_methods = ['auto_encoder', 'PCA', 'SPCA']\n",
    "for en_method in en_methods:\n",
    "    fcs, fcss = Feature_Correlation_Scores(dfs_dict['vanilla'], dfs_dict[en_method])\n",
    "    print(en_method, \"    \", \"\\n FCS: \", round(fcs, 2), \"    FCSS\", round(fcss, 2))"
   ]
  },
  {
   "cell_type": "code",
   "execution_count": 3,
   "metadata": {},
   "outputs": [],
   "source": [
    "sd_results_path = r'C:\\Users\\20193723\\OneDrive - TU Eindhoven\\Documents\\Research Topics in Data Mining\\Interpretable-Subgroup-Discovery\\results_renamed'\n",
    "file_name = 'Soybean-results.pkl'\n",
    "with open(os.path.join(sd_results_path,file_name), 'rb') as f:\n",
    "    results_dict =pickle.load(f)"
   ]
  },
  {
   "cell_type": "code",
   "execution_count": 16,
   "metadata": {},
   "outputs": [],
   "source": [
    "bfs = results_dict['vanilla']['Best-First Search']['results_org']\n",
    "bfs_en = results_dict['PCA']['Best-First Search']['results_org']"
   ]
  },
  {
   "cell_type": "code",
   "execution_count": 17,
   "metadata": {},
   "outputs": [],
   "source": [
    "vanilla = results_dict['auto_encoder']['Beam Search']['results_org']"
   ]
  },
  {
   "cell_type": "code",
   "execution_count": 18,
   "metadata": {},
   "outputs": [],
   "source": [
    "subgroups_n = [i for i in vanilla.get_values()]"
   ]
  },
  {
   "cell_type": "code",
   "execution_count": 21,
   "metadata": {},
   "outputs": [],
   "source": [
    "df = dfs_dict['auto_encoder']"
   ]
  },
  {
   "cell_type": "code",
   "execution_count": 22,
   "metadata": {},
   "outputs": [
    {
     "data": {
      "text/html": [
       "<div>\n",
       "<style scoped>\n",
       "    .dataframe tbody tr th:only-of-type {\n",
       "        vertical-align: middle;\n",
       "    }\n",
       "\n",
       "    .dataframe tbody tr th {\n",
       "        vertical-align: top;\n",
       "    }\n",
       "\n",
       "    .dataframe thead th {\n",
       "        text-align: right;\n",
       "    }\n",
       "</style>\n",
       "<table border=\"1\" class=\"dataframe\">\n",
       "  <thead>\n",
       "    <tr style=\"text-align: right;\">\n",
       "      <th></th>\n",
       "      <th>target</th>\n",
       "      <th>cat1</th>\n",
       "      <th>cat2</th>\n",
       "      <th>cat3</th>\n",
       "      <th>cat4</th>\n",
       "      <th>cat5</th>\n",
       "    </tr>\n",
       "  </thead>\n",
       "  <tbody>\n",
       "    <tr>\n",
       "      <th>36</th>\n",
       "      <td>0</td>\n",
       "      <td>2.670305</td>\n",
       "      <td>-0.637574</td>\n",
       "      <td>-0.008092</td>\n",
       "      <td>0.009340</td>\n",
       "      <td>1.814592</td>\n",
       "    </tr>\n",
       "    <tr>\n",
       "      <th>398</th>\n",
       "      <td>0</td>\n",
       "      <td>2.418383</td>\n",
       "      <td>-0.990442</td>\n",
       "      <td>-0.221028</td>\n",
       "      <td>0.080094</td>\n",
       "      <td>1.067282</td>\n",
       "    </tr>\n",
       "    <tr>\n",
       "      <th>513</th>\n",
       "      <td>0</td>\n",
       "      <td>3.184095</td>\n",
       "      <td>-1.293544</td>\n",
       "      <td>-0.379369</td>\n",
       "      <td>0.241604</td>\n",
       "      <td>2.213722</td>\n",
       "    </tr>\n",
       "    <tr>\n",
       "      <th>588</th>\n",
       "      <td>0</td>\n",
       "      <td>2.885142</td>\n",
       "      <td>-0.685566</td>\n",
       "      <td>-0.218985</td>\n",
       "      <td>0.358690</td>\n",
       "      <td>1.813227</td>\n",
       "    </tr>\n",
       "    <tr>\n",
       "      <th>632</th>\n",
       "      <td>0</td>\n",
       "      <td>-0.679030</td>\n",
       "      <td>-0.816299</td>\n",
       "      <td>-0.315998</td>\n",
       "      <td>0.162555</td>\n",
       "      <td>0.262455</td>\n",
       "    </tr>\n",
       "    <tr>\n",
       "      <th>...</th>\n",
       "      <td>...</td>\n",
       "      <td>...</td>\n",
       "      <td>...</td>\n",
       "      <td>...</td>\n",
       "      <td>...</td>\n",
       "      <td>...</td>\n",
       "    </tr>\n",
       "    <tr>\n",
       "      <th>8118</th>\n",
       "      <td>1</td>\n",
       "      <td>1.369584</td>\n",
       "      <td>-0.718166</td>\n",
       "      <td>1.165795</td>\n",
       "      <td>0.577131</td>\n",
       "      <td>-0.751188</td>\n",
       "    </tr>\n",
       "    <tr>\n",
       "      <th>8119</th>\n",
       "      <td>0</td>\n",
       "      <td>-0.775223</td>\n",
       "      <td>1.175854</td>\n",
       "      <td>-0.006725</td>\n",
       "      <td>2.146407</td>\n",
       "      <td>1.737964</td>\n",
       "    </tr>\n",
       "    <tr>\n",
       "      <th>8121</th>\n",
       "      <td>0</td>\n",
       "      <td>-1.062942</td>\n",
       "      <td>0.916443</td>\n",
       "      <td>0.504892</td>\n",
       "      <td>2.226397</td>\n",
       "      <td>2.688123</td>\n",
       "    </tr>\n",
       "    <tr>\n",
       "      <th>8122</th>\n",
       "      <td>1</td>\n",
       "      <td>1.088449</td>\n",
       "      <td>-0.264263</td>\n",
       "      <td>0.256847</td>\n",
       "      <td>1.536109</td>\n",
       "      <td>0.332227</td>\n",
       "    </tr>\n",
       "    <tr>\n",
       "      <th>8123</th>\n",
       "      <td>0</td>\n",
       "      <td>-0.402847</td>\n",
       "      <td>1.249571</td>\n",
       "      <td>-0.119961</td>\n",
       "      <td>2.048576</td>\n",
       "      <td>1.426937</td>\n",
       "    </tr>\n",
       "  </tbody>\n",
       "</table>\n",
       "<p>3249 rows × 6 columns</p>\n",
       "</div>"
      ],
      "text/plain": [
       "      target      cat1      cat2      cat3      cat4      cat5\n",
       "36         0  2.670305 -0.637574 -0.008092  0.009340  1.814592\n",
       "398        0  2.418383 -0.990442 -0.221028  0.080094  1.067282\n",
       "513        0  3.184095 -1.293544 -0.379369  0.241604  2.213722\n",
       "588        0  2.885142 -0.685566 -0.218985  0.358690  1.813227\n",
       "632        0 -0.679030 -0.816299 -0.315998  0.162555  0.262455\n",
       "...      ...       ...       ...       ...       ...       ...\n",
       "8118       1  1.369584 -0.718166  1.165795  0.577131 -0.751188\n",
       "8119       0 -0.775223  1.175854 -0.006725  2.146407  1.737964\n",
       "8121       0 -1.062942  0.916443  0.504892  2.226397  2.688123\n",
       "8122       1  1.088449 -0.264263  0.256847  1.536109  0.332227\n",
       "8123       0 -0.402847  1.249571 -0.119961  2.048576  1.426937\n",
       "\n",
       "[3249 rows x 6 columns]"
      ]
     },
     "execution_count": 22,
     "metadata": {},
     "output_type": "execute_result"
    }
   ],
   "source": [
    "df[df.eval(str(subgroups_n[1][1]).replace(\"', '\", ' and ').replace(\"['\", '').replace(\"']\", ''))]"
   ]
  },
  {
   "cell_type": "code",
   "execution_count": 47,
   "metadata": {},
   "outputs": [
    {
     "data": {
      "text/plain": [
       "\"['cat2 > -0.8140837550163269', 'cat2 <= -0.17320257425308228']\""
      ]
     },
     "execution_count": 47,
     "metadata": {},
     "output_type": "execute_result"
    }
   ],
   "source": [
    "str(subgroups_n[1][1])"
   ]
  },
  {
   "cell_type": "code",
   "execution_count": 5,
   "metadata": {},
   "outputs": [],
   "source": [
    "from sklearn.preprocessing import OneHotEncoder\n",
    "import numpy as np\n",
    "original_df = dfs_dict['vanilla']\n",
    "features = [i for i in original_df.columns if i !='target']"
   ]
  },
  {
   "cell_type": "code",
   "execution_count": 6,
   "metadata": {},
   "outputs": [],
   "source": [
    "OHenc = OneHotEncoder() \n",
    "dataCategorical = OHenc.fit_transform(original_df[features]).toarray()\n",
    "original_encoded = pd.DataFrame(dataCategorical)"
   ]
  },
  {
   "cell_type": "code",
   "execution_count": 31,
   "metadata": {},
   "outputs": [
    {
     "data": {
      "text/html": [
       "<div>\n",
       "<style scoped>\n",
       "    .dataframe tbody tr th:only-of-type {\n",
       "        vertical-align: middle;\n",
       "    }\n",
       "\n",
       "    .dataframe tbody tr th {\n",
       "        vertical-align: top;\n",
       "    }\n",
       "\n",
       "    .dataframe thead th {\n",
       "        text-align: right;\n",
       "    }\n",
       "</style>\n",
       "<table border=\"1\" class=\"dataframe\">\n",
       "  <thead>\n",
       "    <tr style=\"text-align: right;\">\n",
       "      <th></th>\n",
       "      <th>quality</th>\n",
       "      <th>subgroup</th>\n",
       "      <th>size_sg</th>\n",
       "      <th>size_dataset</th>\n",
       "      <th>positives_sg</th>\n",
       "      <th>positives_dataset</th>\n",
       "      <th>size_complement</th>\n",
       "      <th>relative_size_sg</th>\n",
       "      <th>relative_size_complement</th>\n",
       "      <th>coverage_sg</th>\n",
       "      <th>coverage_complement</th>\n",
       "      <th>target_share_sg</th>\n",
       "      <th>target_share_complement</th>\n",
       "      <th>target_share_dataset</th>\n",
       "      <th>lift</th>\n",
       "    </tr>\n",
       "  </thead>\n",
       "  <tbody>\n",
       "    <tr>\n",
       "      <th>0</th>\n",
       "      <td>0.060476</td>\n",
       "      <td>cat5&lt;304.81</td>\n",
       "      <td>84</td>\n",
       "      <td>420</td>\n",
       "      <td>62</td>\n",
       "      <td>183</td>\n",
       "      <td>336</td>\n",
       "      <td>0.200000</td>\n",
       "      <td>0.800000</td>\n",
       "      <td>0.338798</td>\n",
       "      <td>0.661202</td>\n",
       "      <td>0.738095</td>\n",
       "      <td>0.360119</td>\n",
       "      <td>0.435714</td>\n",
       "      <td>1.693989</td>\n",
       "    </tr>\n",
       "    <tr>\n",
       "      <th>1</th>\n",
       "      <td>0.043810</td>\n",
       "      <td>cat4&gt;=100.28</td>\n",
       "      <td>84</td>\n",
       "      <td>420</td>\n",
       "      <td>55</td>\n",
       "      <td>183</td>\n",
       "      <td>336</td>\n",
       "      <td>0.200000</td>\n",
       "      <td>0.800000</td>\n",
       "      <td>0.300546</td>\n",
       "      <td>0.699454</td>\n",
       "      <td>0.654762</td>\n",
       "      <td>0.380952</td>\n",
       "      <td>0.435714</td>\n",
       "      <td>1.502732</td>\n",
       "    </tr>\n",
       "    <tr>\n",
       "      <th>2</th>\n",
       "      <td>0.039048</td>\n",
       "      <td>cat2&gt;=79.74</td>\n",
       "      <td>84</td>\n",
       "      <td>420</td>\n",
       "      <td>53</td>\n",
       "      <td>183</td>\n",
       "      <td>336</td>\n",
       "      <td>0.200000</td>\n",
       "      <td>0.800000</td>\n",
       "      <td>0.289617</td>\n",
       "      <td>0.710383</td>\n",
       "      <td>0.630952</td>\n",
       "      <td>0.386905</td>\n",
       "      <td>0.435714</td>\n",
       "      <td>1.448087</td>\n",
       "    </tr>\n",
       "    <tr>\n",
       "      <th>3</th>\n",
       "      <td>0.036667</td>\n",
       "      <td>cat1&gt;=210.55</td>\n",
       "      <td>84</td>\n",
       "      <td>420</td>\n",
       "      <td>52</td>\n",
       "      <td>183</td>\n",
       "      <td>336</td>\n",
       "      <td>0.200000</td>\n",
       "      <td>0.800000</td>\n",
       "      <td>0.284153</td>\n",
       "      <td>0.715847</td>\n",
       "      <td>0.619048</td>\n",
       "      <td>0.389881</td>\n",
       "      <td>0.435714</td>\n",
       "      <td>1.420765</td>\n",
       "    </tr>\n",
       "    <tr>\n",
       "      <th>4</th>\n",
       "      <td>0.036037</td>\n",
       "      <td>cat2&gt;=79.74 AND cat5&lt;304.81</td>\n",
       "      <td>41</td>\n",
       "      <td>420</td>\n",
       "      <td>33</td>\n",
       "      <td>183</td>\n",
       "      <td>379</td>\n",
       "      <td>0.097619</td>\n",
       "      <td>0.902381</td>\n",
       "      <td>0.180328</td>\n",
       "      <td>0.819672</td>\n",
       "      <td>0.804878</td>\n",
       "      <td>0.395778</td>\n",
       "      <td>0.435714</td>\n",
       "      <td>1.847261</td>\n",
       "    </tr>\n",
       "    <tr>\n",
       "      <th>...</th>\n",
       "      <td>...</td>\n",
       "      <td>...</td>\n",
       "      <td>...</td>\n",
       "      <td>...</td>\n",
       "      <td>...</td>\n",
       "      <td>...</td>\n",
       "      <td>...</td>\n",
       "      <td>...</td>\n",
       "      <td>...</td>\n",
       "      <td>...</td>\n",
       "      <td>...</td>\n",
       "      <td>...</td>\n",
       "      <td>...</td>\n",
       "      <td>...</td>\n",
       "      <td>...</td>\n",
       "    </tr>\n",
       "    <tr>\n",
       "      <th>95</th>\n",
       "      <td>0.000561</td>\n",
       "      <td>cat4: [29.65:100.28[ AND cat5&gt;=404.84</td>\n",
       "      <td>27</td>\n",
       "      <td>420</td>\n",
       "      <td>12</td>\n",
       "      <td>183</td>\n",
       "      <td>393</td>\n",
       "      <td>0.064286</td>\n",
       "      <td>0.935714</td>\n",
       "      <td>0.065574</td>\n",
       "      <td>0.934426</td>\n",
       "      <td>0.444444</td>\n",
       "      <td>0.435115</td>\n",
       "      <td>0.435714</td>\n",
       "      <td>1.020036</td>\n",
       "    </tr>\n",
       "    <tr>\n",
       "      <th>96</th>\n",
       "      <td>0.000493</td>\n",
       "      <td>cat1: [92.89:142.86[ AND cat4: [-41.07:-8.42[</td>\n",
       "      <td>11</td>\n",
       "      <td>420</td>\n",
       "      <td>5</td>\n",
       "      <td>183</td>\n",
       "      <td>409</td>\n",
       "      <td>0.026190</td>\n",
       "      <td>0.973810</td>\n",
       "      <td>0.027322</td>\n",
       "      <td>0.972678</td>\n",
       "      <td>0.454545</td>\n",
       "      <td>0.435208</td>\n",
       "      <td>0.435714</td>\n",
       "      <td>1.043219</td>\n",
       "    </tr>\n",
       "    <tr>\n",
       "      <th>97</th>\n",
       "      <td>0.000374</td>\n",
       "      <td>cat1: [92.89:142.86[ AND cat4&gt;=100.28</td>\n",
       "      <td>18</td>\n",
       "      <td>420</td>\n",
       "      <td>8</td>\n",
       "      <td>183</td>\n",
       "      <td>402</td>\n",
       "      <td>0.042857</td>\n",
       "      <td>0.957143</td>\n",
       "      <td>0.043716</td>\n",
       "      <td>0.956284</td>\n",
       "      <td>0.444444</td>\n",
       "      <td>0.435323</td>\n",
       "      <td>0.435714</td>\n",
       "      <td>1.020036</td>\n",
       "    </tr>\n",
       "    <tr>\n",
       "      <th>98</th>\n",
       "      <td>0.000374</td>\n",
       "      <td>cat2&lt;-21.22 AND cat4: [-41.07:-8.42[</td>\n",
       "      <td>18</td>\n",
       "      <td>420</td>\n",
       "      <td>8</td>\n",
       "      <td>183</td>\n",
       "      <td>402</td>\n",
       "      <td>0.042857</td>\n",
       "      <td>0.957143</td>\n",
       "      <td>0.043716</td>\n",
       "      <td>0.956284</td>\n",
       "      <td>0.444444</td>\n",
       "      <td>0.435323</td>\n",
       "      <td>0.435714</td>\n",
       "      <td>1.020036</td>\n",
       "    </tr>\n",
       "    <tr>\n",
       "      <th>99</th>\n",
       "      <td>0.000374</td>\n",
       "      <td>cat3: [199.20:234.80[ AND cat5: [346.06:373.91[</td>\n",
       "      <td>18</td>\n",
       "      <td>420</td>\n",
       "      <td>8</td>\n",
       "      <td>183</td>\n",
       "      <td>402</td>\n",
       "      <td>0.042857</td>\n",
       "      <td>0.957143</td>\n",
       "      <td>0.043716</td>\n",
       "      <td>0.956284</td>\n",
       "      <td>0.444444</td>\n",
       "      <td>0.435323</td>\n",
       "      <td>0.435714</td>\n",
       "      <td>1.020036</td>\n",
       "    </tr>\n",
       "  </tbody>\n",
       "</table>\n",
       "<p>100 rows × 15 columns</p>\n",
       "</div>"
      ],
      "text/plain": [
       "     quality                                         subgroup  size_sg  \\\n",
       "0   0.060476                                      cat5<304.81       84   \n",
       "1   0.043810                                     cat4>=100.28       84   \n",
       "2   0.039048                                      cat2>=79.74       84   \n",
       "3   0.036667                                     cat1>=210.55       84   \n",
       "4   0.036037                      cat2>=79.74 AND cat5<304.81       41   \n",
       "..       ...                                              ...      ...   \n",
       "95  0.000561            cat4: [29.65:100.28[ AND cat5>=404.84       27   \n",
       "96  0.000493    cat1: [92.89:142.86[ AND cat4: [-41.07:-8.42[       11   \n",
       "97  0.000374            cat1: [92.89:142.86[ AND cat4>=100.28       18   \n",
       "98  0.000374             cat2<-21.22 AND cat4: [-41.07:-8.42[       18   \n",
       "99  0.000374  cat3: [199.20:234.80[ AND cat5: [346.06:373.91[       18   \n",
       "\n",
       "    size_dataset  positives_sg  positives_dataset  size_complement  \\\n",
       "0            420            62                183              336   \n",
       "1            420            55                183              336   \n",
       "2            420            53                183              336   \n",
       "3            420            52                183              336   \n",
       "4            420            33                183              379   \n",
       "..           ...           ...                ...              ...   \n",
       "95           420            12                183              393   \n",
       "96           420             5                183              409   \n",
       "97           420             8                183              402   \n",
       "98           420             8                183              402   \n",
       "99           420             8                183              402   \n",
       "\n",
       "    relative_size_sg  relative_size_complement  coverage_sg  \\\n",
       "0           0.200000                  0.800000     0.338798   \n",
       "1           0.200000                  0.800000     0.300546   \n",
       "2           0.200000                  0.800000     0.289617   \n",
       "3           0.200000                  0.800000     0.284153   \n",
       "4           0.097619                  0.902381     0.180328   \n",
       "..               ...                       ...          ...   \n",
       "95          0.064286                  0.935714     0.065574   \n",
       "96          0.026190                  0.973810     0.027322   \n",
       "97          0.042857                  0.957143     0.043716   \n",
       "98          0.042857                  0.957143     0.043716   \n",
       "99          0.042857                  0.957143     0.043716   \n",
       "\n",
       "    coverage_complement  target_share_sg  target_share_complement  \\\n",
       "0              0.661202         0.738095                 0.360119   \n",
       "1              0.699454         0.654762                 0.380952   \n",
       "2              0.710383         0.630952                 0.386905   \n",
       "3              0.715847         0.619048                 0.389881   \n",
       "4              0.819672         0.804878                 0.395778   \n",
       "..                  ...              ...                      ...   \n",
       "95             0.934426         0.444444                 0.435115   \n",
       "96             0.972678         0.454545                 0.435208   \n",
       "97             0.956284         0.444444                 0.435323   \n",
       "98             0.956284         0.444444                 0.435323   \n",
       "99             0.956284         0.444444                 0.435323   \n",
       "\n",
       "    target_share_dataset      lift  \n",
       "0               0.435714  1.693989  \n",
       "1               0.435714  1.502732  \n",
       "2               0.435714  1.448087  \n",
       "3               0.435714  1.420765  \n",
       "4               0.435714  1.847261  \n",
       "..                   ...       ...  \n",
       "95              0.435714  1.020036  \n",
       "96              0.435714  1.043219  \n",
       "97              0.435714  1.020036  \n",
       "98              0.435714  1.020036  \n",
       "99              0.435714  1.020036  \n",
       "\n",
       "[100 rows x 15 columns]"
      ]
     },
     "execution_count": 31,
     "metadata": {},
     "output_type": "execute_result"
    }
   ],
   "source": [
    "subgroups = results_dict['auto_encoder']['Best-First Search']['results_org']\n",
    "subgroups\n",
    "# subgroups[subgroups['relative_size_sg'] >= 0.5]"
   ]
  },
  {
   "cell_type": "code",
   "execution_count": 23,
   "metadata": {},
   "outputs": [
    {
     "name": "stdout",
     "output_type": "stream",
     "text": [
      "Arrhythmia :    \n",
      "\n",
      "auto_encoder :     \n",
      "   FCS:  0.7     FCSS 0.31\n",
      "DBI Apriori:  176.04204264686868\n",
      "DBI Best-First Search:  185.5963747531536\n",
      "DBI Depth-First Search:  184.90905777288822\n",
      "DBI Beam Search:  1.2806238656859177e+18 \n",
      "\n",
      "PCA :     \n",
      "   FCS:  0.76     FCSS 0.25\n",
      "DBI Apriori:  9.128979268086724\n",
      "DBI Best-First Search:  8.782523375745633\n"
     ]
    },
    {
     "ename": "UndefinedVariableError",
     "evalue": "name 'Dataset' is not defined",
     "output_type": "error",
     "traceback": [
      "\u001b[1;31m---------------------------------------------------------------------------\u001b[0m",
      "\u001b[1;31mKeyError\u001b[0m                                  Traceback (most recent call last)",
      "File \u001b[1;32mc:\\Users\\20193723\\Anaconda3\\envs\\tf\\lib\\site-packages\\pandas\\core\\computation\\scope.py:231\u001b[0m, in \u001b[0;36mScope.resolve\u001b[1;34m(self, key, is_local)\u001b[0m\n\u001b[0;32m    230\u001b[0m \u001b[38;5;28;01mif\u001b[39;00m \u001b[38;5;28mself\u001b[39m\u001b[38;5;241m.\u001b[39mhas_resolvers:\n\u001b[1;32m--> 231\u001b[0m     \u001b[38;5;28;01mreturn\u001b[39;00m \u001b[38;5;28;43mself\u001b[39;49m\u001b[38;5;241;43m.\u001b[39;49m\u001b[43mresolvers\u001b[49m\u001b[43m[\u001b[49m\u001b[43mkey\u001b[49m\u001b[43m]\u001b[49m\n\u001b[0;32m    233\u001b[0m \u001b[38;5;66;03m# if we're here that means that we have no locals and we also have\u001b[39;00m\n\u001b[0;32m    234\u001b[0m \u001b[38;5;66;03m# no resolvers\u001b[39;00m\n",
      "File \u001b[1;32mc:\\Users\\20193723\\Anaconda3\\envs\\tf\\lib\\collections\\__init__.py:941\u001b[0m, in \u001b[0;36mChainMap.__getitem__\u001b[1;34m(self, key)\u001b[0m\n\u001b[0;32m    940\u001b[0m         \u001b[38;5;28;01mpass\u001b[39;00m\n\u001b[1;32m--> 941\u001b[0m \u001b[38;5;28;01mreturn\u001b[39;00m \u001b[38;5;28;43mself\u001b[39;49m\u001b[38;5;241;43m.\u001b[39;49m\u001b[38;5;21;43m__missing__\u001b[39;49m\u001b[43m(\u001b[49m\u001b[43mkey\u001b[49m\u001b[43m)\u001b[49m\n",
      "File \u001b[1;32mc:\\Users\\20193723\\Anaconda3\\envs\\tf\\lib\\collections\\__init__.py:933\u001b[0m, in \u001b[0;36mChainMap.__missing__\u001b[1;34m(self, key)\u001b[0m\n\u001b[0;32m    932\u001b[0m \u001b[38;5;28;01mdef\u001b[39;00m \u001b[38;5;21m__missing__\u001b[39m(\u001b[38;5;28mself\u001b[39m, key):\n\u001b[1;32m--> 933\u001b[0m     \u001b[38;5;28;01mraise\u001b[39;00m \u001b[38;5;167;01mKeyError\u001b[39;00m(key)\n",
      "\u001b[1;31mKeyError\u001b[0m: 'Dataset'",
      "\nDuring handling of the above exception, another exception occurred:\n",
      "\u001b[1;31mKeyError\u001b[0m                                  Traceback (most recent call last)",
      "File \u001b[1;32mc:\\Users\\20193723\\Anaconda3\\envs\\tf\\lib\\site-packages\\pandas\\core\\computation\\scope.py:242\u001b[0m, in \u001b[0;36mScope.resolve\u001b[1;34m(self, key, is_local)\u001b[0m\n\u001b[0;32m    238\u001b[0m \u001b[38;5;28;01mtry\u001b[39;00m:\n\u001b[0;32m    239\u001b[0m     \u001b[38;5;66;03m# last ditch effort we look in temporaries\u001b[39;00m\n\u001b[0;32m    240\u001b[0m     \u001b[38;5;66;03m# these are created when parsing indexing expressions\u001b[39;00m\n\u001b[0;32m    241\u001b[0m     \u001b[38;5;66;03m# e.g., df[df > 0]\u001b[39;00m\n\u001b[1;32m--> 242\u001b[0m     \u001b[38;5;28;01mreturn\u001b[39;00m \u001b[38;5;28;43mself\u001b[39;49m\u001b[38;5;241;43m.\u001b[39;49m\u001b[43mtemps\u001b[49m\u001b[43m[\u001b[49m\u001b[43mkey\u001b[49m\u001b[43m]\u001b[49m\n\u001b[0;32m    243\u001b[0m \u001b[38;5;28;01mexcept\u001b[39;00m \u001b[38;5;167;01mKeyError\u001b[39;00m \u001b[38;5;28;01mas\u001b[39;00m err:\n",
      "\u001b[1;31mKeyError\u001b[0m: 'Dataset'",
      "\nThe above exception was the direct cause of the following exception:\n",
      "\u001b[1;31mUndefinedVariableError\u001b[0m                    Traceback (most recent call last)",
      "Cell \u001b[1;32mIn[23], line 27\u001b[0m\n\u001b[0;32m     25\u001b[0m \u001b[38;5;28mprint\u001b[39m(en_method, \u001b[38;5;124m\"\u001b[39m\u001b[38;5;124m:    \u001b[39m\u001b[38;5;124m\"\u001b[39m, \u001b[38;5;124m\"\u001b[39m\u001b[38;5;130;01m\\n\u001b[39;00m\u001b[38;5;124m   FCS: \u001b[39m\u001b[38;5;124m\"\u001b[39m, \u001b[38;5;28mround\u001b[39m(fcs, \u001b[38;5;241m2\u001b[39m), \u001b[38;5;124m\"\u001b[39m\u001b[38;5;124m    FCSS\u001b[39m\u001b[38;5;124m\"\u001b[39m, \u001b[38;5;28mround\u001b[39m(fcss, \u001b[38;5;241m2\u001b[39m))\n\u001b[0;32m     26\u001b[0m \u001b[38;5;28;01mfor\u001b[39;00m sd_method \u001b[38;5;129;01min\u001b[39;00m ps_sd_methods:\n\u001b[1;32m---> 27\u001b[0m     dbi \u001b[38;5;241m=\u001b[39m \u001b[43mDBI_ps\u001b[49m\u001b[43m(\u001b[49m\u001b[43mresults_dict\u001b[49m\u001b[43m[\u001b[49m\u001b[43men_method\u001b[49m\u001b[43m]\u001b[49m\u001b[43m[\u001b[49m\u001b[43msd_method\u001b[49m\u001b[43m]\u001b[49m\u001b[43m[\u001b[49m\u001b[38;5;124;43m'\u001b[39;49m\u001b[38;5;124;43mresults_org\u001b[39;49m\u001b[38;5;124;43m'\u001b[39;49m\u001b[43m]\u001b[49m\u001b[43m,\u001b[49m\u001b[43m \u001b[49m\u001b[43mdfs_dict\u001b[49m\u001b[43m[\u001b[49m\u001b[43men_method\u001b[49m\u001b[43m]\u001b[49m\u001b[43m)\u001b[49m\n\u001b[0;32m     28\u001b[0m     \u001b[38;5;28mprint\u001b[39m(\u001b[38;5;124m\"\u001b[39m\u001b[38;5;124mDBI \u001b[39m\u001b[38;5;124m\"\u001b[39m\u001b[38;5;241m+\u001b[39msd_method\u001b[38;5;241m+\u001b[39m\u001b[38;5;124m\"\u001b[39m\u001b[38;5;124m: \u001b[39m\u001b[38;5;124m\"\u001b[39m, dbi)\n\u001b[0;32m     29\u001b[0m subgroups_beam \u001b[38;5;241m=\u001b[39m [i \u001b[38;5;28;01mfor\u001b[39;00m i \u001b[38;5;129;01min\u001b[39;00m results_dict[en_method][\u001b[38;5;124m'\u001b[39m\u001b[38;5;124mBeam Search\u001b[39m\u001b[38;5;124m'\u001b[39m][\u001b[38;5;124m'\u001b[39m\u001b[38;5;124mresults_org\u001b[39m\u001b[38;5;124m'\u001b[39m]\u001b[38;5;241m.\u001b[39mget_values()]\n",
      "File \u001b[1;32mc:\\Users\\20193723\\OneDrive - TU Eindhoven\\Documents\\Research Topics in Data Mining\\Interpretable-Subgroup-Discovery\\methods\\interpretabilityMeasures.py:103\u001b[0m, in \u001b[0;36mDBI_ps\u001b[1;34m(subgroups, df)\u001b[0m\n\u001b[0;32m    101\u001b[0m     splitOper \u001b[38;5;241m+\u001b[39m\u001b[38;5;241m=\u001b[39m newOpers\n\u001b[0;32m    102\u001b[0m     oper \u001b[38;5;241m=\u001b[39m \u001b[38;5;124m\"\u001b[39m\u001b[38;5;124m & \u001b[39m\u001b[38;5;124m\"\u001b[39m\u001b[38;5;241m.\u001b[39mjoin(splitOper)\n\u001b[1;32m--> 103\u001b[0m subgroup_df \u001b[38;5;241m=\u001b[39m df[\u001b[43mdf\u001b[49m\u001b[38;5;241;43m.\u001b[39;49m\u001b[43meval\u001b[49m\u001b[43m(\u001b[49m\u001b[43moper\u001b[49m\u001b[43m)\u001b[49m][features]\u001b[38;5;241m.\u001b[39mastype(\u001b[38;5;28mfloat\u001b[39m)\n\u001b[0;32m    104\u001b[0m \u001b[38;5;66;03m# subgroup_df = df[df.eval(str(subgroups.loc[subgroup_index, \"subgroup\"]).replace('AND', 'and'))].astype(float)\u001b[39;00m\n\u001b[0;32m    105\u001b[0m centroid \u001b[38;5;241m=\u001b[39m subgroup_df\u001b[38;5;241m.\u001b[39mmean()\n",
      "File \u001b[1;32mc:\\Users\\20193723\\Anaconda3\\envs\\tf\\lib\\site-packages\\pandas\\core\\frame.py:4949\u001b[0m, in \u001b[0;36mDataFrame.eval\u001b[1;34m(self, expr, inplace, **kwargs)\u001b[0m\n\u001b[0;32m   4946\u001b[0m     kwargs[\u001b[38;5;124m\"\u001b[39m\u001b[38;5;124mtarget\u001b[39m\u001b[38;5;124m\"\u001b[39m] \u001b[38;5;241m=\u001b[39m \u001b[38;5;28mself\u001b[39m\n\u001b[0;32m   4947\u001b[0m kwargs[\u001b[38;5;124m\"\u001b[39m\u001b[38;5;124mresolvers\u001b[39m\u001b[38;5;124m\"\u001b[39m] \u001b[38;5;241m=\u001b[39m \u001b[38;5;28mtuple\u001b[39m(kwargs\u001b[38;5;241m.\u001b[39mget(\u001b[38;5;124m\"\u001b[39m\u001b[38;5;124mresolvers\u001b[39m\u001b[38;5;124m\"\u001b[39m, ())) \u001b[38;5;241m+\u001b[39m resolvers\n\u001b[1;32m-> 4949\u001b[0m \u001b[38;5;28;01mreturn\u001b[39;00m _eval(expr, inplace\u001b[38;5;241m=\u001b[39minplace, \u001b[38;5;241m*\u001b[39m\u001b[38;5;241m*\u001b[39mkwargs)\n",
      "File \u001b[1;32mc:\\Users\\20193723\\Anaconda3\\envs\\tf\\lib\\site-packages\\pandas\\core\\computation\\eval.py:336\u001b[0m, in \u001b[0;36meval\u001b[1;34m(expr, parser, engine, local_dict, global_dict, resolvers, level, target, inplace)\u001b[0m\n\u001b[0;32m    327\u001b[0m \u001b[38;5;66;03m# get our (possibly passed-in) scope\u001b[39;00m\n\u001b[0;32m    328\u001b[0m env \u001b[38;5;241m=\u001b[39m ensure_scope(\n\u001b[0;32m    329\u001b[0m     level \u001b[38;5;241m+\u001b[39m \u001b[38;5;241m1\u001b[39m,\n\u001b[0;32m    330\u001b[0m     global_dict\u001b[38;5;241m=\u001b[39mglobal_dict,\n\u001b[1;32m   (...)\u001b[0m\n\u001b[0;32m    333\u001b[0m     target\u001b[38;5;241m=\u001b[39mtarget,\n\u001b[0;32m    334\u001b[0m )\n\u001b[1;32m--> 336\u001b[0m parsed_expr \u001b[38;5;241m=\u001b[39m \u001b[43mExpr\u001b[49m\u001b[43m(\u001b[49m\u001b[43mexpr\u001b[49m\u001b[43m,\u001b[49m\u001b[43m \u001b[49m\u001b[43mengine\u001b[49m\u001b[38;5;241;43m=\u001b[39;49m\u001b[43mengine\u001b[49m\u001b[43m,\u001b[49m\u001b[43m \u001b[49m\u001b[43mparser\u001b[49m\u001b[38;5;241;43m=\u001b[39;49m\u001b[43mparser\u001b[49m\u001b[43m,\u001b[49m\u001b[43m \u001b[49m\u001b[43menv\u001b[49m\u001b[38;5;241;43m=\u001b[39;49m\u001b[43menv\u001b[49m\u001b[43m)\u001b[49m\n\u001b[0;32m    338\u001b[0m \u001b[38;5;28;01mif\u001b[39;00m engine \u001b[38;5;241m==\u001b[39m \u001b[38;5;124m\"\u001b[39m\u001b[38;5;124mnumexpr\u001b[39m\u001b[38;5;124m\"\u001b[39m \u001b[38;5;129;01mand\u001b[39;00m (\n\u001b[0;32m    339\u001b[0m     is_extension_array_dtype(parsed_expr\u001b[38;5;241m.\u001b[39mterms\u001b[38;5;241m.\u001b[39mreturn_type)\n\u001b[0;32m    340\u001b[0m     \u001b[38;5;129;01mor\u001b[39;00m \u001b[38;5;28mgetattr\u001b[39m(parsed_expr\u001b[38;5;241m.\u001b[39mterms, \u001b[38;5;124m\"\u001b[39m\u001b[38;5;124moperand_types\u001b[39m\u001b[38;5;124m\"\u001b[39m, \u001b[38;5;28;01mNone\u001b[39;00m) \u001b[38;5;129;01mis\u001b[39;00m \u001b[38;5;129;01mnot\u001b[39;00m \u001b[38;5;28;01mNone\u001b[39;00m\n\u001b[1;32m   (...)\u001b[0m\n\u001b[0;32m    344\u001b[0m     )\n\u001b[0;32m    345\u001b[0m ):\n\u001b[0;32m    346\u001b[0m     warnings\u001b[38;5;241m.\u001b[39mwarn(\n\u001b[0;32m    347\u001b[0m         \u001b[38;5;124m\"\u001b[39m\u001b[38;5;124mEngine has switched to \u001b[39m\u001b[38;5;124m'\u001b[39m\u001b[38;5;124mpython\u001b[39m\u001b[38;5;124m'\u001b[39m\u001b[38;5;124m because numexpr does not support \u001b[39m\u001b[38;5;124m\"\u001b[39m\n\u001b[0;32m    348\u001b[0m         \u001b[38;5;124m\"\u001b[39m\u001b[38;5;124mextension array dtypes. Please set your engine to python manually.\u001b[39m\u001b[38;5;124m\"\u001b[39m,\n\u001b[0;32m    349\u001b[0m         \u001b[38;5;167;01mRuntimeWarning\u001b[39;00m,\n\u001b[0;32m    350\u001b[0m         stacklevel\u001b[38;5;241m=\u001b[39mfind_stack_level(),\n\u001b[0;32m    351\u001b[0m     )\n",
      "File \u001b[1;32mc:\\Users\\20193723\\Anaconda3\\envs\\tf\\lib\\site-packages\\pandas\\core\\computation\\expr.py:805\u001b[0m, in \u001b[0;36mExpr.__init__\u001b[1;34m(self, expr, engine, parser, env, level)\u001b[0m\n\u001b[0;32m    803\u001b[0m \u001b[38;5;28mself\u001b[39m\u001b[38;5;241m.\u001b[39mparser \u001b[38;5;241m=\u001b[39m parser\n\u001b[0;32m    804\u001b[0m \u001b[38;5;28mself\u001b[39m\u001b[38;5;241m.\u001b[39m_visitor \u001b[38;5;241m=\u001b[39m PARSERS[parser](\u001b[38;5;28mself\u001b[39m\u001b[38;5;241m.\u001b[39menv, \u001b[38;5;28mself\u001b[39m\u001b[38;5;241m.\u001b[39mengine, \u001b[38;5;28mself\u001b[39m\u001b[38;5;241m.\u001b[39mparser)\n\u001b[1;32m--> 805\u001b[0m \u001b[38;5;28mself\u001b[39m\u001b[38;5;241m.\u001b[39mterms \u001b[38;5;241m=\u001b[39m \u001b[38;5;28;43mself\u001b[39;49m\u001b[38;5;241;43m.\u001b[39;49m\u001b[43mparse\u001b[49m\u001b[43m(\u001b[49m\u001b[43m)\u001b[49m\n",
      "File \u001b[1;32mc:\\Users\\20193723\\Anaconda3\\envs\\tf\\lib\\site-packages\\pandas\\core\\computation\\expr.py:824\u001b[0m, in \u001b[0;36mExpr.parse\u001b[1;34m(self)\u001b[0m\n\u001b[0;32m    820\u001b[0m \u001b[38;5;28;01mdef\u001b[39;00m \u001b[38;5;21mparse\u001b[39m(\u001b[38;5;28mself\u001b[39m):\n\u001b[0;32m    821\u001b[0m \u001b[38;5;250m    \u001b[39m\u001b[38;5;124;03m\"\"\"\u001b[39;00m\n\u001b[0;32m    822\u001b[0m \u001b[38;5;124;03m    Parse an expression.\u001b[39;00m\n\u001b[0;32m    823\u001b[0m \u001b[38;5;124;03m    \"\"\"\u001b[39;00m\n\u001b[1;32m--> 824\u001b[0m     \u001b[38;5;28;01mreturn\u001b[39;00m \u001b[38;5;28;43mself\u001b[39;49m\u001b[38;5;241;43m.\u001b[39;49m\u001b[43m_visitor\u001b[49m\u001b[38;5;241;43m.\u001b[39;49m\u001b[43mvisit\u001b[49m\u001b[43m(\u001b[49m\u001b[38;5;28;43mself\u001b[39;49m\u001b[38;5;241;43m.\u001b[39;49m\u001b[43mexpr\u001b[49m\u001b[43m)\u001b[49m\n",
      "File \u001b[1;32mc:\\Users\\20193723\\Anaconda3\\envs\\tf\\lib\\site-packages\\pandas\\core\\computation\\expr.py:411\u001b[0m, in \u001b[0;36mBaseExprVisitor.visit\u001b[1;34m(self, node, **kwargs)\u001b[0m\n\u001b[0;32m    409\u001b[0m method \u001b[38;5;241m=\u001b[39m \u001b[38;5;124mf\u001b[39m\u001b[38;5;124m\"\u001b[39m\u001b[38;5;124mvisit_\u001b[39m\u001b[38;5;132;01m{\u001b[39;00m\u001b[38;5;28mtype\u001b[39m(node)\u001b[38;5;241m.\u001b[39m\u001b[38;5;18m__name__\u001b[39m\u001b[38;5;132;01m}\u001b[39;00m\u001b[38;5;124m\"\u001b[39m\n\u001b[0;32m    410\u001b[0m visitor \u001b[38;5;241m=\u001b[39m \u001b[38;5;28mgetattr\u001b[39m(\u001b[38;5;28mself\u001b[39m, method)\n\u001b[1;32m--> 411\u001b[0m \u001b[38;5;28;01mreturn\u001b[39;00m visitor(node, \u001b[38;5;241m*\u001b[39m\u001b[38;5;241m*\u001b[39mkwargs)\n",
      "File \u001b[1;32mc:\\Users\\20193723\\Anaconda3\\envs\\tf\\lib\\site-packages\\pandas\\core\\computation\\expr.py:417\u001b[0m, in \u001b[0;36mBaseExprVisitor.visit_Module\u001b[1;34m(self, node, **kwargs)\u001b[0m\n\u001b[0;32m    415\u001b[0m     \u001b[38;5;28;01mraise\u001b[39;00m \u001b[38;5;167;01mSyntaxError\u001b[39;00m(\u001b[38;5;124m\"\u001b[39m\u001b[38;5;124monly a single expression is allowed\u001b[39m\u001b[38;5;124m\"\u001b[39m)\n\u001b[0;32m    416\u001b[0m expr \u001b[38;5;241m=\u001b[39m node\u001b[38;5;241m.\u001b[39mbody[\u001b[38;5;241m0\u001b[39m]\n\u001b[1;32m--> 417\u001b[0m \u001b[38;5;28;01mreturn\u001b[39;00m \u001b[38;5;28mself\u001b[39m\u001b[38;5;241m.\u001b[39mvisit(expr, \u001b[38;5;241m*\u001b[39m\u001b[38;5;241m*\u001b[39mkwargs)\n",
      "File \u001b[1;32mc:\\Users\\20193723\\Anaconda3\\envs\\tf\\lib\\site-packages\\pandas\\core\\computation\\expr.py:411\u001b[0m, in \u001b[0;36mBaseExprVisitor.visit\u001b[1;34m(self, node, **kwargs)\u001b[0m\n\u001b[0;32m    409\u001b[0m method \u001b[38;5;241m=\u001b[39m \u001b[38;5;124mf\u001b[39m\u001b[38;5;124m\"\u001b[39m\u001b[38;5;124mvisit_\u001b[39m\u001b[38;5;132;01m{\u001b[39;00m\u001b[38;5;28mtype\u001b[39m(node)\u001b[38;5;241m.\u001b[39m\u001b[38;5;18m__name__\u001b[39m\u001b[38;5;132;01m}\u001b[39;00m\u001b[38;5;124m\"\u001b[39m\n\u001b[0;32m    410\u001b[0m visitor \u001b[38;5;241m=\u001b[39m \u001b[38;5;28mgetattr\u001b[39m(\u001b[38;5;28mself\u001b[39m, method)\n\u001b[1;32m--> 411\u001b[0m \u001b[38;5;28;01mreturn\u001b[39;00m visitor(node, \u001b[38;5;241m*\u001b[39m\u001b[38;5;241m*\u001b[39mkwargs)\n",
      "File \u001b[1;32mc:\\Users\\20193723\\Anaconda3\\envs\\tf\\lib\\site-packages\\pandas\\core\\computation\\expr.py:420\u001b[0m, in \u001b[0;36mBaseExprVisitor.visit_Expr\u001b[1;34m(self, node, **kwargs)\u001b[0m\n\u001b[0;32m    419\u001b[0m \u001b[38;5;28;01mdef\u001b[39;00m \u001b[38;5;21mvisit_Expr\u001b[39m(\u001b[38;5;28mself\u001b[39m, node, \u001b[38;5;241m*\u001b[39m\u001b[38;5;241m*\u001b[39mkwargs):\n\u001b[1;32m--> 420\u001b[0m     \u001b[38;5;28;01mreturn\u001b[39;00m \u001b[38;5;28mself\u001b[39m\u001b[38;5;241m.\u001b[39mvisit(node\u001b[38;5;241m.\u001b[39mvalue, \u001b[38;5;241m*\u001b[39m\u001b[38;5;241m*\u001b[39mkwargs)\n",
      "File \u001b[1;32mc:\\Users\\20193723\\Anaconda3\\envs\\tf\\lib\\site-packages\\pandas\\core\\computation\\expr.py:411\u001b[0m, in \u001b[0;36mBaseExprVisitor.visit\u001b[1;34m(self, node, **kwargs)\u001b[0m\n\u001b[0;32m    409\u001b[0m method \u001b[38;5;241m=\u001b[39m \u001b[38;5;124mf\u001b[39m\u001b[38;5;124m\"\u001b[39m\u001b[38;5;124mvisit_\u001b[39m\u001b[38;5;132;01m{\u001b[39;00m\u001b[38;5;28mtype\u001b[39m(node)\u001b[38;5;241m.\u001b[39m\u001b[38;5;18m__name__\u001b[39m\u001b[38;5;132;01m}\u001b[39;00m\u001b[38;5;124m\"\u001b[39m\n\u001b[0;32m    410\u001b[0m visitor \u001b[38;5;241m=\u001b[39m \u001b[38;5;28mgetattr\u001b[39m(\u001b[38;5;28mself\u001b[39m, method)\n\u001b[1;32m--> 411\u001b[0m \u001b[38;5;28;01mreturn\u001b[39;00m visitor(node, \u001b[38;5;241m*\u001b[39m\u001b[38;5;241m*\u001b[39mkwargs)\n",
      "File \u001b[1;32mc:\\Users\\20193723\\Anaconda3\\envs\\tf\\lib\\site-packages\\pandas\\core\\computation\\expr.py:541\u001b[0m, in \u001b[0;36mBaseExprVisitor.visit_Name\u001b[1;34m(self, node, **kwargs)\u001b[0m\n\u001b[0;32m    540\u001b[0m \u001b[38;5;28;01mdef\u001b[39;00m \u001b[38;5;21mvisit_Name\u001b[39m(\u001b[38;5;28mself\u001b[39m, node, \u001b[38;5;241m*\u001b[39m\u001b[38;5;241m*\u001b[39mkwargs) \u001b[38;5;241m-\u001b[39m\u001b[38;5;241m>\u001b[39m Term:\n\u001b[1;32m--> 541\u001b[0m     \u001b[38;5;28;01mreturn\u001b[39;00m \u001b[38;5;28mself\u001b[39m\u001b[38;5;241m.\u001b[39mterm_type(node\u001b[38;5;241m.\u001b[39mid, \u001b[38;5;28mself\u001b[39m\u001b[38;5;241m.\u001b[39menv, \u001b[38;5;241m*\u001b[39m\u001b[38;5;241m*\u001b[39mkwargs)\n",
      "File \u001b[1;32mc:\\Users\\20193723\\Anaconda3\\envs\\tf\\lib\\site-packages\\pandas\\core\\computation\\ops.py:91\u001b[0m, in \u001b[0;36mTerm.__init__\u001b[1;34m(self, name, env, side, encoding)\u001b[0m\n\u001b[0;32m     89\u001b[0m tname \u001b[38;5;241m=\u001b[39m \u001b[38;5;28mstr\u001b[39m(name)\n\u001b[0;32m     90\u001b[0m \u001b[38;5;28mself\u001b[39m\u001b[38;5;241m.\u001b[39mis_local \u001b[38;5;241m=\u001b[39m tname\u001b[38;5;241m.\u001b[39mstartswith(LOCAL_TAG) \u001b[38;5;129;01mor\u001b[39;00m tname \u001b[38;5;129;01min\u001b[39;00m DEFAULT_GLOBALS\n\u001b[1;32m---> 91\u001b[0m \u001b[38;5;28mself\u001b[39m\u001b[38;5;241m.\u001b[39m_value \u001b[38;5;241m=\u001b[39m \u001b[38;5;28;43mself\u001b[39;49m\u001b[38;5;241;43m.\u001b[39;49m\u001b[43m_resolve_name\u001b[49m\u001b[43m(\u001b[49m\u001b[43m)\u001b[49m\n\u001b[0;32m     92\u001b[0m \u001b[38;5;28mself\u001b[39m\u001b[38;5;241m.\u001b[39mencoding \u001b[38;5;241m=\u001b[39m encoding\n",
      "File \u001b[1;32mc:\\Users\\20193723\\Anaconda3\\envs\\tf\\lib\\site-packages\\pandas\\core\\computation\\ops.py:115\u001b[0m, in \u001b[0;36mTerm._resolve_name\u001b[1;34m(self)\u001b[0m\n\u001b[0;32m    110\u001b[0m \u001b[38;5;28;01mif\u001b[39;00m local_name \u001b[38;5;129;01min\u001b[39;00m \u001b[38;5;28mself\u001b[39m\u001b[38;5;241m.\u001b[39menv\u001b[38;5;241m.\u001b[39mscope \u001b[38;5;129;01mand\u001b[39;00m \u001b[38;5;28misinstance\u001b[39m(\n\u001b[0;32m    111\u001b[0m     \u001b[38;5;28mself\u001b[39m\u001b[38;5;241m.\u001b[39menv\u001b[38;5;241m.\u001b[39mscope[local_name], \u001b[38;5;28mtype\u001b[39m\n\u001b[0;32m    112\u001b[0m ):\n\u001b[0;32m    113\u001b[0m     is_local \u001b[38;5;241m=\u001b[39m \u001b[38;5;28;01mFalse\u001b[39;00m\n\u001b[1;32m--> 115\u001b[0m res \u001b[38;5;241m=\u001b[39m \u001b[38;5;28;43mself\u001b[39;49m\u001b[38;5;241;43m.\u001b[39;49m\u001b[43menv\u001b[49m\u001b[38;5;241;43m.\u001b[39;49m\u001b[43mresolve\u001b[49m\u001b[43m(\u001b[49m\u001b[43mlocal_name\u001b[49m\u001b[43m,\u001b[49m\u001b[43m \u001b[49m\u001b[43mis_local\u001b[49m\u001b[38;5;241;43m=\u001b[39;49m\u001b[43mis_local\u001b[49m\u001b[43m)\u001b[49m\n\u001b[0;32m    116\u001b[0m \u001b[38;5;28mself\u001b[39m\u001b[38;5;241m.\u001b[39mupdate(res)\n\u001b[0;32m    118\u001b[0m \u001b[38;5;28;01mif\u001b[39;00m \u001b[38;5;28mhasattr\u001b[39m(res, \u001b[38;5;124m\"\u001b[39m\u001b[38;5;124mndim\u001b[39m\u001b[38;5;124m\"\u001b[39m) \u001b[38;5;129;01mand\u001b[39;00m res\u001b[38;5;241m.\u001b[39mndim \u001b[38;5;241m>\u001b[39m \u001b[38;5;241m2\u001b[39m:\n",
      "File \u001b[1;32mc:\\Users\\20193723\\Anaconda3\\envs\\tf\\lib\\site-packages\\pandas\\core\\computation\\scope.py:244\u001b[0m, in \u001b[0;36mScope.resolve\u001b[1;34m(self, key, is_local)\u001b[0m\n\u001b[0;32m    242\u001b[0m     \u001b[38;5;28;01mreturn\u001b[39;00m \u001b[38;5;28mself\u001b[39m\u001b[38;5;241m.\u001b[39mtemps[key]\n\u001b[0;32m    243\u001b[0m \u001b[38;5;28;01mexcept\u001b[39;00m \u001b[38;5;167;01mKeyError\u001b[39;00m \u001b[38;5;28;01mas\u001b[39;00m err:\n\u001b[1;32m--> 244\u001b[0m     \u001b[38;5;28;01mraise\u001b[39;00m UndefinedVariableError(key, is_local) \u001b[38;5;28;01mfrom\u001b[39;00m \u001b[38;5;21;01merr\u001b[39;00m\n",
      "\u001b[1;31mUndefinedVariableError\u001b[0m: name 'Dataset' is not defined"
     ]
    }
   ],
   "source": [
    "sd_results_path = r'C:\\Users\\20193723\\OneDrive - TU Eindhoven\\Documents\\Research Topics in Data Mining\\Interpretable-Subgroup-Discovery\\results_renamed'\n",
    "dct_datasets = ['Arrhythmia'] # to test <- Remove later\n",
    "categorical_datasets = ['Mushroom', 'Adult']\n",
    "for dataset in dct_datasets:\n",
    "    #Load dataframes and results\n",
    "    df_file_name = dataset+'-data-reductions.pkl'\n",
    "    results_file_name = dataset+'-results.pkl'\n",
    "    with open(os.path.join(sd_results_path,df_file_name), 'rb') as f:\n",
    "        dfs_dict =pickle.load(f)\n",
    "    with open(os.path.join(sd_results_path,results_file_name), 'rb') as f:\n",
    "        results_dict =pickle.load(f)\n",
    "    #One-hot encode vanilla dataframe if categorical\n",
    "    original_df = dfs_dict['vanilla']\n",
    "    if dataset in categorical_datasets:\n",
    "       features = [i for i in original_df.columns if i !='target']\n",
    "       OHenc = OneHotEncoder() \n",
    "       dataCategorical = OHenc.fit_transform(original_df[features]).toarray()\n",
    "       original_df = pd.DataFrame(dataCategorical)\n",
    "    #Compute and print scores and index\n",
    "    print(dataset, \":    \\n\")\n",
    "    en_methods = ['auto_encoder', 'PCA', 'SPCA']\n",
    "    ps_sd_methods = ['Apriori', 'Best-First Search', 'Depth-First Search']\n",
    "    for en_method in en_methods:\n",
    "        fcs, fcss = Feature_Correlation_Scores(original_df, dfs_dict[en_method])\n",
    "        print(en_method, \":    \", \"\\n   FCS: \", round(fcs, 2), \"    FCSS\", round(fcss, 2))\n",
    "        for sd_method in ps_sd_methods:\n",
    "            dbi = DBI_ps(results_dict[en_method][sd_method]['results_org'], dfs_dict[en_method])\n",
    "            print(\"DBI \"+sd_method+\": \", dbi)\n",
    "        subgroups_beam = [i for i in results_dict[en_method]['Beam Search']['results_org'].get_values()]\n",
    "        dbi = DBI_beam(subgroups_beam, dfs_dict[en_method])\n",
    "        print(\"DBI Beam Search: \", dbi, \"\\n\")\n",
    "    print(\"\\n\\n\")"
   ]
  },
  {
   "cell_type": "code",
   "execution_count": 13,
   "metadata": {},
   "outputs": [
    {
     "data": {
      "text/plain": [
       "[[[333, 0.9487179487179487, 58.82, 0.06939878734750526, 0.04347505296223243],\n",
       "  [338,\n",
       "   0.9629629629629629,\n",
       "   14,\n",
       "   0.039886039886039885,\n",
       "   9,\n",
       "   0.02564102564102564,\n",
       "   26.13,\n",
       "   0.04594930235955876,\n",
       "   0.013787712762071731],\n",
       "  [339,\n",
       "   0.9658119658119658,\n",
       "   13,\n",
       "   0.037037037037037035,\n",
       "   7,\n",
       "   0.019943019943019943,\n",
       "   24.13,\n",
       "   0.060194316604573,\n",
       "   0.014592738695302795],\n",
       "  [344,\n",
       "   0.98005698005698,\n",
       "   17,\n",
       "   0.04843304843304843,\n",
       "   6,\n",
       "   0.017094017094017096,\n",
       "   24.75,\n",
       "   0.05836803272700707,\n",
       "   0.013204032434801657]]]"
      ]
     },
     "execution_count": 13,
     "metadata": {},
     "output_type": "execute_result"
    }
   ],
   "source": [
    "quality_results"
   ]
  },
  {
   "cell_type": "code",
   "execution_count": 14,
   "metadata": {},
   "outputs": [
    {
     "name": "stdout",
     "output_type": "stream",
     "text": [
      "Depth-First Search :    \n",
      "\n",
      "\n",
      "Ionosphere :    \n",
      "\n",
      "coverage auto-encoding: 338, (0.9629629629629629)\n",
      "coverage no auto-encoding: 333, (0.9487179487179487)\n",
      "# rows added in subgroups: 14 (0.039886039886039885)\n",
      "# rows no longer in subgroups: 9, (0.02564102564102564)\n",
      "average subgroup size auto encoded: 26.13\n",
      "average subgroup size no auto encoding: 58.82\n",
      "WRACC auto-encoding: Max: 0.04594930235955876, Mean: 0.013787712762071731\n",
      "WRACC no auto-encoding: Max: 0.06939878734750526, Mean: 0.04347505296223243\n"
     ]
    },
    {
     "data": {
      "image/png": "[encoded data removed]",
      "text/plain": [
       "<Figure size 640x480 with 1 Axes>"
      ]
     },
     "metadata": {},
     "output_type": "display_data"
    },
    {
     "data": {
      "image/png": "[encoded data removed]",
      "text/plain": [
       "<Figure size 640x480 with 1 Axes>"
      ]
     },
     "metadata": {},
     "output_type": "display_data"
    },
    {
     "name": "stdout",
     "output_type": "stream",
     "text": [
      "auto_encoder\n",
      "coverage auto-encoding: 338, (0.9629629629629629)\n",
      "coverage no auto-encoding: 333, (0.9487179487179487)\n",
      "# rows added in subgroups: 14 (0.039886039886039885)\n",
      "# rows no longer in subgroups: 9, (0.02564102564102564)\n",
      "average subgroup size auto encoded: 26.13\n",
      "average subgroup size no auto encoding: 58.82\n",
      "WRACC auto-encoding: Max: 0.04594930235955876, Mean: 0.013787712762071731\n",
      "WRACC no auto-encoding: Max: 0.06939878734750526, Mean: 0.04347505296223243\n"
     ]
    },
    {
     "data": {
      "image/png": "[encoded data removed]",
      "text/plain": [
       "<Figure size 640x480 with 1 Axes>"
      ]
     },
     "metadata": {},
     "output_type": "display_data"
    },
    {
     "data": {
      "image/png": "[encoded data removed]",
      "text/plain": [
       "<Figure size 640x480 with 1 Axes>"
      ]
     },
     "metadata": {},
     "output_type": "display_data"
    },
    {
     "name": "stdout",
     "output_type": "stream",
     "text": [
      "PCA\n",
      "coverage auto-encoding: 339, (0.9658119658119658)\n",
      "coverage no auto-encoding: 333, (0.9487179487179487)\n",
      "# rows added in subgroups: 13 (0.037037037037037035)\n",
      "# rows no longer in subgroups: 7, (0.019943019943019943)\n",
      "average subgroup size auto encoded: 24.13\n",
      "average subgroup size no auto encoding: 58.82\n",
      "WRACC auto-encoding: Max: 0.060194316604573, Mean: 0.014592738695302795\n",
      "WRACC no auto-encoding: Max: 0.06939878734750526, Mean: 0.04347505296223243\n"
     ]
    },
    {
     "data": {
      "image/png": "[encoded data removed]",
      "text/plain": [
       "<Figure size 640x480 with 1 Axes>"
      ]
     },
     "metadata": {},
     "output_type": "display_data"
    },
    {
     "data": {
      "image/png": "[encoded data removed]",
      "text/plain": [
       "<Figure size 640x480 with 1 Axes>"
      ]
     },
     "metadata": {},
     "output_type": "display_data"
    },
    {
     "name": "stdout",
     "output_type": "stream",
     "text": [
      "SPCA\n",
      "coverage auto-encoding: 344, (0.98005698005698)\n",
      "coverage no auto-encoding: 333, (0.9487179487179487)\n",
      "# rows added in subgroups: 17 (0.04843304843304843)\n",
      "# rows no longer in subgroups: 6, (0.017094017094017096)\n",
      "average subgroup size auto encoded: 24.75\n",
      "average subgroup size no auto encoding: 58.82\n",
      "WRACC auto-encoding: Max: 0.05836803272700707, Mean: 0.013204032434801657\n",
      "WRACC no auto-encoding: Max: 0.06939878734750526, Mean: 0.04347505296223243\n"
     ]
    },
    {
     "data": {
      "image/png": "[encoded data removed]",
      "text/plain": [
       "<Figure size 640x480 with 1 Axes>"
      ]
     },
     "metadata": {},
     "output_type": "display_data"
    },
    {
     "data": {
      "image/png": "[encoded data removed]",
      "text/plain": [
       "<Figure size 640x480 with 1 Axes>"
      ]
     },
     "metadata": {},
     "output_type": "display_data"
    },
    {
     "name": "stdout",
     "output_type": "stream",
     "text": [
      "Adult :    \n",
      "\n"
     ]
    },
    {
     "ename": "UndefinedVariableError",
     "evalue": "name 'Dataset' is not defined",
     "output_type": "error",
     "traceback": [
      "\u001b[1;31m---------------------------------------------------------------------------\u001b[0m",
      "\u001b[1;31mKeyError\u001b[0m                                  Traceback (most recent call last)",
      "File \u001b[1;32mc:\\Users\\20193723\\Anaconda3\\envs\\tf\\lib\\site-packages\\pandas\\core\\computation\\scope.py:231\u001b[0m, in \u001b[0;36mScope.resolve\u001b[1;34m(self, key, is_local)\u001b[0m\n\u001b[0;32m    230\u001b[0m \u001b[38;5;28;01mif\u001b[39;00m \u001b[38;5;28mself\u001b[39m\u001b[38;5;241m.\u001b[39mhas_resolvers:\n\u001b[1;32m--> 231\u001b[0m     \u001b[38;5;28;01mreturn\u001b[39;00m \u001b[38;5;28;43mself\u001b[39;49m\u001b[38;5;241;43m.\u001b[39;49m\u001b[43mresolvers\u001b[49m\u001b[43m[\u001b[49m\u001b[43mkey\u001b[49m\u001b[43m]\u001b[49m\n\u001b[0;32m    233\u001b[0m \u001b[38;5;66;03m# if we're here that means that we have no locals and we also have\u001b[39;00m\n\u001b[0;32m    234\u001b[0m \u001b[38;5;66;03m# no resolvers\u001b[39;00m\n",
      "File \u001b[1;32mc:\\Users\\20193723\\Anaconda3\\envs\\tf\\lib\\collections\\__init__.py:941\u001b[0m, in \u001b[0;36mChainMap.__getitem__\u001b[1;34m(self, key)\u001b[0m\n\u001b[0;32m    940\u001b[0m         \u001b[38;5;28;01mpass\u001b[39;00m\n\u001b[1;32m--> 941\u001b[0m \u001b[38;5;28;01mreturn\u001b[39;00m \u001b[38;5;28;43mself\u001b[39;49m\u001b[38;5;241;43m.\u001b[39;49m\u001b[38;5;21;43m__missing__\u001b[39;49m\u001b[43m(\u001b[49m\u001b[43mkey\u001b[49m\u001b[43m)\u001b[49m\n",
      "File \u001b[1;32mc:\\Users\\20193723\\Anaconda3\\envs\\tf\\lib\\collections\\__init__.py:933\u001b[0m, in \u001b[0;36mChainMap.__missing__\u001b[1;34m(self, key)\u001b[0m\n\u001b[0;32m    932\u001b[0m \u001b[38;5;28;01mdef\u001b[39;00m \u001b[38;5;21m__missing__\u001b[39m(\u001b[38;5;28mself\u001b[39m, key):\n\u001b[1;32m--> 933\u001b[0m     \u001b[38;5;28;01mraise\u001b[39;00m \u001b[38;5;167;01mKeyError\u001b[39;00m(key)\n",
      "\u001b[1;31mKeyError\u001b[0m: 'Dataset'",
      "\nDuring handling of the above exception, another exception occurred:\n",
      "\u001b[1;31mKeyError\u001b[0m                                  Traceback (most recent call last)",
      "File \u001b[1;32mc:\\Users\\20193723\\Anaconda3\\envs\\tf\\lib\\site-packages\\pandas\\core\\computation\\scope.py:242\u001b[0m, in \u001b[0;36mScope.resolve\u001b[1;34m(self, key, is_local)\u001b[0m\n\u001b[0;32m    238\u001b[0m \u001b[38;5;28;01mtry\u001b[39;00m:\n\u001b[0;32m    239\u001b[0m     \u001b[38;5;66;03m# last ditch effort we look in temporaries\u001b[39;00m\n\u001b[0;32m    240\u001b[0m     \u001b[38;5;66;03m# these are created when parsing indexing expressions\u001b[39;00m\n\u001b[0;32m    241\u001b[0m     \u001b[38;5;66;03m# e.g., df[df > 0]\u001b[39;00m\n\u001b[1;32m--> 242\u001b[0m     \u001b[38;5;28;01mreturn\u001b[39;00m \u001b[38;5;28;43mself\u001b[39;49m\u001b[38;5;241;43m.\u001b[39;49m\u001b[43mtemps\u001b[49m\u001b[43m[\u001b[49m\u001b[43mkey\u001b[49m\u001b[43m]\u001b[49m\n\u001b[0;32m    243\u001b[0m \u001b[38;5;28;01mexcept\u001b[39;00m \u001b[38;5;167;01mKeyError\u001b[39;00m \u001b[38;5;28;01mas\u001b[39;00m err:\n",
      "\u001b[1;31mKeyError\u001b[0m: 'Dataset'",
      "\nThe above exception was the direct cause of the following exception:\n",
      "\u001b[1;31mUndefinedVariableError\u001b[0m                    Traceback (most recent call last)",
      "Cell \u001b[1;32mIn[14], line 20\u001b[0m\n\u001b[0;32m     18\u001b[0m \u001b[38;5;28mprint\u001b[39m(dataset, \u001b[38;5;124m\"\u001b[39m\u001b[38;5;124m:    \u001b[39m\u001b[38;5;130;01m\\n\u001b[39;00m\u001b[38;5;124m\"\u001b[39m)\n\u001b[0;32m     19\u001b[0m en_methods \u001b[38;5;241m=\u001b[39m [\u001b[38;5;124m'\u001b[39m\u001b[38;5;124mauto_encoder\u001b[39m\u001b[38;5;124m'\u001b[39m, \u001b[38;5;124m'\u001b[39m\u001b[38;5;124mPCA\u001b[39m\u001b[38;5;124m'\u001b[39m, \u001b[38;5;124m'\u001b[39m\u001b[38;5;124mSPCA\u001b[39m\u001b[38;5;124m'\u001b[39m]\n\u001b[1;32m---> 20\u001b[0m output_en, output \u001b[38;5;241m=\u001b[39m \u001b[43mcalc_result_ps\u001b[49m\u001b[43m(\u001b[49m\u001b[43mdfs_dict\u001b[49m\u001b[43m[\u001b[49m\u001b[38;5;124;43m'\u001b[39;49m\u001b[38;5;124;43mauto_encoder\u001b[39;49m\u001b[38;5;124;43m'\u001b[39;49m\u001b[43m]\u001b[49m\u001b[43m,\u001b[49m\u001b[43m \u001b[49m\u001b[43mdfs_dict\u001b[49m\u001b[43m[\u001b[49m\u001b[38;5;124;43m'\u001b[39;49m\u001b[38;5;124;43mvanilla\u001b[39;49m\u001b[38;5;124;43m'\u001b[39;49m\u001b[43m]\u001b[49m\u001b[43m,\u001b[49m\u001b[43m \u001b[49m\u001b[43mresults_dict\u001b[49m\u001b[43m[\u001b[49m\u001b[38;5;124;43m'\u001b[39;49m\u001b[38;5;124;43mauto_encoder\u001b[39;49m\u001b[38;5;124;43m'\u001b[39;49m\u001b[43m]\u001b[49m\u001b[43m[\u001b[49m\u001b[43msd_method\u001b[49m\u001b[43m]\u001b[49m\u001b[43m[\u001b[49m\u001b[38;5;124;43m'\u001b[39;49m\u001b[38;5;124;43mresults_org\u001b[39;49m\u001b[38;5;124;43m'\u001b[39;49m\u001b[43m]\u001b[49m\u001b[43m,\u001b[49m\u001b[43m \u001b[49m\u001b[43mresults_dict\u001b[49m\u001b[43m[\u001b[49m\u001b[38;5;124;43m'\u001b[39;49m\u001b[38;5;124;43mvanilla\u001b[39;49m\u001b[38;5;124;43m'\u001b[39;49m\u001b[43m]\u001b[49m\u001b[43m[\u001b[49m\u001b[43msd_method\u001b[49m\u001b[43m]\u001b[49m\u001b[43m[\u001b[49m\u001b[38;5;124;43m'\u001b[39;49m\u001b[38;5;124;43mresults_org\u001b[39;49m\u001b[38;5;124;43m'\u001b[39;49m\u001b[43m]\u001b[49m\u001b[43m)\u001b[49m\n\u001b[0;32m     21\u001b[0m dataset_quality_results\u001b[38;5;241m.\u001b[39mappend(output)\n\u001b[0;32m     22\u001b[0m \u001b[38;5;28;01mfor\u001b[39;00m en_method \u001b[38;5;129;01min\u001b[39;00m en_methods:\n",
      "File \u001b[1;32mc:\\Users\\20193723\\OneDrive - TU Eindhoven\\Documents\\Research Topics in Data Mining\\Interpretable-Subgroup-Discovery\\methods\\qualityMeasures.py:97\u001b[0m, in \u001b[0;36mcalc_result_ps\u001b[1;34m(df_1, df_2, results_df_1, results_df_2)\u001b[0m\n\u001b[0;32m     95\u001b[0m         splitOper \u001b[38;5;241m+\u001b[39m\u001b[38;5;241m=\u001b[39m newOpers\n\u001b[0;32m     96\u001b[0m         oper \u001b[38;5;241m=\u001b[39m \u001b[38;5;124m\"\u001b[39m\u001b[38;5;124m & \u001b[39m\u001b[38;5;124m\"\u001b[39m\u001b[38;5;241m.\u001b[39mjoin(splitOper)\n\u001b[1;32m---> 97\u001b[0m     df_1[\u001b[38;5;124m'\u001b[39m\u001b[38;5;124msubgroups_1\u001b[39m\u001b[38;5;124m'\u001b[39m] \u001b[38;5;241m+\u001b[39m\u001b[38;5;241m=\u001b[39m \u001b[43mdf_1\u001b[49m\u001b[38;5;241;43m.\u001b[39;49m\u001b[43meval\u001b[49m\u001b[43m(\u001b[49m\u001b[43moper\u001b[49m\u001b[43m)\u001b[49m\n\u001b[0;32m     98\u001b[0m s1_wracc_max \u001b[38;5;241m=\u001b[39m results_df_1[\u001b[38;5;124m'\u001b[39m\u001b[38;5;124mquality\u001b[39m\u001b[38;5;124m'\u001b[39m]\u001b[38;5;241m.\u001b[39mmax()\n\u001b[0;32m     99\u001b[0m s1_wracc_mean \u001b[38;5;241m=\u001b[39m results_df_1[\u001b[38;5;124m'\u001b[39m\u001b[38;5;124mquality\u001b[39m\u001b[38;5;124m'\u001b[39m]\u001b[38;5;241m.\u001b[39mmean()  \n",
      "File \u001b[1;32mc:\\Users\\20193723\\Anaconda3\\envs\\tf\\lib\\site-packages\\pandas\\core\\frame.py:4949\u001b[0m, in \u001b[0;36mDataFrame.eval\u001b[1;34m(self, expr, inplace, **kwargs)\u001b[0m\n\u001b[0;32m   4946\u001b[0m     kwargs[\u001b[38;5;124m\"\u001b[39m\u001b[38;5;124mtarget\u001b[39m\u001b[38;5;124m\"\u001b[39m] \u001b[38;5;241m=\u001b[39m \u001b[38;5;28mself\u001b[39m\n\u001b[0;32m   4947\u001b[0m kwargs[\u001b[38;5;124m\"\u001b[39m\u001b[38;5;124mresolvers\u001b[39m\u001b[38;5;124m\"\u001b[39m] \u001b[38;5;241m=\u001b[39m \u001b[38;5;28mtuple\u001b[39m(kwargs\u001b[38;5;241m.\u001b[39mget(\u001b[38;5;124m\"\u001b[39m\u001b[38;5;124mresolvers\u001b[39m\u001b[38;5;124m\"\u001b[39m, ())) \u001b[38;5;241m+\u001b[39m resolvers\n\u001b[1;32m-> 4949\u001b[0m \u001b[38;5;28;01mreturn\u001b[39;00m _eval(expr, inplace\u001b[38;5;241m=\u001b[39minplace, \u001b[38;5;241m*\u001b[39m\u001b[38;5;241m*\u001b[39mkwargs)\n",
      "File \u001b[1;32mc:\\Users\\20193723\\Anaconda3\\envs\\tf\\lib\\site-packages\\pandas\\core\\computation\\eval.py:336\u001b[0m, in \u001b[0;36meval\u001b[1;34m(expr, parser, engine, local_dict, global_dict, resolvers, level, target, inplace)\u001b[0m\n\u001b[0;32m    327\u001b[0m \u001b[38;5;66;03m# get our (possibly passed-in) scope\u001b[39;00m\n\u001b[0;32m    328\u001b[0m env \u001b[38;5;241m=\u001b[39m ensure_scope(\n\u001b[0;32m    329\u001b[0m     level \u001b[38;5;241m+\u001b[39m \u001b[38;5;241m1\u001b[39m,\n\u001b[0;32m    330\u001b[0m     global_dict\u001b[38;5;241m=\u001b[39mglobal_dict,\n\u001b[1;32m   (...)\u001b[0m\n\u001b[0;32m    333\u001b[0m     target\u001b[38;5;241m=\u001b[39mtarget,\n\u001b[0;32m    334\u001b[0m )\n\u001b[1;32m--> 336\u001b[0m parsed_expr \u001b[38;5;241m=\u001b[39m \u001b[43mExpr\u001b[49m\u001b[43m(\u001b[49m\u001b[43mexpr\u001b[49m\u001b[43m,\u001b[49m\u001b[43m \u001b[49m\u001b[43mengine\u001b[49m\u001b[38;5;241;43m=\u001b[39;49m\u001b[43mengine\u001b[49m\u001b[43m,\u001b[49m\u001b[43m \u001b[49m\u001b[43mparser\u001b[49m\u001b[38;5;241;43m=\u001b[39;49m\u001b[43mparser\u001b[49m\u001b[43m,\u001b[49m\u001b[43m \u001b[49m\u001b[43menv\u001b[49m\u001b[38;5;241;43m=\u001b[39;49m\u001b[43menv\u001b[49m\u001b[43m)\u001b[49m\n\u001b[0;32m    338\u001b[0m \u001b[38;5;28;01mif\u001b[39;00m engine \u001b[38;5;241m==\u001b[39m \u001b[38;5;124m\"\u001b[39m\u001b[38;5;124mnumexpr\u001b[39m\u001b[38;5;124m\"\u001b[39m \u001b[38;5;129;01mand\u001b[39;00m (\n\u001b[0;32m    339\u001b[0m     is_extension_array_dtype(parsed_expr\u001b[38;5;241m.\u001b[39mterms\u001b[38;5;241m.\u001b[39mreturn_type)\n\u001b[0;32m    340\u001b[0m     \u001b[38;5;129;01mor\u001b[39;00m \u001b[38;5;28mgetattr\u001b[39m(parsed_expr\u001b[38;5;241m.\u001b[39mterms, \u001b[38;5;124m\"\u001b[39m\u001b[38;5;124moperand_types\u001b[39m\u001b[38;5;124m\"\u001b[39m, \u001b[38;5;28;01mNone\u001b[39;00m) \u001b[38;5;129;01mis\u001b[39;00m \u001b[38;5;129;01mnot\u001b[39;00m \u001b[38;5;28;01mNone\u001b[39;00m\n\u001b[1;32m   (...)\u001b[0m\n\u001b[0;32m    344\u001b[0m     )\n\u001b[0;32m    345\u001b[0m ):\n\u001b[0;32m    346\u001b[0m     warnings\u001b[38;5;241m.\u001b[39mwarn(\n\u001b[0;32m    347\u001b[0m         \u001b[38;5;124m\"\u001b[39m\u001b[38;5;124mEngine has switched to \u001b[39m\u001b[38;5;124m'\u001b[39m\u001b[38;5;124mpython\u001b[39m\u001b[38;5;124m'\u001b[39m\u001b[38;5;124m because numexpr does not support \u001b[39m\u001b[38;5;124m\"\u001b[39m\n\u001b[0;32m    348\u001b[0m         \u001b[38;5;124m\"\u001b[39m\u001b[38;5;124mextension array dtypes. Please set your engine to python manually.\u001b[39m\u001b[38;5;124m\"\u001b[39m,\n\u001b[0;32m    349\u001b[0m         \u001b[38;5;167;01mRuntimeWarning\u001b[39;00m,\n\u001b[0;32m    350\u001b[0m         stacklevel\u001b[38;5;241m=\u001b[39mfind_stack_level(),\n\u001b[0;32m    351\u001b[0m     )\n",
      "File \u001b[1;32mc:\\Users\\20193723\\Anaconda3\\envs\\tf\\lib\\site-packages\\pandas\\core\\computation\\expr.py:805\u001b[0m, in \u001b[0;36mExpr.__init__\u001b[1;34m(self, expr, engine, parser, env, level)\u001b[0m\n\u001b[0;32m    803\u001b[0m \u001b[38;5;28mself\u001b[39m\u001b[38;5;241m.\u001b[39mparser \u001b[38;5;241m=\u001b[39m parser\n\u001b[0;32m    804\u001b[0m \u001b[38;5;28mself\u001b[39m\u001b[38;5;241m.\u001b[39m_visitor \u001b[38;5;241m=\u001b[39m PARSERS[parser](\u001b[38;5;28mself\u001b[39m\u001b[38;5;241m.\u001b[39menv, \u001b[38;5;28mself\u001b[39m\u001b[38;5;241m.\u001b[39mengine, \u001b[38;5;28mself\u001b[39m\u001b[38;5;241m.\u001b[39mparser)\n\u001b[1;32m--> 805\u001b[0m \u001b[38;5;28mself\u001b[39m\u001b[38;5;241m.\u001b[39mterms \u001b[38;5;241m=\u001b[39m \u001b[38;5;28;43mself\u001b[39;49m\u001b[38;5;241;43m.\u001b[39;49m\u001b[43mparse\u001b[49m\u001b[43m(\u001b[49m\u001b[43m)\u001b[49m\n",
      "File \u001b[1;32mc:\\Users\\20193723\\Anaconda3\\envs\\tf\\lib\\site-packages\\pandas\\core\\computation\\expr.py:824\u001b[0m, in \u001b[0;36mExpr.parse\u001b[1;34m(self)\u001b[0m\n\u001b[0;32m    820\u001b[0m \u001b[38;5;28;01mdef\u001b[39;00m \u001b[38;5;21mparse\u001b[39m(\u001b[38;5;28mself\u001b[39m):\n\u001b[0;32m    821\u001b[0m \u001b[38;5;250m    \u001b[39m\u001b[38;5;124;03m\"\"\"\u001b[39;00m\n\u001b[0;32m    822\u001b[0m \u001b[38;5;124;03m    Parse an expression.\u001b[39;00m\n\u001b[0;32m    823\u001b[0m \u001b[38;5;124;03m    \"\"\"\u001b[39;00m\n\u001b[1;32m--> 824\u001b[0m     \u001b[38;5;28;01mreturn\u001b[39;00m \u001b[38;5;28;43mself\u001b[39;49m\u001b[38;5;241;43m.\u001b[39;49m\u001b[43m_visitor\u001b[49m\u001b[38;5;241;43m.\u001b[39;49m\u001b[43mvisit\u001b[49m\u001b[43m(\u001b[49m\u001b[38;5;28;43mself\u001b[39;49m\u001b[38;5;241;43m.\u001b[39;49m\u001b[43mexpr\u001b[49m\u001b[43m)\u001b[49m\n",
      "File \u001b[1;32mc:\\Users\\20193723\\Anaconda3\\envs\\tf\\lib\\site-packages\\pandas\\core\\computation\\expr.py:411\u001b[0m, in \u001b[0;36mBaseExprVisitor.visit\u001b[1;34m(self, node, **kwargs)\u001b[0m\n\u001b[0;32m    409\u001b[0m method \u001b[38;5;241m=\u001b[39m \u001b[38;5;124mf\u001b[39m\u001b[38;5;124m\"\u001b[39m\u001b[38;5;124mvisit_\u001b[39m\u001b[38;5;132;01m{\u001b[39;00m\u001b[38;5;28mtype\u001b[39m(node)\u001b[38;5;241m.\u001b[39m\u001b[38;5;18m__name__\u001b[39m\u001b[38;5;132;01m}\u001b[39;00m\u001b[38;5;124m\"\u001b[39m\n\u001b[0;32m    410\u001b[0m visitor \u001b[38;5;241m=\u001b[39m \u001b[38;5;28mgetattr\u001b[39m(\u001b[38;5;28mself\u001b[39m, method)\n\u001b[1;32m--> 411\u001b[0m \u001b[38;5;28;01mreturn\u001b[39;00m visitor(node, \u001b[38;5;241m*\u001b[39m\u001b[38;5;241m*\u001b[39mkwargs)\n",
      "File \u001b[1;32mc:\\Users\\20193723\\Anaconda3\\envs\\tf\\lib\\site-packages\\pandas\\core\\computation\\expr.py:417\u001b[0m, in \u001b[0;36mBaseExprVisitor.visit_Module\u001b[1;34m(self, node, **kwargs)\u001b[0m\n\u001b[0;32m    415\u001b[0m     \u001b[38;5;28;01mraise\u001b[39;00m \u001b[38;5;167;01mSyntaxError\u001b[39;00m(\u001b[38;5;124m\"\u001b[39m\u001b[38;5;124monly a single expression is allowed\u001b[39m\u001b[38;5;124m\"\u001b[39m)\n\u001b[0;32m    416\u001b[0m expr \u001b[38;5;241m=\u001b[39m node\u001b[38;5;241m.\u001b[39mbody[\u001b[38;5;241m0\u001b[39m]\n\u001b[1;32m--> 417\u001b[0m \u001b[38;5;28;01mreturn\u001b[39;00m \u001b[38;5;28mself\u001b[39m\u001b[38;5;241m.\u001b[39mvisit(expr, \u001b[38;5;241m*\u001b[39m\u001b[38;5;241m*\u001b[39mkwargs)\n",
      "File \u001b[1;32mc:\\Users\\20193723\\Anaconda3\\envs\\tf\\lib\\site-packages\\pandas\\core\\computation\\expr.py:411\u001b[0m, in \u001b[0;36mBaseExprVisitor.visit\u001b[1;34m(self, node, **kwargs)\u001b[0m\n\u001b[0;32m    409\u001b[0m method \u001b[38;5;241m=\u001b[39m \u001b[38;5;124mf\u001b[39m\u001b[38;5;124m\"\u001b[39m\u001b[38;5;124mvisit_\u001b[39m\u001b[38;5;132;01m{\u001b[39;00m\u001b[38;5;28mtype\u001b[39m(node)\u001b[38;5;241m.\u001b[39m\u001b[38;5;18m__name__\u001b[39m\u001b[38;5;132;01m}\u001b[39;00m\u001b[38;5;124m\"\u001b[39m\n\u001b[0;32m    410\u001b[0m visitor \u001b[38;5;241m=\u001b[39m \u001b[38;5;28mgetattr\u001b[39m(\u001b[38;5;28mself\u001b[39m, method)\n\u001b[1;32m--> 411\u001b[0m \u001b[38;5;28;01mreturn\u001b[39;00m visitor(node, \u001b[38;5;241m*\u001b[39m\u001b[38;5;241m*\u001b[39mkwargs)\n",
      "File \u001b[1;32mc:\\Users\\20193723\\Anaconda3\\envs\\tf\\lib\\site-packages\\pandas\\core\\computation\\expr.py:420\u001b[0m, in \u001b[0;36mBaseExprVisitor.visit_Expr\u001b[1;34m(self, node, **kwargs)\u001b[0m\n\u001b[0;32m    419\u001b[0m \u001b[38;5;28;01mdef\u001b[39;00m \u001b[38;5;21mvisit_Expr\u001b[39m(\u001b[38;5;28mself\u001b[39m, node, \u001b[38;5;241m*\u001b[39m\u001b[38;5;241m*\u001b[39mkwargs):\n\u001b[1;32m--> 420\u001b[0m     \u001b[38;5;28;01mreturn\u001b[39;00m \u001b[38;5;28mself\u001b[39m\u001b[38;5;241m.\u001b[39mvisit(node\u001b[38;5;241m.\u001b[39mvalue, \u001b[38;5;241m*\u001b[39m\u001b[38;5;241m*\u001b[39mkwargs)\n",
      "File \u001b[1;32mc:\\Users\\20193723\\Anaconda3\\envs\\tf\\lib\\site-packages\\pandas\\core\\computation\\expr.py:411\u001b[0m, in \u001b[0;36mBaseExprVisitor.visit\u001b[1;34m(self, node, **kwargs)\u001b[0m\n\u001b[0;32m    409\u001b[0m method \u001b[38;5;241m=\u001b[39m \u001b[38;5;124mf\u001b[39m\u001b[38;5;124m\"\u001b[39m\u001b[38;5;124mvisit_\u001b[39m\u001b[38;5;132;01m{\u001b[39;00m\u001b[38;5;28mtype\u001b[39m(node)\u001b[38;5;241m.\u001b[39m\u001b[38;5;18m__name__\u001b[39m\u001b[38;5;132;01m}\u001b[39;00m\u001b[38;5;124m\"\u001b[39m\n\u001b[0;32m    410\u001b[0m visitor \u001b[38;5;241m=\u001b[39m \u001b[38;5;28mgetattr\u001b[39m(\u001b[38;5;28mself\u001b[39m, method)\n\u001b[1;32m--> 411\u001b[0m \u001b[38;5;28;01mreturn\u001b[39;00m visitor(node, \u001b[38;5;241m*\u001b[39m\u001b[38;5;241m*\u001b[39mkwargs)\n",
      "File \u001b[1;32mc:\\Users\\20193723\\Anaconda3\\envs\\tf\\lib\\site-packages\\pandas\\core\\computation\\expr.py:541\u001b[0m, in \u001b[0;36mBaseExprVisitor.visit_Name\u001b[1;34m(self, node, **kwargs)\u001b[0m\n\u001b[0;32m    540\u001b[0m \u001b[38;5;28;01mdef\u001b[39;00m \u001b[38;5;21mvisit_Name\u001b[39m(\u001b[38;5;28mself\u001b[39m, node, \u001b[38;5;241m*\u001b[39m\u001b[38;5;241m*\u001b[39mkwargs) \u001b[38;5;241m-\u001b[39m\u001b[38;5;241m>\u001b[39m Term:\n\u001b[1;32m--> 541\u001b[0m     \u001b[38;5;28;01mreturn\u001b[39;00m \u001b[38;5;28mself\u001b[39m\u001b[38;5;241m.\u001b[39mterm_type(node\u001b[38;5;241m.\u001b[39mid, \u001b[38;5;28mself\u001b[39m\u001b[38;5;241m.\u001b[39menv, \u001b[38;5;241m*\u001b[39m\u001b[38;5;241m*\u001b[39mkwargs)\n",
      "File \u001b[1;32mc:\\Users\\20193723\\Anaconda3\\envs\\tf\\lib\\site-packages\\pandas\\core\\computation\\ops.py:91\u001b[0m, in \u001b[0;36mTerm.__init__\u001b[1;34m(self, name, env, side, encoding)\u001b[0m\n\u001b[0;32m     89\u001b[0m tname \u001b[38;5;241m=\u001b[39m \u001b[38;5;28mstr\u001b[39m(name)\n\u001b[0;32m     90\u001b[0m \u001b[38;5;28mself\u001b[39m\u001b[38;5;241m.\u001b[39mis_local \u001b[38;5;241m=\u001b[39m tname\u001b[38;5;241m.\u001b[39mstartswith(LOCAL_TAG) \u001b[38;5;129;01mor\u001b[39;00m tname \u001b[38;5;129;01min\u001b[39;00m DEFAULT_GLOBALS\n\u001b[1;32m---> 91\u001b[0m \u001b[38;5;28mself\u001b[39m\u001b[38;5;241m.\u001b[39m_value \u001b[38;5;241m=\u001b[39m \u001b[38;5;28;43mself\u001b[39;49m\u001b[38;5;241;43m.\u001b[39;49m\u001b[43m_resolve_name\u001b[49m\u001b[43m(\u001b[49m\u001b[43m)\u001b[49m\n\u001b[0;32m     92\u001b[0m \u001b[38;5;28mself\u001b[39m\u001b[38;5;241m.\u001b[39mencoding \u001b[38;5;241m=\u001b[39m encoding\n",
      "File \u001b[1;32mc:\\Users\\20193723\\Anaconda3\\envs\\tf\\lib\\site-packages\\pandas\\core\\computation\\ops.py:115\u001b[0m, in \u001b[0;36mTerm._resolve_name\u001b[1;34m(self)\u001b[0m\n\u001b[0;32m    110\u001b[0m \u001b[38;5;28;01mif\u001b[39;00m local_name \u001b[38;5;129;01min\u001b[39;00m \u001b[38;5;28mself\u001b[39m\u001b[38;5;241m.\u001b[39menv\u001b[38;5;241m.\u001b[39mscope \u001b[38;5;129;01mand\u001b[39;00m \u001b[38;5;28misinstance\u001b[39m(\n\u001b[0;32m    111\u001b[0m     \u001b[38;5;28mself\u001b[39m\u001b[38;5;241m.\u001b[39menv\u001b[38;5;241m.\u001b[39mscope[local_name], \u001b[38;5;28mtype\u001b[39m\n\u001b[0;32m    112\u001b[0m ):\n\u001b[0;32m    113\u001b[0m     is_local \u001b[38;5;241m=\u001b[39m \u001b[38;5;28;01mFalse\u001b[39;00m\n\u001b[1;32m--> 115\u001b[0m res \u001b[38;5;241m=\u001b[39m \u001b[38;5;28;43mself\u001b[39;49m\u001b[38;5;241;43m.\u001b[39;49m\u001b[43menv\u001b[49m\u001b[38;5;241;43m.\u001b[39;49m\u001b[43mresolve\u001b[49m\u001b[43m(\u001b[49m\u001b[43mlocal_name\u001b[49m\u001b[43m,\u001b[49m\u001b[43m \u001b[49m\u001b[43mis_local\u001b[49m\u001b[38;5;241;43m=\u001b[39;49m\u001b[43mis_local\u001b[49m\u001b[43m)\u001b[49m\n\u001b[0;32m    116\u001b[0m \u001b[38;5;28mself\u001b[39m\u001b[38;5;241m.\u001b[39mupdate(res)\n\u001b[0;32m    118\u001b[0m \u001b[38;5;28;01mif\u001b[39;00m \u001b[38;5;28mhasattr\u001b[39m(res, \u001b[38;5;124m\"\u001b[39m\u001b[38;5;124mndim\u001b[39m\u001b[38;5;124m\"\u001b[39m) \u001b[38;5;129;01mand\u001b[39;00m res\u001b[38;5;241m.\u001b[39mndim \u001b[38;5;241m>\u001b[39m \u001b[38;5;241m2\u001b[39m:\n",
      "File \u001b[1;32mc:\\Users\\20193723\\Anaconda3\\envs\\tf\\lib\\site-packages\\pandas\\core\\computation\\scope.py:244\u001b[0m, in \u001b[0;36mScope.resolve\u001b[1;34m(self, key, is_local)\u001b[0m\n\u001b[0;32m    242\u001b[0m     \u001b[38;5;28;01mreturn\u001b[39;00m \u001b[38;5;28mself\u001b[39m\u001b[38;5;241m.\u001b[39mtemps[key]\n\u001b[0;32m    243\u001b[0m \u001b[38;5;28;01mexcept\u001b[39;00m \u001b[38;5;167;01mKeyError\u001b[39;00m \u001b[38;5;28;01mas\u001b[39;00m err:\n\u001b[1;32m--> 244\u001b[0m     \u001b[38;5;28;01mraise\u001b[39;00m UndefinedVariableError(key, is_local) \u001b[38;5;28;01mfrom\u001b[39;00m \u001b[38;5;21;01merr\u001b[39;00m\n",
      "\u001b[1;31mUndefinedVariableError\u001b[0m: name 'Dataset' is not defined"
     ]
    }
   ],
   "source": [
    "sd_method = 'Depth-First Search'\n",
    "print(sd_method, \":    \\n\\n\")\n",
    "sd_results_path = r'C:\\Users\\20193723\\OneDrive - TU Eindhoven\\Documents\\Research Topics in Data Mining\\Interpretable-Subgroup-Discovery\\results_renamed'\n",
    "dct_datasets = ['Ionosphere', 'Adult'] # to test <- Remove later\n",
    "categorical_datasets = ['Mushroom', 'Adult']\n",
    "quality_results = []\n",
    "quality_results_columns = []\n",
    "for dataset in dct_datasets:\n",
    "    dataset_quality_results = []\n",
    "    #Load dataframes and results\n",
    "    df_file_name = dataset+'-data-reductions.pkl'\n",
    "    results_file_name = dataset+'-results.pkl'\n",
    "    with open(os.path.join(sd_results_path,df_file_name), 'rb') as f:\n",
    "        dfs_dict =pickle.load(f)\n",
    "    with open(os.path.join(sd_results_path,results_file_name), 'rb') as f:\n",
    "        results_dict =pickle.load(f)\n",
    "    if sd_method != 'Beam Search':\n",
    "        print(dataset, \":    \\n\")\n",
    "        en_methods = ['auto_encoder', 'PCA', 'SPCA']\n",
    "        output_en, output = calc_result_ps(dfs_dict['auto_encoder'], dfs_dict['vanilla'], results_dict['auto_encoder'][sd_method]['results_org'], results_dict['vanilla'][sd_method]['results_org'])\n",
    "        dataset_quality_results.append(output)\n",
    "        for en_method in en_methods:\n",
    "            print(en_method)\n",
    "            output_en, output = calc_result_ps(dfs_dict[en_method], dfs_dict['vanilla'], results_dict[en_method][sd_method]['results_org'], results_dict['vanilla'][sd_method]['results_org'])\n",
    "            dataset_quality_results.append(output_en)\n",
    "    columns = ['Vanilla', 'Auto Encoder', 'PCA', 'SPCA']\n",
    "    quality_results.append(dataset_quality_results)\n",
    "    quality_results_columns.append(columns)\n",
    "        \n",
    "    \n",
    "    \n"
   ]
  },
  {
   "cell_type": "code",
   "execution_count": 3,
   "metadata": {},
   "outputs": [
    {
     "ename": "NameError",
     "evalue": "name 'dfs_dict' is not defined",
     "output_type": "error",
     "traceback": [
      "\u001b[1;31m---------------------------------------------------------------------------\u001b[0m",
      "\u001b[1;31mNameError\u001b[0m                                 Traceback (most recent call last)",
      "Cell \u001b[1;32mIn[3], line 1\u001b[0m\n\u001b[1;32m----> 1\u001b[0m calc_result_ps(\u001b[43mdfs_dict\u001b[49m[\u001b[38;5;124m'\u001b[39m\u001b[38;5;124mauto_encoder\u001b[39m\u001b[38;5;124m'\u001b[39m], dfs_dict[\u001b[38;5;124m'\u001b[39m\u001b[38;5;124mvanilla\u001b[39m\u001b[38;5;124m'\u001b[39m], results_dict[\u001b[38;5;124m'\u001b[39m\u001b[38;5;124mauto_encoder\u001b[39m\u001b[38;5;124m'\u001b[39m][sd_method][\u001b[38;5;124m'\u001b[39m\u001b[38;5;124mresults_org\u001b[39m\u001b[38;5;124m'\u001b[39m], results_dict[\u001b[38;5;124m'\u001b[39m\u001b[38;5;124mvanilla\u001b[39m\u001b[38;5;124m'\u001b[39m][sd_method][\u001b[38;5;124m'\u001b[39m\u001b[38;5;124mresults_org\u001b[39m\u001b[38;5;124m'\u001b[39m])\n",
      "\u001b[1;31mNameError\u001b[0m: name 'dfs_dict' is not defined"
     ]
    }
   ],
   "source": [
    "calc_result_ps(dfs_dict['auto_encoder'], dfs_dict['vanilla'], results_dict['auto_encoder'][sd_method]['results_org'], results_dict['vanilla'][sd_method]['results_org'])"
   ]
  },
  {
   "cell_type": "code",
   "execution_count": null,
   "metadata": {},
   "outputs": [],
   "source": []
  }
 ],
 "metadata": {
  "kernelspec": {
   "display_name": "tf",
   "language": "python",
   "name": "python3"
  },
  "language_info": {
   "codemirror_mode": {
    "name": "ipython",
    "version": 3
   },
   "file_extension": ".py",
   "mimetype": "text/x-python",
   "name": "python",
   "nbconvert_exporter": "python",
   "pygments_lexer": "ipython3",
   "version": "3.9.20"
  }
 },
 "nbformat": 4,
 "nbformat_minor": 2
}
